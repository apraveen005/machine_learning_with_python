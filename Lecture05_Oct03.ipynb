{
  "nbformat": 4,
  "nbformat_minor": 0,
  "metadata": {
    "colab": {
      "name": "Lecture05-Oct03.ipynb",
      "provenance": [],
      "collapsed_sections": [],
      "authorship_tag": "ABX9TyM5sQWK+N2E6P15UUpKyOAE",
      "include_colab_link": true
    },
    "kernelspec": {
      "name": "python3",
      "display_name": "Python 3"
    }
  },
  "cells": [
    {
      "cell_type": "markdown",
      "metadata": {
        "id": "view-in-github",
        "colab_type": "text"
      },
      "source": [
        "<a href=\"https://colab.research.google.com/github/apraveen005/machine_learning_with_python/blob/master/Lecture05_Oct03.ipynb\" target=\"_parent\"><img src=\"https://colab.research.google.com/assets/colab-badge.svg\" alt=\"Open In Colab\"/></a>"
      ]
    },
    {
      "cell_type": "code",
      "metadata": {
        "id": "V3pMvmVAtPEA",
        "colab": {
          "base_uri": "https://localhost:8080/",
          "height": 34
        },
        "outputId": "e77061ba-29cd-4733-c89e-07952ee454fe"
      },
      "source": [
        "room='kit'\n",
        "room=='kit'"
      ],
      "execution_count": null,
      "outputs": [
        {
          "output_type": "execute_result",
          "data": {
            "text/plain": [
              "True"
            ]
          },
          "metadata": {
            "tags": []
          },
          "execution_count": 6
        }
      ]
    },
    {
      "cell_type": "code",
      "metadata": {
        "id": "5GkaFAYdtmme",
        "colab": {
          "base_uri": "https://localhost:8080/",
          "height": 51
        },
        "outputId": "ef02a0d5-76a7-4751-c705-dcdd096c76a6"
      },
      "source": [
        "if room=='kit':\n",
        "  print('looking around the kitchen')\n",
        "print('this is outside of if')"
      ],
      "execution_count": null,
      "outputs": [
        {
          "output_type": "stream",
          "text": [
            "looking around the kitchen\n",
            "this is outside of if\n"
          ],
          "name": "stdout"
        }
      ]
    },
    {
      "cell_type": "code",
      "metadata": {
        "id": "tQ_Bvfh_uOV4"
      },
      "source": [
        "area=14.0\n",
        "if area>15:\n",
        "  print('big place')"
      ],
      "execution_count": null,
      "outputs": []
    },
    {
      "cell_type": "code",
      "metadata": {
        "id": "JEgtocy5v4BE",
        "colab": {
          "base_uri": "https://localhost:8080/",
          "height": 34
        },
        "outputId": "ce16f638-09da-4749-fc3d-b496936b5f56"
      },
      "source": [
        "room='bed'\n",
        "if room=='kit':\n",
        "  print('looking around the kitchen')\n",
        "else:\n",
        "  print('looking around in the bedroom')\n"
      ],
      "execution_count": null,
      "outputs": [
        {
          "output_type": "stream",
          "text": [
            "looking around in the bedroom\n"
          ],
          "name": "stdout"
        }
      ]
    },
    {
      "cell_type": "code",
      "metadata": {
        "id": "0cX8GT_pwZad",
        "colab": {
          "base_uri": "https://localhost:8080/",
          "height": 34
        },
        "outputId": "4d3b1ff9-8edb-4e71-8e87-c76642ff9eb7"
      },
      "source": [
        "if area>15:\n",
        "  print('big place')\n",
        "else:\n",
        "    print('pretty small')"
      ],
      "execution_count": null,
      "outputs": [
        {
          "output_type": "stream",
          "text": [
            "pretty small\n"
          ],
          "name": "stdout"
        }
      ]
    },
    {
      "cell_type": "code",
      "metadata": {
        "id": "S8QTGBzZwpOu",
        "colab": {
          "base_uri": "https://localhost:8080/",
          "height": 34
        },
        "outputId": "d55c863f-2042-40b4-ca65-bc9c1b8fc819"
      },
      "source": [
        "if area>15:\n",
        "  print('big place')\n",
        "elif room=='bed':\n",
        "  print('looking around the bedroom')\n",
        "else:\n",
        "    print('pretty small')"
      ],
      "execution_count": null,
      "outputs": [
        {
          "output_type": "stream",
          "text": [
            "looking around the bedroom\n"
          ],
          "name": "stdout"
        }
      ]
    },
    {
      "cell_type": "code",
      "metadata": {
        "id": "mW0x-rmpw_T8",
        "colab": {
          "base_uri": "https://localhost:8080/",
          "height": 34
        },
        "outputId": "1e5fb554-94c7-4ec2-c533-107afba1d47e"
      },
      "source": [
        "if area>15:\n",
        "  print('big place')\n",
        "elif area>10:\n",
        "  print('medium size')\n",
        "elif area==14:\n",
        "  print('it is equal to 14')\n",
        "else:\n",
        "    print('pretty small')\n"
      ],
      "execution_count": null,
      "outputs": [
        {
          "output_type": "stream",
          "text": [
            "medium size\n"
          ],
          "name": "stdout"
        }
      ]
    },
    {
      "cell_type": "markdown",
      "metadata": {
        "id": "uQcxlMxPz5A7"
      },
      "source": [
        "1.Get a series\n",
        "2.Get a boolean series ( by using bcondition)\n",
        "3.surround with dataframename(the code used uptil second step)"
      ]
    },
    {
      "cell_type": "code",
      "metadata": {
        "id": "Iv7Bwa3n1Fof"
      },
      "source": [
        ""
      ],
      "execution_count": null,
      "outputs": []
    },
    {
      "cell_type": "code",
      "metadata": {
        "id": "ieYCEsJ-xSKc",
        "colab": {
          "base_uri": "https://localhost:8080/",
          "height": 204
        },
        "outputId": "b508dc56-e2cc-4d98-e596-1e3d9c6b5c56"
      },
      "source": [
        "import pandas as pd\n",
        "df=pd.read_csv('runs.csv')\n",
        "df  "
      ],
      "execution_count": null,
      "outputs": [
        {
          "output_type": "execute_result",
          "data": {
            "text/html": [
              "<div>\n",
              "<style scoped>\n",
              "    .dataframe tbody tr th:only-of-type {\n",
              "        vertical-align: middle;\n",
              "    }\n",
              "\n",
              "    .dataframe tbody tr th {\n",
              "        vertical-align: top;\n",
              "    }\n",
              "\n",
              "    .dataframe thead th {\n",
              "        text-align: right;\n",
              "    }\n",
              "</style>\n",
              "<table border=\"1\" class=\"dataframe\">\n",
              "  <thead>\n",
              "    <tr style=\"text-align: right;\">\n",
              "      <th></th>\n",
              "      <th>name</th>\n",
              "      <th>age</th>\n",
              "      <th>runs</th>\n",
              "      <th>country</th>\n",
              "    </tr>\n",
              "  </thead>\n",
              "  <tbody>\n",
              "    <tr>\n",
              "      <th>0</th>\n",
              "      <td>rohit</td>\n",
              "      <td>22</td>\n",
              "      <td>55</td>\n",
              "      <td>india</td>\n",
              "    </tr>\n",
              "    <tr>\n",
              "      <th>1</th>\n",
              "      <td>kohli</td>\n",
              "      <td>44</td>\n",
              "      <td>77</td>\n",
              "      <td>pakistan</td>\n",
              "    </tr>\n",
              "    <tr>\n",
              "      <th>2</th>\n",
              "      <td>rup</td>\n",
              "      <td>33</td>\n",
              "      <td>66</td>\n",
              "      <td>america</td>\n",
              "    </tr>\n",
              "    <tr>\n",
              "      <th>3</th>\n",
              "      <td>msd</td>\n",
              "      <td>40</td>\n",
              "      <td>99</td>\n",
              "      <td>india</td>\n",
              "    </tr>\n",
              "    <tr>\n",
              "      <th>4</th>\n",
              "      <td>pandey</td>\n",
              "      <td>55</td>\n",
              "      <td>88</td>\n",
              "      <td>austraila</td>\n",
              "    </tr>\n",
              "  </tbody>\n",
              "</table>\n",
              "</div>"
            ],
            "text/plain": [
              "     name  age  runs    country\n",
              "0   rohit   22    55      india\n",
              "1   kohli   44    77   pakistan\n",
              "2     rup   33    66    america\n",
              "3     msd   40    99      india\n",
              "4  pandey   55    88  austraila"
            ]
          },
          "metadata": {
            "tags": []
          },
          "execution_count": 33
        }
      ]
    },
    {
      "cell_type": "code",
      "metadata": {
        "id": "MvC6Qs8Z1NGg",
        "colab": {
          "base_uri": "https://localhost:8080/",
          "height": 119
        },
        "outputId": "a09235dc-3d73-42ba-9487-36fe49656894"
      },
      "source": [
        "df['age']"
      ],
      "execution_count": null,
      "outputs": [
        {
          "output_type": "execute_result",
          "data": {
            "text/plain": [
              "0    22\n",
              "1    44\n",
              "2    33\n",
              "3    40\n",
              "4    55\n",
              "Name: age, dtype: int64"
            ]
          },
          "metadata": {
            "tags": []
          },
          "execution_count": 37
        }
      ]
    },
    {
      "cell_type": "code",
      "metadata": {
        "id": "kc7N7nn_2uA1",
        "colab": {
          "base_uri": "https://localhost:8080/",
          "height": 119
        },
        "outputId": "3c85e28b-0983-4c4d-d7e2-ed547bc45cdc"
      },
      "source": [
        "df['age']>30"
      ],
      "execution_count": null,
      "outputs": [
        {
          "output_type": "execute_result",
          "data": {
            "text/plain": [
              "0    False\n",
              "1     True\n",
              "2     True\n",
              "3     True\n",
              "4     True\n",
              "Name: age, dtype: bool"
            ]
          },
          "metadata": {
            "tags": []
          },
          "execution_count": 41
        }
      ]
    },
    {
      "cell_type": "code",
      "metadata": {
        "id": "ajQDjp1C216k",
        "colab": {
          "base_uri": "https://localhost:8080/",
          "height": 173
        },
        "outputId": "55e5f32c-81b3-4b84-d629-2338f54b1403"
      },
      "source": [
        "df[df['age']>30]"
      ],
      "execution_count": null,
      "outputs": [
        {
          "output_type": "execute_result",
          "data": {
            "text/html": [
              "<div>\n",
              "<style scoped>\n",
              "    .dataframe tbody tr th:only-of-type {\n",
              "        vertical-align: middle;\n",
              "    }\n",
              "\n",
              "    .dataframe tbody tr th {\n",
              "        vertical-align: top;\n",
              "    }\n",
              "\n",
              "    .dataframe thead th {\n",
              "        text-align: right;\n",
              "    }\n",
              "</style>\n",
              "<table border=\"1\" class=\"dataframe\">\n",
              "  <thead>\n",
              "    <tr style=\"text-align: right;\">\n",
              "      <th></th>\n",
              "      <th>name</th>\n",
              "      <th>age</th>\n",
              "      <th>runs</th>\n",
              "      <th>country</th>\n",
              "    </tr>\n",
              "  </thead>\n",
              "  <tbody>\n",
              "    <tr>\n",
              "      <th>1</th>\n",
              "      <td>kohli</td>\n",
              "      <td>44</td>\n",
              "      <td>77</td>\n",
              "      <td>pakistan</td>\n",
              "    </tr>\n",
              "    <tr>\n",
              "      <th>2</th>\n",
              "      <td>rup</td>\n",
              "      <td>33</td>\n",
              "      <td>66</td>\n",
              "      <td>america</td>\n",
              "    </tr>\n",
              "    <tr>\n",
              "      <th>3</th>\n",
              "      <td>msd</td>\n",
              "      <td>40</td>\n",
              "      <td>99</td>\n",
              "      <td>india</td>\n",
              "    </tr>\n",
              "    <tr>\n",
              "      <th>4</th>\n",
              "      <td>pandey</td>\n",
              "      <td>55</td>\n",
              "      <td>88</td>\n",
              "      <td>austraila</td>\n",
              "    </tr>\n",
              "  </tbody>\n",
              "</table>\n",
              "</div>"
            ],
            "text/plain": [
              "     name  age  runs    country\n",
              "1   kohli   44    77   pakistan\n",
              "2     rup   33    66    america\n",
              "3     msd   40    99      india\n",
              "4  pandey   55    88  austraila"
            ]
          },
          "metadata": {
            "tags": []
          },
          "execution_count": 40
        }
      ]
    },
    {
      "cell_type": "code",
      "metadata": {
        "id": "us8RUKhF3RA6",
        "colab": {
          "base_uri": "https://localhost:8080/",
          "height": 204
        },
        "outputId": "cf2f3fed-ba00-48ab-fd61-1dfefd193087"
      },
      "source": [
        "df\n"
      ],
      "execution_count": null,
      "outputs": [
        {
          "output_type": "execute_result",
          "data": {
            "text/html": [
              "<div>\n",
              "<style scoped>\n",
              "    .dataframe tbody tr th:only-of-type {\n",
              "        vertical-align: middle;\n",
              "    }\n",
              "\n",
              "    .dataframe tbody tr th {\n",
              "        vertical-align: top;\n",
              "    }\n",
              "\n",
              "    .dataframe thead th {\n",
              "        text-align: right;\n",
              "    }\n",
              "</style>\n",
              "<table border=\"1\" class=\"dataframe\">\n",
              "  <thead>\n",
              "    <tr style=\"text-align: right;\">\n",
              "      <th></th>\n",
              "      <th>name</th>\n",
              "      <th>age</th>\n",
              "      <th>runs</th>\n",
              "      <th>country</th>\n",
              "    </tr>\n",
              "  </thead>\n",
              "  <tbody>\n",
              "    <tr>\n",
              "      <th>0</th>\n",
              "      <td>rohit</td>\n",
              "      <td>22</td>\n",
              "      <td>55</td>\n",
              "      <td>india</td>\n",
              "    </tr>\n",
              "    <tr>\n",
              "      <th>1</th>\n",
              "      <td>kohli</td>\n",
              "      <td>44</td>\n",
              "      <td>77</td>\n",
              "      <td>pakistan</td>\n",
              "    </tr>\n",
              "    <tr>\n",
              "      <th>2</th>\n",
              "      <td>rup</td>\n",
              "      <td>33</td>\n",
              "      <td>66</td>\n",
              "      <td>america</td>\n",
              "    </tr>\n",
              "    <tr>\n",
              "      <th>3</th>\n",
              "      <td>msd</td>\n",
              "      <td>40</td>\n",
              "      <td>99</td>\n",
              "      <td>india</td>\n",
              "    </tr>\n",
              "    <tr>\n",
              "      <th>4</th>\n",
              "      <td>pandey</td>\n",
              "      <td>55</td>\n",
              "      <td>88</td>\n",
              "      <td>austraila</td>\n",
              "    </tr>\n",
              "  </tbody>\n",
              "</table>\n",
              "</div>"
            ],
            "text/plain": [
              "     name  age  runs    country\n",
              "0   rohit   22    55      india\n",
              "1   kohli   44    77   pakistan\n",
              "2     rup   33    66    america\n",
              "3     msd   40    99      india\n",
              "4  pandey   55    88  austraila"
            ]
          },
          "metadata": {
            "tags": []
          },
          "execution_count": 42
        }
      ]
    },
    {
      "cell_type": "code",
      "metadata": {
        "id": "7S0UvhD03bDB",
        "colab": {
          "base_uri": "https://localhost:8080/",
          "height": 142
        },
        "outputId": "0742e4f9-7bc1-4d16-dd97-d0dcbf8d4a30"
      },
      "source": [
        "import numpy as np\n",
        "df[np.logical_and(df['age']>30,df['age']<50)]"
      ],
      "execution_count": null,
      "outputs": [
        {
          "output_type": "execute_result",
          "data": {
            "text/html": [
              "<div>\n",
              "<style scoped>\n",
              "    .dataframe tbody tr th:only-of-type {\n",
              "        vertical-align: middle;\n",
              "    }\n",
              "\n",
              "    .dataframe tbody tr th {\n",
              "        vertical-align: top;\n",
              "    }\n",
              "\n",
              "    .dataframe thead th {\n",
              "        text-align: right;\n",
              "    }\n",
              "</style>\n",
              "<table border=\"1\" class=\"dataframe\">\n",
              "  <thead>\n",
              "    <tr style=\"text-align: right;\">\n",
              "      <th></th>\n",
              "      <th>name</th>\n",
              "      <th>age</th>\n",
              "      <th>runs</th>\n",
              "      <th>country</th>\n",
              "    </tr>\n",
              "  </thead>\n",
              "  <tbody>\n",
              "    <tr>\n",
              "      <th>1</th>\n",
              "      <td>kohli</td>\n",
              "      <td>44</td>\n",
              "      <td>77</td>\n",
              "      <td>pakistan</td>\n",
              "    </tr>\n",
              "    <tr>\n",
              "      <th>2</th>\n",
              "      <td>rup</td>\n",
              "      <td>33</td>\n",
              "      <td>66</td>\n",
              "      <td>america</td>\n",
              "    </tr>\n",
              "    <tr>\n",
              "      <th>3</th>\n",
              "      <td>msd</td>\n",
              "      <td>40</td>\n",
              "      <td>99</td>\n",
              "      <td>india</td>\n",
              "    </tr>\n",
              "  </tbody>\n",
              "</table>\n",
              "</div>"
            ],
            "text/plain": [
              "    name  age  runs   country\n",
              "1  kohli   44    77  pakistan\n",
              "2    rup   33    66   america\n",
              "3    msd   40    99     india"
            ]
          },
          "metadata": {
            "tags": []
          },
          "execution_count": 48
        }
      ]
    },
    {
      "cell_type": "code",
      "metadata": {
        "id": "rPhpeM0N3hxh",
        "colab": {
          "base_uri": "https://localhost:8080/",
          "height": 153
        },
        "outputId": "fda35ec3-5767-4103-8d13-edcdc6ea1f9b"
      },
      "source": [
        "offset=8\n",
        "while offset!=0:\n",
        "  print('correcting....')\n",
        "  offset=offset-1\n",
        "  "
      ],
      "execution_count": null,
      "outputs": [
        {
          "output_type": "stream",
          "text": [
            "correcting....\n",
            "correcting....\n",
            "correcting....\n",
            "correcting....\n",
            "correcting....\n",
            "correcting....\n",
            "correcting....\n",
            "correcting....\n"
          ],
          "name": "stdout"
        }
      ]
    },
    {
      "cell_type": "code",
      "metadata": {
        "id": "OLskXSZT8aiM",
        "colab": {
          "base_uri": "https://localhost:8080/",
          "height": 119
        },
        "outputId": "06e049f2-8eca-43b5-e6b7-a459dcdee184"
      },
      "source": [
        "offset=-6\n",
        "while offset!=0:\n",
        "  print('correcting....')\n",
        "  if offset>0:\n",
        "    offset=offset-1\n",
        "  else:\n",
        "    offset=offset+1\n",
        "    "
      ],
      "execution_count": null,
      "outputs": [
        {
          "output_type": "stream",
          "text": [
            "correcting....\n",
            "correcting....\n",
            "correcting....\n",
            "correcting....\n",
            "correcting....\n",
            "correcting....\n"
          ],
          "name": "stdout"
        }
      ]
    },
    {
      "cell_type": "code",
      "metadata": {
        "id": "g6VWAlGU9Dtr",
        "colab": {
          "base_uri": "https://localhost:8080/",
          "height": 102
        },
        "outputId": "bd90b6e0-a57e-47bd-90bf-425c01474612"
      },
      "source": [
        "areas=[11.25,18.0,20.0,10.75,9.50]\n",
        "for abc in areas:\n",
        "  print(abc)"
      ],
      "execution_count": null,
      "outputs": [
        {
          "output_type": "stream",
          "text": [
            "11.25\n",
            "18.0\n",
            "20.0\n",
            "10.75\n",
            "9.5\n"
          ],
          "name": "stdout"
        }
      ]
    },
    {
      "cell_type": "code",
      "metadata": {
        "id": "BrfHPvK5AfdR",
        "colab": {
          "base_uri": "https://localhost:8080/",
          "height": 102
        },
        "outputId": "61f77845-7668-451b-9a37-8aa294a3e99b"
      },
      "source": [
        "\n",
        "for abc,pqr in enumerate(areas):\n",
        "  print('the index is', abc, 'and the value is ',pqr)"
      ],
      "execution_count": null,
      "outputs": [
        {
          "output_type": "stream",
          "text": [
            "the index is 0 and the value is  11.25\n",
            "the index is 1 and the value is  18.0\n",
            "the index is 2 and the value is  20.0\n",
            "the index is 3 and the value is  10.75\n",
            "the index is 4 and the value is  9.5\n"
          ],
          "name": "stdout"
        }
      ]
    },
    {
      "cell_type": "code",
      "metadata": {
        "id": "jNo6_l_hLKBE",
        "colab": {
          "base_uri": "https://localhost:8080/",
          "height": 35
        },
        "outputId": "6abf3108-91ad-4c4c-8800-35be17182a8c"
      },
      "source": [
        "def shout():\n",
        "  \"\"\"Creates a string with three exclamation marks\"\"\"\n",
        "  shout_word='Congratulations'+ ' !!!'\n",
        "  return shout_word\n"
      ],
      "execution_count": null,
      "outputs": [
        {
          "output_type": "execute_result",
          "data": {
            "application/vnd.google.colaboratory.intrinsic+json": {
              "type": "string"
            },
            "text/plain": [
              "'Congratulations !!!'"
            ]
          },
          "metadata": {
            "tags": []
          },
          "execution_count": 83
        }
      ]
    },
    {
      "cell_type": "code",
      "metadata": {
        "id": "AZu1Rea0L_Y1",
        "colab": {
          "base_uri": "https://localhost:8080/",
          "height": 35
        },
        "outputId": "d45cb5aa-096b-4faa-c71c-eb82e9e92644"
      },
      "source": [
        "shout_word=shout()\n",
        "shout_word"
      ],
      "execution_count": null,
      "outputs": [
        {
          "output_type": "execute_result",
          "data": {
            "application/vnd.google.colaboratory.intrinsic+json": {
              "type": "string"
            },
            "text/plain": [
              "'Congratulations !!!'"
            ]
          },
          "metadata": {
            "tags": []
          },
          "execution_count": 86
        }
      ]
    },
    {
      "cell_type": "code",
      "metadata": {
        "id": "_VWANNJpNIAD"
      },
      "source": [
        "def shout(xyz='congrats'):\n",
        "  '''Creates a string with three exclamation marks'''\n",
        "  shout_word= xyz + ' !!!'\n",
        "  return shout_word\n"
      ],
      "execution_count": null,
      "outputs": []
    },
    {
      "cell_type": "code",
      "metadata": {
        "id": "h5u221dJNaxQ",
        "colab": {
          "base_uri": "https://localhost:8080/",
          "height": 35
        },
        "outputId": "66cdbabb-cdae-4b96-ce3b-f9a84227339c"
      },
      "source": [
        "abc=shout('Python')\n",
        "abc"
      ],
      "execution_count": null,
      "outputs": [
        {
          "output_type": "execute_result",
          "data": {
            "application/vnd.google.colaboratory.intrinsic+json": {
              "type": "string"
            },
            "text/plain": [
              "'Python !!!'"
            ]
          },
          "metadata": {
            "tags": []
          },
          "execution_count": 91
        }
      ]
    },
    {
      "cell_type": "code",
      "metadata": {
        "id": "25x0tCXAN2ZM",
        "colab": {
          "base_uri": "https://localhost:8080/",
          "height": 34
        },
        "outputId": "78ba98cc-2420-41e4-cd89-a24cdbf90564"
      },
      "source": [
        "def add():\n",
        "  sum=1+5\n",
        "  return sum\n",
        "a=add()\n",
        "a"
      ],
      "execution_count": null,
      "outputs": [
        {
          "output_type": "execute_result",
          "data": {
            "text/plain": [
              "6"
            ]
          },
          "metadata": {
            "tags": []
          },
          "execution_count": 96
        }
      ]
    },
    {
      "cell_type": "code",
      "metadata": {
        "id": "CX7PQcqeN8KV",
        "colab": {
          "base_uri": "https://localhost:8080/",
          "height": 34
        },
        "outputId": "73a40ec1-c6ab-473e-d166-e59f00c51c0d"
      },
      "source": [
        "def mul(a,b,c,d,e,f):\n",
        "  return a*b*c*d*e*f\n",
        "mul(1,2,3,4,5,6)"
      ],
      "execution_count": null,
      "outputs": [
        {
          "output_type": "execute_result",
          "data": {
            "text/plain": [
              "720"
            ]
          },
          "metadata": {
            "tags": []
          },
          "execution_count": 120
        }
      ]
    },
    {
      "cell_type": "code",
      "metadata": {
        "id": "mAQneid9PrbT",
        "colab": {
          "base_uri": "https://localhost:8080/",
          "height": 34
        },
        "outputId": "4de4720a-93c1-4427-e1d4-3d160b054535"
      },
      "source": [
        "def formula(x,y,z=8):\n",
        "  return x*y*z\n",
        "formula(1,2,8)"
      ],
      "execution_count": null,
      "outputs": [
        {
          "output_type": "execute_result",
          "data": {
            "text/plain": [
              "16"
            ]
          },
          "metadata": {
            "tags": []
          },
          "execution_count": 126
        }
      ]
    },
    {
      "cell_type": "code",
      "metadata": {
        "id": "UbeLT9eKT2VE",
        "colab": {
          "base_uri": "https://localhost:8080/",
          "height": 34
        },
        "outputId": "070b04ad-8245-4289-c17f-a7f38a57c7d0"
      },
      "source": [
        "a=23\n",
        "b=25\n",
        "def addage():\n",
        "  '''Returns the age after 10 years'''\n",
        "  return a+10,b+10\n",
        "\n",
        "abc=addage()\n",
        "abc"
      ],
      "execution_count": null,
      "outputs": [
        {
          "output_type": "execute_result",
          "data": {
            "text/plain": [
              "(33, 35)"
            ]
          },
          "metadata": {
            "tags": []
          },
          "execution_count": 127
        }
      ]
    },
    {
      "cell_type": "code",
      "metadata": {
        "id": "3jLyNCUZUX_w",
        "colab": {
          "base_uri": "https://localhost:8080/",
          "height": 34
        },
        "outputId": "023212c3-aae8-4493-a923-9a6333fc305d"
      },
      "source": [
        "xyz=[1,2,3,4,5]\n",
        "xyz[1]=22\n",
        "xyz"
      ],
      "execution_count": null,
      "outputs": [
        {
          "output_type": "execute_result",
          "data": {
            "text/plain": [
              "[1, 22, 3, 4, 5]"
            ]
          },
          "metadata": {
            "tags": []
          },
          "execution_count": 130
        }
      ]
    },
    {
      "cell_type": "code",
      "metadata": {
        "id": "HZBoQ1-3U0FH"
      },
      "source": [
        ""
      ],
      "execution_count": null,
      "outputs": []
    }
  ]
}