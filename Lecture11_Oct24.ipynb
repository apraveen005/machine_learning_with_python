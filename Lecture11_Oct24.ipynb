{
  "nbformat": 4,
  "nbformat_minor": 0,
  "metadata": {
    "colab": {
      "name": "Lecture11-Oct24.ipynb",
      "provenance": [],
      "collapsed_sections": [],
      "authorship_tag": "ABX9TyOjpPo15u2Ss6b8ZV8A/YZV",
      "include_colab_link": true
    },
    "kernelspec": {
      "name": "python3",
      "display_name": "Python 3"
    }
  },
  "cells": [
    {
      "cell_type": "markdown",
      "metadata": {
        "id": "view-in-github",
        "colab_type": "text"
      },
      "source": [
        "<a href=\"https://colab.research.google.com/github/apraveen005/machine_learning_with_python/blob/master/Lecture11_Oct24.ipynb\" target=\"_parent\"><img src=\"https://colab.research.google.com/assets/colab-badge.svg\" alt=\"Open In Colab\"/></a>"
      ]
    },
    {
      "cell_type": "code",
      "metadata": {
        "id": "kKNLgYqR7onu"
      },
      "source": [
        "import pandas as pd"
      ],
      "execution_count": null,
      "outputs": []
    },
    {
      "cell_type": "code",
      "metadata": {
        "id": "rzb2PUGk72CV"
      },
      "source": [
        "df=pd.read_csv('Iris.csv',index_col=0)"
      ],
      "execution_count": null,
      "outputs": []
    },
    {
      "cell_type": "code",
      "metadata": {
        "id": "lx2qlDWf8KaQ",
        "colab": {
          "base_uri": "https://localhost:8080/",
          "height": 235
        },
        "outputId": "9f167b94-8a9f-43ab-806c-f35518bad2c7"
      },
      "source": [
        "df.head()"
      ],
      "execution_count": null,
      "outputs": [
        {
          "output_type": "execute_result",
          "data": {
            "text/html": [
              "<div>\n",
              "<style scoped>\n",
              "    .dataframe tbody tr th:only-of-type {\n",
              "        vertical-align: middle;\n",
              "    }\n",
              "\n",
              "    .dataframe tbody tr th {\n",
              "        vertical-align: top;\n",
              "    }\n",
              "\n",
              "    .dataframe thead th {\n",
              "        text-align: right;\n",
              "    }\n",
              "</style>\n",
              "<table border=\"1\" class=\"dataframe\">\n",
              "  <thead>\n",
              "    <tr style=\"text-align: right;\">\n",
              "      <th></th>\n",
              "      <th>SepalLengthCm</th>\n",
              "      <th>SepalWidthCm</th>\n",
              "      <th>PetalLengthCm</th>\n",
              "      <th>PetalWidthCm</th>\n",
              "      <th>Species</th>\n",
              "    </tr>\n",
              "    <tr>\n",
              "      <th>Id</th>\n",
              "      <th></th>\n",
              "      <th></th>\n",
              "      <th></th>\n",
              "      <th></th>\n",
              "      <th></th>\n",
              "    </tr>\n",
              "  </thead>\n",
              "  <tbody>\n",
              "    <tr>\n",
              "      <th>1</th>\n",
              "      <td>5.1</td>\n",
              "      <td>3.5</td>\n",
              "      <td>1.4</td>\n",
              "      <td>0.2</td>\n",
              "      <td>Iris-setosa</td>\n",
              "    </tr>\n",
              "    <tr>\n",
              "      <th>2</th>\n",
              "      <td>4.9</td>\n",
              "      <td>3.0</td>\n",
              "      <td>1.4</td>\n",
              "      <td>0.2</td>\n",
              "      <td>Iris-setosa</td>\n",
              "    </tr>\n",
              "    <tr>\n",
              "      <th>3</th>\n",
              "      <td>4.7</td>\n",
              "      <td>3.2</td>\n",
              "      <td>1.3</td>\n",
              "      <td>0.2</td>\n",
              "      <td>Iris-setosa</td>\n",
              "    </tr>\n",
              "    <tr>\n",
              "      <th>4</th>\n",
              "      <td>4.6</td>\n",
              "      <td>3.1</td>\n",
              "      <td>1.5</td>\n",
              "      <td>0.2</td>\n",
              "      <td>Iris-setosa</td>\n",
              "    </tr>\n",
              "    <tr>\n",
              "      <th>5</th>\n",
              "      <td>5.0</td>\n",
              "      <td>3.6</td>\n",
              "      <td>1.4</td>\n",
              "      <td>0.2</td>\n",
              "      <td>Iris-setosa</td>\n",
              "    </tr>\n",
              "  </tbody>\n",
              "</table>\n",
              "</div>"
            ],
            "text/plain": [
              "    SepalLengthCm  SepalWidthCm  PetalLengthCm  PetalWidthCm      Species\n",
              "Id                                                                       \n",
              "1             5.1           3.5            1.4           0.2  Iris-setosa\n",
              "2             4.9           3.0            1.4           0.2  Iris-setosa\n",
              "3             4.7           3.2            1.3           0.2  Iris-setosa\n",
              "4             4.6           3.1            1.5           0.2  Iris-setosa\n",
              "5             5.0           3.6            1.4           0.2  Iris-setosa"
            ]
          },
          "metadata": {
            "tags": []
          },
          "execution_count": 3
        }
      ]
    },
    {
      "cell_type": "code",
      "metadata": {
        "id": "2L9TCtIV8MCR"
      },
      "source": [
        "import matplotlib.pyplot as plt"
      ],
      "execution_count": null,
      "outputs": []
    },
    {
      "cell_type": "code",
      "metadata": {
        "id": "eX77yN-48TuN",
        "colab": {
          "base_uri": "https://localhost:8080/",
          "height": 265
        },
        "outputId": "1048bfa1-e88d-4818-f4c1-25917236187b"
      },
      "source": [
        "_=plt.hist(df['PetalLengthCm'])\n",
        "plt.show()"
      ],
      "execution_count": null,
      "outputs": [
        {
          "output_type": "display_data",
          "data": {
            "image/png": "[encoded data removed]",
            "text/plain": [
              "<Figure size 432x288 with 1 Axes>"
            ]
          },
          "metadata": {
            "tags": [],
            "needs_background": "light"
          }
        }
      ]
    },
    {
      "cell_type": "code",
      "metadata": {
        "id": "dFCLX7t78btP",
        "colab": {
          "base_uri": "https://localhost:8080/",
          "height": 34
        },
        "outputId": "40053f90-671a-4ce3-de17-66b9c60a1f33"
      },
      "source": [
        "len(df['PetalLengthCm'])"
      ],
      "execution_count": null,
      "outputs": [
        {
          "output_type": "execute_result",
          "data": {
            "text/plain": [
              "150"
            ]
          },
          "metadata": {
            "tags": []
          },
          "execution_count": 7
        }
      ]
    },
    {
      "cell_type": "code",
      "metadata": {
        "id": "PGflOQr-8nc8"
      },
      "source": [
        "import numpy as np\n"
      ],
      "execution_count": null,
      "outputs": []
    },
    {
      "cell_type": "code",
      "metadata": {
        "id": "42Xuc34a8sbT",
        "colab": {
          "base_uri": "https://localhost:8080/",
          "height": 34
        },
        "outputId": "74e82572-55d4-4b24-e443-e5e585c68ed7"
      },
      "source": [
        "int(np.sqrt(150))"
      ],
      "execution_count": null,
      "outputs": [
        {
          "output_type": "execute_result",
          "data": {
            "text/plain": [
              "12"
            ]
          },
          "metadata": {
            "tags": []
          },
          "execution_count": 11
        }
      ]
    },
    {
      "cell_type": "code",
      "metadata": {
        "id": "GfqcMtnW8xxq",
        "colab": {
          "base_uri": "https://localhost:8080/",
          "height": 265
        },
        "outputId": "9d365313-6723-4938-d1f9-ab5c69903e42"
      },
      "source": [
        "_=plt.hist(df['PetalLengthCm'],bins=12)"
      ],
      "execution_count": null,
      "outputs": [
        {
          "output_type": "display_data",
          "data": {
            "image/png": "[encoded data removed]",
            "text/plain": [
              "<Figure size 432x288 with 1 Axes>"
            ]
          },
          "metadata": {
            "tags": [],
            "needs_background": "light"
          }
        }
      ]
    },
    {
      "cell_type": "markdown",
      "metadata": {
        "id": "n2dSC2_-9DMY"
      },
      "source": [
        "Bee swarm Plot"
      ]
    },
    {
      "cell_type": "code",
      "metadata": {
        "id": "fYe4UjAv89aQ",
        "colab": {
          "base_uri": "https://localhost:8080/",
          "height": 450
        },
        "outputId": "781d2c15-27f8-4e55-91bd-1f3d8f930911"
      },
      "source": [
        "df"
      ],
      "execution_count": null,
      "outputs": [
        {
          "output_type": "execute_result",
          "data": {
            "text/html": [
              "<div>\n",
              "<style scoped>\n",
              "    .dataframe tbody tr th:only-of-type {\n",
              "        vertical-align: middle;\n",
              "    }\n",
              "\n",
              "    .dataframe tbody tr th {\n",
              "        vertical-align: top;\n",
              "    }\n",
              "\n",
              "    .dataframe thead th {\n",
              "        text-align: right;\n",
              "    }\n",
              "</style>\n",
              "<table border=\"1\" class=\"dataframe\">\n",
              "  <thead>\n",
              "    <tr style=\"text-align: right;\">\n",
              "      <th></th>\n",
              "      <th>SepalLengthCm</th>\n",
              "      <th>SepalWidthCm</th>\n",
              "      <th>PetalLengthCm</th>\n",
              "      <th>PetalWidthCm</th>\n",
              "      <th>Species</th>\n",
              "    </tr>\n",
              "    <tr>\n",
              "      <th>Id</th>\n",
              "      <th></th>\n",
              "      <th></th>\n",
              "      <th></th>\n",
              "      <th></th>\n",
              "      <th></th>\n",
              "    </tr>\n",
              "  </thead>\n",
              "  <tbody>\n",
              "    <tr>\n",
              "      <th>1</th>\n",
              "      <td>5.1</td>\n",
              "      <td>3.5</td>\n",
              "      <td>1.4</td>\n",
              "      <td>0.2</td>\n",
              "      <td>Iris-setosa</td>\n",
              "    </tr>\n",
              "    <tr>\n",
              "      <th>2</th>\n",
              "      <td>4.9</td>\n",
              "      <td>3.0</td>\n",
              "      <td>1.4</td>\n",
              "      <td>0.2</td>\n",
              "      <td>Iris-setosa</td>\n",
              "    </tr>\n",
              "    <tr>\n",
              "      <th>3</th>\n",
              "      <td>4.7</td>\n",
              "      <td>3.2</td>\n",
              "      <td>1.3</td>\n",
              "      <td>0.2</td>\n",
              "      <td>Iris-setosa</td>\n",
              "    </tr>\n",
              "    <tr>\n",
              "      <th>4</th>\n",
              "      <td>4.6</td>\n",
              "      <td>3.1</td>\n",
              "      <td>1.5</td>\n",
              "      <td>0.2</td>\n",
              "      <td>Iris-setosa</td>\n",
              "    </tr>\n",
              "    <tr>\n",
              "      <th>5</th>\n",
              "      <td>5.0</td>\n",
              "      <td>3.6</td>\n",
              "      <td>1.4</td>\n",
              "      <td>0.2</td>\n",
              "      <td>Iris-setosa</td>\n",
              "    </tr>\n",
              "    <tr>\n",
              "      <th>...</th>\n",
              "      <td>...</td>\n",
              "      <td>...</td>\n",
              "      <td>...</td>\n",
              "      <td>...</td>\n",
              "      <td>...</td>\n",
              "    </tr>\n",
              "    <tr>\n",
              "      <th>146</th>\n",
              "      <td>6.7</td>\n",
              "      <td>3.0</td>\n",
              "      <td>5.2</td>\n",
              "      <td>2.3</td>\n",
              "      <td>Iris-virginica</td>\n",
              "    </tr>\n",
              "    <tr>\n",
              "      <th>147</th>\n",
              "      <td>6.3</td>\n",
              "      <td>2.5</td>\n",
              "      <td>5.0</td>\n",
              "      <td>1.9</td>\n",
              "      <td>Iris-virginica</td>\n",
              "    </tr>\n",
              "    <tr>\n",
              "      <th>148</th>\n",
              "      <td>6.5</td>\n",
              "      <td>3.0</td>\n",
              "      <td>5.2</td>\n",
              "      <td>2.0</td>\n",
              "      <td>Iris-virginica</td>\n",
              "    </tr>\n",
              "    <tr>\n",
              "      <th>149</th>\n",
              "      <td>6.2</td>\n",
              "      <td>3.4</td>\n",
              "      <td>5.4</td>\n",
              "      <td>2.3</td>\n",
              "      <td>Iris-virginica</td>\n",
              "    </tr>\n",
              "    <tr>\n",
              "      <th>150</th>\n",
              "      <td>5.9</td>\n",
              "      <td>3.0</td>\n",
              "      <td>5.1</td>\n",
              "      <td>1.8</td>\n",
              "      <td>Iris-virginica</td>\n",
              "    </tr>\n",
              "  </tbody>\n",
              "</table>\n",
              "<p>150 rows × 5 columns</p>\n",
              "</div>"
            ],
            "text/plain": [
              "     SepalLengthCm  SepalWidthCm  PetalLengthCm  PetalWidthCm         Species\n",
              "Id                                                                           \n",
              "1              5.1           3.5            1.4           0.2     Iris-setosa\n",
              "2              4.9           3.0            1.4           0.2     Iris-setosa\n",
              "3              4.7           3.2            1.3           0.2     Iris-setosa\n",
              "4              4.6           3.1            1.5           0.2     Iris-setosa\n",
              "5              5.0           3.6            1.4           0.2     Iris-setosa\n",
              "..             ...           ...            ...           ...             ...\n",
              "146            6.7           3.0            5.2           2.3  Iris-virginica\n",
              "147            6.3           2.5            5.0           1.9  Iris-virginica\n",
              "148            6.5           3.0            5.2           2.0  Iris-virginica\n",
              "149            6.2           3.4            5.4           2.3  Iris-virginica\n",
              "150            5.9           3.0            5.1           1.8  Iris-virginica\n",
              "\n",
              "[150 rows x 5 columns]"
            ]
          },
          "metadata": {
            "tags": []
          },
          "execution_count": 13
        }
      ]
    },
    {
      "cell_type": "code",
      "metadata": {
        "id": "_4dtGXc_9G4E"
      },
      "source": [
        "import seaborn as sns"
      ],
      "execution_count": null,
      "outputs": []
    },
    {
      "cell_type": "code",
      "metadata": {
        "id": "pKayxJGC9Kty",
        "colab": {
          "base_uri": "https://localhost:8080/",
          "height": 333
        },
        "outputId": "cfb94ae0-b8ef-4b10-b744-d502dea9c16a"
      },
      "source": [
        "sns.swarmplot(x='Species',y='PetalLengthCm',data=df)\n",
        "plt.show()"
      ],
      "execution_count": null,
      "outputs": [
        {
          "output_type": "stream",
          "text": [
            "/usr/local/lib/python3.6/dist-packages/seaborn/categorical.py:1296: UserWarning: 14.0% of the points cannot be placed; you may want to decrease the size of the markers or use stripplot.\n",
            "  warnings.warn(msg, UserWarning)\n"
          ],
          "name": "stderr"
        },
        {
          "output_type": "display_data",
          "data": {
            "image/png": "[encoded data removed]",
            "text/plain": [
              "<Figure size 432x288 with 1 Axes>"
            ]
          },
          "metadata": {
            "tags": [],
            "needs_background": "light"
          }
        }
      ]
    },
    {
      "cell_type": "code",
      "metadata": {
        "id": "GVSDhc3A9Ywe"
      },
      "source": [
        "x=np.array([40,49,60])"
      ],
      "execution_count": null,
      "outputs": []
    },
    {
      "cell_type": "code",
      "metadata": {
        "id": "24TC54f_9l6Y"
      },
      "source": [
        "y=np.arange(1,len(x)+1)/len(x)"
      ],
      "execution_count": null,
      "outputs": []
    },
    {
      "cell_type": "code",
      "metadata": {
        "id": "-Vbni8C89uZd",
        "colab": {
          "base_uri": "https://localhost:8080/",
          "height": 265
        },
        "outputId": "91d2c571-de89-4062-b46a-58b57b81f434"
      },
      "source": [
        "_=plt.plot(x,y)"
      ],
      "execution_count": null,
      "outputs": [
        {
          "output_type": "display_data",
          "data": {
            "image/png": "[encoded data removed]",
            "text/plain": [
              "<Figure size 432x288 with 1 Axes>"
            ]
          },
          "metadata": {
            "tags": [],
            "needs_background": "light"
          }
        }
      ]
    },
    {
      "cell_type": "code",
      "metadata": {
        "id": "dzSlJOF79zcG"
      },
      "source": [
        "def ecdf(data):\n",
        "  x=np.sort(data)\n",
        "  y=np.arange(1,len(x)+1)/len(x)\n",
        "  return x,y"
      ],
      "execution_count": null,
      "outputs": []
    },
    {
      "cell_type": "code",
      "metadata": {
        "id": "ECYqUv0i-OMJ"
      },
      "source": [
        "x_iris,y_iris=ecdf(df['PetalWidthCm'])"
      ],
      "execution_count": null,
      "outputs": []
    },
    {
      "cell_type": "code",
      "metadata": {
        "id": "yd3sV5e0-bzP",
        "colab": {
          "base_uri": "https://localhost:8080/",
          "height": 265
        },
        "outputId": "fa51d134-4ae0-4b0e-aeb2-02212be20193"
      },
      "source": [
        "_=plt.scatter(x_iris,y_iris)"
      ],
      "execution_count": null,
      "outputs": [
        {
          "output_type": "display_data",
          "data": {
            "image/png": "[encoded data removed]",
            "text/plain": [
              "<Figure size 432x288 with 1 Axes>"
            ]
          },
          "metadata": {
            "tags": [],
            "needs_background": "light"
          }
        }
      ]
    },
    {
      "cell_type": "code",
      "metadata": {
        "id": "454VeiN5-ggT"
      },
      "source": [
        "list1=[4,5,6]"
      ],
      "execution_count": null,
      "outputs": []
    },
    {
      "cell_type": "code",
      "metadata": {
        "id": "ryagZ_rU-rVC",
        "colab": {
          "base_uri": "https://localhost:8080/",
          "height": 34
        },
        "outputId": "359347b8-b7cb-4fef-b4a5-4404df8e3dc6"
      },
      "source": [
        "np.mean(list1)"
      ],
      "execution_count": null,
      "outputs": [
        {
          "output_type": "execute_result",
          "data": {
            "text/plain": [
              "5.0"
            ]
          },
          "metadata": {
            "tags": []
          },
          "execution_count": 25
        }
      ]
    },
    {
      "cell_type": "code",
      "metadata": {
        "id": "xwOyWNeN-unT",
        "colab": {
          "base_uri": "https://localhost:8080/",
          "height": 34
        },
        "outputId": "d1b8c5f0-5b6d-4640-b875-6fcbc4d7a63c"
      },
      "source": [
        "np.median(list1)"
      ],
      "execution_count": null,
      "outputs": [
        {
          "output_type": "execute_result",
          "data": {
            "text/plain": [
              "5.0"
            ]
          },
          "metadata": {
            "tags": []
          },
          "execution_count": 26
        }
      ]
    },
    {
      "cell_type": "code",
      "metadata": {
        "id": "gc7xFnTK-wqN"
      },
      "source": [
        "list2=[3,2,1,4]"
      ],
      "execution_count": null,
      "outputs": []
    },
    {
      "cell_type": "code",
      "metadata": {
        "id": "Tb_J6jMb-0bY",
        "colab": {
          "base_uri": "https://localhost:8080/",
          "height": 34
        },
        "outputId": "c0e0b6ba-4515-4dbf-b441-ed943f681430"
      },
      "source": [
        "np.median(list2)"
      ],
      "execution_count": null,
      "outputs": [
        {
          "output_type": "execute_result",
          "data": {
            "text/plain": [
              "2.5"
            ]
          },
          "metadata": {
            "tags": []
          },
          "execution_count": 28
        }
      ]
    },
    {
      "cell_type": "code",
      "metadata": {
        "id": "IRelK_Qa-2Yy"
      },
      "source": [
        "list3=[20,2,7,1,34]\n"
      ],
      "execution_count": null,
      "outputs": []
    },
    {
      "cell_type": "code",
      "metadata": {
        "id": "6WtM02pF-9Cg",
        "colab": {
          "base_uri": "https://localhost:8080/",
          "height": 34
        },
        "outputId": "d90dcc26-ed4a-45a5-f207-24b70a80b69f"
      },
      "source": [
        "np.percentile(list3,0)"
      ],
      "execution_count": null,
      "outputs": [
        {
          "output_type": "execute_result",
          "data": {
            "text/plain": [
              "1.0"
            ]
          },
          "metadata": {
            "tags": []
          },
          "execution_count": 30
        }
      ]
    },
    {
      "cell_type": "code",
      "metadata": {
        "id": "t88_Z96f_ASx",
        "colab": {
          "base_uri": "https://localhost:8080/",
          "height": 34
        },
        "outputId": "31fe3866-de75-4067-e987-33d091c21ece"
      },
      "source": [
        "np.percentile(list3,100)"
      ],
      "execution_count": null,
      "outputs": [
        {
          "output_type": "execute_result",
          "data": {
            "text/plain": [
              "34.0"
            ]
          },
          "metadata": {
            "tags": []
          },
          "execution_count": 31
        }
      ]
    },
    {
      "cell_type": "code",
      "metadata": {
        "id": "_60r5T6V_EcG",
        "colab": {
          "base_uri": "https://localhost:8080/",
          "height": 34
        },
        "outputId": "ea9a5f49-dffd-4869-ecca-f0c8f9500c49"
      },
      "source": [
        "np.percentile(list3,50)"
      ],
      "execution_count": null,
      "outputs": [
        {
          "output_type": "execute_result",
          "data": {
            "text/plain": [
              "7.0"
            ]
          },
          "metadata": {
            "tags": []
          },
          "execution_count": 32
        }
      ]
    },
    {
      "cell_type": "code",
      "metadata": {
        "id": "Wz5CsjvP_KEq",
        "colab": {
          "base_uri": "https://localhost:8080/",
          "height": 34
        },
        "outputId": "cf9694a6-3b53-4554-9b16-49a5f950b1a9"
      },
      "source": [
        "np.percentile(list3,25)"
      ],
      "execution_count": null,
      "outputs": [
        {
          "output_type": "execute_result",
          "data": {
            "text/plain": [
              "2.0"
            ]
          },
          "metadata": {
            "tags": []
          },
          "execution_count": 33
        }
      ]
    },
    {
      "cell_type": "code",
      "metadata": {
        "id": "rQD71qD2_OdF",
        "colab": {
          "base_uri": "https://localhost:8080/",
          "height": 34
        },
        "outputId": "b1a1170e-3cfa-48b0-b197-c0c26263c434"
      },
      "source": [
        "np.percentile(list3,75)"
      ],
      "execution_count": null,
      "outputs": [
        {
          "output_type": "execute_result",
          "data": {
            "text/plain": [
              "20.0"
            ]
          },
          "metadata": {
            "tags": []
          },
          "execution_count": 34
        }
      ]
    },
    {
      "cell_type": "code",
      "metadata": {
        "id": "Ms2Z4a81_SVa"
      },
      "source": [
        "list1=[5,10,15,20]\n"
      ],
      "execution_count": null,
      "outputs": []
    },
    {
      "cell_type": "code",
      "metadata": {
        "id": "waH4ynZi_YA-",
        "colab": {
          "base_uri": "https://localhost:8080/",
          "height": 34
        },
        "outputId": "dedbc152-4c8a-42e9-c41a-59a0b8d5740b"
      },
      "source": [
        "np.percentile(list1,50)"
      ],
      "execution_count": null,
      "outputs": [
        {
          "output_type": "execute_result",
          "data": {
            "text/plain": [
              "12.5"
            ]
          },
          "metadata": {
            "tags": []
          },
          "execution_count": 36
        }
      ]
    },
    {
      "cell_type": "code",
      "metadata": {
        "id": "VEZDxCq2_cao",
        "colab": {
          "base_uri": "https://localhost:8080/",
          "height": 34
        },
        "outputId": "50a660b9-f810-4968-af1e-de9126971e76"
      },
      "source": [
        "np.percentile(list1,25)"
      ],
      "execution_count": null,
      "outputs": [
        {
          "output_type": "execute_result",
          "data": {
            "text/plain": [
              "8.75"
            ]
          },
          "metadata": {
            "tags": []
          },
          "execution_count": 37
        }
      ]
    },
    {
      "cell_type": "code",
      "metadata": {
        "id": "OoBqe9n0_igE",
        "colab": {
          "base_uri": "https://localhost:8080/",
          "height": 450
        },
        "outputId": "fbd712d2-e7bd-44a3-9e44-b0df407d759b"
      },
      "source": [
        "df"
      ],
      "execution_count": null,
      "outputs": [
        {
          "output_type": "execute_result",
          "data": {
            "text/html": [
              "<div>\n",
              "<style scoped>\n",
              "    .dataframe tbody tr th:only-of-type {\n",
              "        vertical-align: middle;\n",
              "    }\n",
              "\n",
              "    .dataframe tbody tr th {\n",
              "        vertical-align: top;\n",
              "    }\n",
              "\n",
              "    .dataframe thead th {\n",
              "        text-align: right;\n",
              "    }\n",
              "</style>\n",
              "<table border=\"1\" class=\"dataframe\">\n",
              "  <thead>\n",
              "    <tr style=\"text-align: right;\">\n",
              "      <th></th>\n",
              "      <th>SepalLengthCm</th>\n",
              "      <th>SepalWidthCm</th>\n",
              "      <th>PetalLengthCm</th>\n",
              "      <th>PetalWidthCm</th>\n",
              "      <th>Species</th>\n",
              "    </tr>\n",
              "    <tr>\n",
              "      <th>Id</th>\n",
              "      <th></th>\n",
              "      <th></th>\n",
              "      <th></th>\n",
              "      <th></th>\n",
              "      <th></th>\n",
              "    </tr>\n",
              "  </thead>\n",
              "  <tbody>\n",
              "    <tr>\n",
              "      <th>1</th>\n",
              "      <td>5.1</td>\n",
              "      <td>3.5</td>\n",
              "      <td>1.4</td>\n",
              "      <td>0.2</td>\n",
              "      <td>Iris-setosa</td>\n",
              "    </tr>\n",
              "    <tr>\n",
              "      <th>2</th>\n",
              "      <td>4.9</td>\n",
              "      <td>3.0</td>\n",
              "      <td>1.4</td>\n",
              "      <td>0.2</td>\n",
              "      <td>Iris-setosa</td>\n",
              "    </tr>\n",
              "    <tr>\n",
              "      <th>3</th>\n",
              "      <td>4.7</td>\n",
              "      <td>3.2</td>\n",
              "      <td>1.3</td>\n",
              "      <td>0.2</td>\n",
              "      <td>Iris-setosa</td>\n",
              "    </tr>\n",
              "    <tr>\n",
              "      <th>4</th>\n",
              "      <td>4.6</td>\n",
              "      <td>3.1</td>\n",
              "      <td>1.5</td>\n",
              "      <td>0.2</td>\n",
              "      <td>Iris-setosa</td>\n",
              "    </tr>\n",
              "    <tr>\n",
              "      <th>5</th>\n",
              "      <td>5.0</td>\n",
              "      <td>3.6</td>\n",
              "      <td>1.4</td>\n",
              "      <td>0.2</td>\n",
              "      <td>Iris-setosa</td>\n",
              "    </tr>\n",
              "    <tr>\n",
              "      <th>...</th>\n",
              "      <td>...</td>\n",
              "      <td>...</td>\n",
              "      <td>...</td>\n",
              "      <td>...</td>\n",
              "      <td>...</td>\n",
              "    </tr>\n",
              "    <tr>\n",
              "      <th>146</th>\n",
              "      <td>6.7</td>\n",
              "      <td>3.0</td>\n",
              "      <td>5.2</td>\n",
              "      <td>2.3</td>\n",
              "      <td>Iris-virginica</td>\n",
              "    </tr>\n",
              "    <tr>\n",
              "      <th>147</th>\n",
              "      <td>6.3</td>\n",
              "      <td>2.5</td>\n",
              "      <td>5.0</td>\n",
              "      <td>1.9</td>\n",
              "      <td>Iris-virginica</td>\n",
              "    </tr>\n",
              "    <tr>\n",
              "      <th>148</th>\n",
              "      <td>6.5</td>\n",
              "      <td>3.0</td>\n",
              "      <td>5.2</td>\n",
              "      <td>2.0</td>\n",
              "      <td>Iris-virginica</td>\n",
              "    </tr>\n",
              "    <tr>\n",
              "      <th>149</th>\n",
              "      <td>6.2</td>\n",
              "      <td>3.4</td>\n",
              "      <td>5.4</td>\n",
              "      <td>2.3</td>\n",
              "      <td>Iris-virginica</td>\n",
              "    </tr>\n",
              "    <tr>\n",
              "      <th>150</th>\n",
              "      <td>5.9</td>\n",
              "      <td>3.0</td>\n",
              "      <td>5.1</td>\n",
              "      <td>1.8</td>\n",
              "      <td>Iris-virginica</td>\n",
              "    </tr>\n",
              "  </tbody>\n",
              "</table>\n",
              "<p>150 rows × 5 columns</p>\n",
              "</div>"
            ],
            "text/plain": [
              "     SepalLengthCm  SepalWidthCm  PetalLengthCm  PetalWidthCm         Species\n",
              "Id                                                                           \n",
              "1              5.1           3.5            1.4           0.2     Iris-setosa\n",
              "2              4.9           3.0            1.4           0.2     Iris-setosa\n",
              "3              4.7           3.2            1.3           0.2     Iris-setosa\n",
              "4              4.6           3.1            1.5           0.2     Iris-setosa\n",
              "5              5.0           3.6            1.4           0.2     Iris-setosa\n",
              "..             ...           ...            ...           ...             ...\n",
              "146            6.7           3.0            5.2           2.3  Iris-virginica\n",
              "147            6.3           2.5            5.0           1.9  Iris-virginica\n",
              "148            6.5           3.0            5.2           2.0  Iris-virginica\n",
              "149            6.2           3.4            5.4           2.3  Iris-virginica\n",
              "150            5.9           3.0            5.1           1.8  Iris-virginica\n",
              "\n",
              "[150 rows x 5 columns]"
            ]
          },
          "metadata": {
            "tags": []
          },
          "execution_count": 38
        }
      ]
    },
    {
      "cell_type": "code",
      "metadata": {
        "id": "eRqRQX74_k4M"
      },
      "source": [
        "mean=df['PetalWidthCm'].mean()"
      ],
      "execution_count": null,
      "outputs": []
    },
    {
      "cell_type": "code",
      "metadata": {
        "id": "ai1WLGDJ_st5"
      },
      "source": [
        "distance=df['PetalWidthCm']-mean"
      ],
      "execution_count": null,
      "outputs": []
    },
    {
      "cell_type": "code",
      "metadata": {
        "id": "rMlEmbIi_1lV"
      },
      "source": [
        "square=distance**2"
      ],
      "execution_count": null,
      "outputs": []
    },
    {
      "cell_type": "code",
      "metadata": {
        "id": "f0q4IRyD_6uz"
      },
      "source": [
        "variance=square.sum()/len(square)"
      ],
      "execution_count": null,
      "outputs": []
    },
    {
      "cell_type": "code",
      "metadata": {
        "id": "N-y55e0QACtg",
        "colab": {
          "base_uri": "https://localhost:8080/",
          "height": 34
        },
        "outputId": "1d00caf4-7fb9-45de-c24d-d735ddf5771a"
      },
      "source": [
        "variance"
      ],
      "execution_count": null,
      "outputs": [
        {
          "output_type": "execute_result",
          "data": {
            "text/plain": [
              "0.5785315555555555"
            ]
          },
          "metadata": {
            "tags": []
          },
          "execution_count": 44
        }
      ]
    },
    {
      "cell_type": "code",
      "metadata": {
        "id": "O-H6NZ5bAIoZ",
        "colab": {
          "base_uri": "https://localhost:8080/",
          "height": 34
        },
        "outputId": "b566b5c8-2ab0-4b7c-d2cf-c142fc758e36"
      },
      "source": [
        "np.sqrt(variance) #dtd Deviation"
      ],
      "execution_count": null,
      "outputs": [
        {
          "output_type": "execute_result",
          "data": {
            "text/plain": [
              "0.7606126185881716"
            ]
          },
          "metadata": {
            "tags": []
          },
          "execution_count": 45
        }
      ]
    },
    {
      "cell_type": "code",
      "metadata": {
        "id": "OnarES7FAMF8",
        "colab": {
          "base_uri": "https://localhost:8080/",
          "height": 34
        },
        "outputId": "814187d7-5e9b-432d-eae5-3717dbd7fec9"
      },
      "source": [
        "np.var(df['PetalWidthCm'])"
      ],
      "execution_count": null,
      "outputs": [
        {
          "output_type": "execute_result",
          "data": {
            "text/plain": [
              "0.5785315555555559"
            ]
          },
          "metadata": {
            "tags": []
          },
          "execution_count": 46
        }
      ]
    },
    {
      "cell_type": "code",
      "metadata": {
        "id": "mIsHGA96A6Oe",
        "colab": {
          "base_uri": "https://localhost:8080/",
          "height": 34
        },
        "outputId": "eb8cbee5-1dd6-4d30-f4f8-9d5d11f6e622"
      },
      "source": [
        "np.std(df['PetalWidthCm'])"
      ],
      "execution_count": null,
      "outputs": [
        {
          "output_type": "execute_result",
          "data": {
            "text/plain": [
              "0.760612618588172"
            ]
          },
          "metadata": {
            "tags": []
          },
          "execution_count": 51
        }
      ]
    },
    {
      "cell_type": "markdown",
      "metadata": {
        "id": "l69uYC1FCFAv"
      },
      "source": [
        "Making a scatter plot with lists"
      ]
    },
    {
      "cell_type": "code",
      "metadata": {
        "id": "_oXxtUp-Bdf3"
      },
      "source": [
        "from numpy import nan"
      ],
      "execution_count": null,
      "outputs": []
    },
    {
      "cell_type": "code",
      "metadata": {
        "id": "TXhUR9jVCdrl"
      },
      "source": [
        ""
      ],
      "execution_count": null,
      "outputs": []
    },
    {
      "cell_type": "code",
      "metadata": {
        "id": "1zQm8MdLWhtq"
      },
      "source": [
        "gdp=[700.0,\n",
        " 4500.0,\n",
        " 6000.0,\n",
        " 8000.0,\n",
        " 19000.0,\n",
        " 1900.0,\n",
        " 8600.0,\n",
        " 11000.0,\n",
        " 11200.0,\n",
        " 3500.0,\n",
        " 28000.0,\n",
        " 29000.0,\n",
        " 30000.0,\n",
        " 3400.0,\n",
        " 16700.0,\n",
        " 16900.0,\n",
        " 1900.0,\n",
        " 15700.0,\n",
        " 6100.0,\n",
        " 29100.0,\n",
        " 4900.0,\n",
        " 1100.0,\n",
        " 36000.0,\n",
        " 1300.0,\n",
        " 2400.0,\n",
        " 6100.0,\n",
        " 9000.0,\n",
        " 7600.0,\n",
        " 16000.0,\n",
        " 18600.0,\n",
        " 7600.0,\n",
        " 1100.0,\n",
        " 1800.0,\n",
        " 600.0,\n",
        " 1900.0,\n",
        " 1800.0,\n",
        " 29800.0,\n",
        " 1400.0,\n",
        " 35000.0,\n",
        " 1100.0,\n",
        " 1200.0,\n",
        " 9900.0,\n",
        " 5000.0,\n",
        " 6300.0,\n",
        " 700.0,\n",
        " 700.0,\n",
        " 700.0,\n",
        " 5000.0,\n",
        " 9100.0,\n",
        " 1400.0,\n",
        " 10600.0,\n",
        " 2900.0,\n",
        " 19200.0,\n",
        " 15700.0,\n",
        " 31100.0,\n",
        " 1300.0,\n",
        " 5400.0,\n",
        " 6000.0,\n",
        " 500.0,\n",
        " 3300.0,\n",
        " 4000.0,\n",
        " 4800.0,\n",
        " 2700.0,\n",
        " 700.0,\n",
        " 12300.0,\n",
        " 700.0,\n",
        " 22000.0,\n",
        " 5800.0,\n",
        " 27400.0,\n",
        " 27600.0,\n",
        " 8300.0,\n",
        " 17500.0,\n",
        " 5500.0,\n",
        " 1700.0,\n",
        " 600.0,\n",
        " 2500.0,\n",
        " 27600.0,\n",
        " 2200.0,\n",
        " 17500.0,\n",
        " 20000.0,\n",
        " 20000.0,\n",
        " 5000.0,\n",
        " 8000.0,\n",
        " 21000.0,\n",
        " 4100.0,\n",
        " 20000.0,\n",
        " 2100.0,\n",
        " 800.0,\n",
        " 4000.0,\n",
        " 1600.0,\n",
        " 2600.0,\n",
        " 28800.0,\n",
        " 13900.0,\n",
        " 30900.0,\n",
        " 2900.0,\n",
        " 3200.0,\n",
        " 7000.0,\n",
        " 1500.0,\n",
        " 29600.0,\n",
        " 21000.0,\n",
        " 19800.0,\n",
        " 26700.0,\n",
        " 3900.0,\n",
        " 28200.0,\n",
        " 24800.0,\n",
        " 4300.0,\n",
        " 6300.0,\n",
        " 1000.0,\n",
        " 800.0,\n",
        " 1300.0,\n",
        " 17800.0,\n",
        " 19000.0,\n",
        " 1600.0,\n",
        " 1700.0,\n",
        " 10200.0,\n",
        " 4800.0,\n",
        " 3000.0,\n",
        " 1000.0,\n",
        " 6400.0,\n",
        " 25000.0,\n",
        " 11400.0,\n",
        " 55100.0,\n",
        " 19400.0,\n",
        " 6700.0,\n",
        " 800.0,\n",
        " 600.0,\n",
        " 9000.0,\n",
        " 3900.0,\n",
        " 900.0,\n",
        " 17700.0,\n",
        " 1600.0,\n",
        " 14400.0,\n",
        " 1800.0,\n",
        " 11400.0,\n",
        " 2600.0,\n",
        " 9000.0,\n",
        " 2000.0,\n",
        " 1800.0,\n",
        " 27000.0,\n",
        " 1800.0,\n",
        " 3400.0,\n",
        " 4000.0,\n",
        " 1200.0,\n",
        " 7200.0,\n",
        " 5000.0,\n",
        " 1400.0,\n",
        " 28600.0,\n",
        " 11400.0,\n",
        " 15000.0,\n",
        " 21600.0,\n",
        " 2300.0,\n",
        " 800.0,\n",
        " 900.0,\n",
        " 12500.0,\n",
        " 37800.0,\n",
        " 13100.0,\n",
        " 2100.0,\n",
        " 9000.0,\n",
        " 6300.0,\n",
        " 2200.0,\n",
        " 4700.0,\n",
        " 5100.0,\n",
        " 4600.0,\n",
        " 11100.0,\n",
        " 18000.0,\n",
        " 16800.0,\n",
        " 21500.0,\n",
        " 5800.0,\n",
        " 7000.0,\n",
        " 8900.0,\n",
        " 1300.0,\n",
        " 2500.0,\n",
        " 8800.0,\n",
        " 5400.0,\n",
        " 6900.0,\n",
        " 2900.0,\n",
        " 5600.0,\n",
        " 34600.0,\n",
        " 1200.0,\n",
        " 11800.0,\n",
        " 1600.0,\n",
        " 2200.0,\n",
        " 7800.0,\n",
        " 500.0,\n",
        " 23700.0,\n",
        " 13300.0,\n",
        " 19000.0,\n",
        " 1700.0,\n",
        " 500.0,\n",
        " 10700.0,\n",
        " 22000.0,\n",
        " 3700.0,\n",
        " 1900.0,\n",
        " 4000.0,\n",
        " 4900.0,\n",
        " 26800.0,\n",
        " 32700.0,\n",
        " 3300.0,\n",
        " 23400.0,\n",
        " 1000.0,\n",
        " 600.0,\n",
        " 7400.0,\n",
        " 1500.0,\n",
        " 2200.0,\n",
        " 9500.0,\n",
        " 6900.0,\n",
        " 6700.0,\n",
        " 5800.0,\n",
        " 9600.0,\n",
        " 1100.0,\n",
        " 1400.0,\n",
        " 5400.0,\n",
        " 23200.0,\n",
        " 27700.0,\n",
        " 37800.0,\n",
        " 12800.0,\n",
        " 1700.0,\n",
        " 2900.0,\n",
        " 4800.0,\n",
        " 2500.0,\n",
        " 17200.0,\n",
        " 3700.0,\n",
        " 800.0,\n",
        " nan,\n",
        " 800.0,\n",
        " 800.0,\n",
        " 1900.0]"
      ],
      "execution_count": null,
      "outputs": []
    },
    {
      "cell_type": "code",
      "metadata": {
        "id": "BklRswa0CiAx"
      },
      "source": [
        ""
      ],
      "execution_count": null,
      "outputs": []
    },
    {
      "cell_type": "code",
      "metadata": {
        "id": "ys3J1ourWhts"
      },
      "source": [
        "phones=[3.2,\n",
        " 71.2,\n",
        " 78.1,\n",
        " 259.5,\n",
        " 497.2,\n",
        " 7.8,\n",
        " 460.0,\n",
        " 549.9,\n",
        " 220.4,\n",
        " 195.7,\n",
        " 516.1,\n",
        " 565.5,\n",
        " 452.2,\n",
        " 137.1,\n",
        " 460.6,\n",
        " 281.3,\n",
        " 7.3,\n",
        " 481.9,\n",
        " 319.1,\n",
        " 462.6,\n",
        " 115.7,\n",
        " 9.7,\n",
        " 851.4,\n",
        " 14.3,\n",
        " 71.9,\n",
        " 215.4,\n",
        " 80.5,\n",
        " 225.3,\n",
        " 506.5,\n",
        " 237.2,\n",
        " 336.3,\n",
        " 7.0,\n",
        " 10.1,\n",
        " 3.4,\n",
        " 2.6,\n",
        " 5.7,\n",
        " 552.2,\n",
        " 169.6,\n",
        " 836.3,\n",
        " 2.3,\n",
        " 1.3,\n",
        " 213.0,\n",
        " 266.7,\n",
        " 176.2,\n",
        " 24.5,\n",
        " 0.2,\n",
        " 3.7,\n",
        " 289.9,\n",
        " 340.7,\n",
        " 14.6,\n",
        " 420.4,\n",
        " 74.7,\n",
        " nan,\n",
        " 314.3,\n",
        " 614.6,\n",
        " 22.8,\n",
        " 304.8,\n",
        " 97.4,\n",
        " nan,\n",
        " 125.6,\n",
        " 131.8,\n",
        " 142.4,\n",
        " 18.5,\n",
        " 7.9,\n",
        " 333.8,\n",
        " 8.2,\n",
        " 503.8,\n",
        " 112.6,\n",
        " 405.3,\n",
        " 586.4,\n",
        " 255.6,\n",
        " 194.5,\n",
        " 27.4,\n",
        " 26.8,\n",
        " 244.3,\n",
        " 146.6,\n",
        " 667.9,\n",
        " 14.4,\n",
        " 877.7,\n",
        " 589.7,\n",
        " 448.9,\n",
        " 364.5,\n",
        " 463.8,\n",
        " 492.0,\n",
        " 92.1,\n",
        " 842.4,\n",
        " 2.7,\n",
        " 7.4,\n",
        " 143.5,\n",
        " 16.9,\n",
        " 67.5,\n",
        " 546.7,\n",
        " 336.2,\n",
        " 647.7,\n",
        " 45.4,\n",
        " 52.0,\n",
        " 276.4,\n",
        " 38.6,\n",
        " 500.5,\n",
        " 676.0,\n",
        " 462.3,\n",
        " 430.9,\n",
        " 124.0,\n",
        " 461.2,\n",
        " 811.3,\n",
        " 104.5,\n",
        " 164.1,\n",
        " 8.1,\n",
        " 42.7,\n",
        " 42.4,\n",
        " 486.1,\n",
        " 211.0,\n",
        " 84.0,\n",
        " 14.1,\n",
        " 321.4,\n",
        " 255.6,\n",
        " 23.7,\n",
        " 2.3,\n",
        " 127.1,\n",
        " 585.5,\n",
        " 223.4,\n",
        " 515.4,\n",
        " 384.9,\n",
        " 260.0,\n",
        " 3.6,\n",
        " 7.9,\n",
        " 179.0,\n",
        " 90.0,\n",
        " 6.4,\n",
        " 505.0,\n",
        " 91.2,\n",
        " 394.4,\n",
        " 12.9,\n",
        " 289.3,\n",
        " 49.7,\n",
        " 181.6,\n",
        " 114.8,\n",
        " 208.1,\n",
        " 1035.6,\n",
        " 55.1,\n",
        " nan,\n",
        " 40.4,\n",
        " 3.5,\n",
        " 62.6,\n",
        " 143.0,\n",
        " 15.9,\n",
        " 460.8,\n",
        " 365.3,\n",
        " 252.2,\n",
        " 441.7,\n",
        " 39.7,\n",
        " 1.9,\n",
        " 9.3,\n",
        " 254.7,\n",
        " 461.7,\n",
        " 85.5,\n",
        " 31.8,\n",
        " 325.6,\n",
        " 137.9,\n",
        " 10.9,\n",
        " 49.2,\n",
        " 79.5,\n",
        " 38.4,\n",
        " 306.3,\n",
        " 399.2,\n",
        " 283.1,\n",
        " 232.0,\n",
        " 380.9,\n",
        " 196.9,\n",
        " 280.6,\n",
        " 2.7,\n",
        " 293.3,\n",
        " 638.9,\n",
        " 303.3,\n",
        " 683.2,\n",
        " 190.9,\n",
        " 75.2,\n",
        " 704.3,\n",
        " 36.2,\n",
        " 140.6,\n",
        " 22.2,\n",
        " 285.8,\n",
        " 262.4,\n",
        " 4.0,\n",
        " 411.4,\n",
        " 220.1,\n",
        " 406.1,\n",
        " 13.4,\n",
        " 11.3,\n",
        " 107.0,\n",
        " 453.5,\n",
        " 61.5,\n",
        " 16.3,\n",
        " 184.7,\n",
        " 30.8,\n",
        " 715.0,\n",
        " 680.9,\n",
        " 153.8,\n",
        " 591.0,\n",
        " 33.5,\n",
        " 4.0,\n",
        " 108.9,\n",
        " 10.6,\n",
        " 97.7,\n",
        " 303.5,\n",
        " 123.6,\n",
        " 269.5,\n",
        " 74.6,\n",
        " 269.5,\n",
        " 59.3,\n",
        " 3.6,\n",
        " 259.9,\n",
        " 475.3,\n",
        " 543.5,\n",
        " 898.0,\n",
        " 291.4,\n",
        " 62.9,\n",
        " 32.6,\n",
        " 140.1,\n",
        " 187.7,\n",
        " 652.8,\n",
        " 118.6,\n",
        " 145.2,\n",
        " nan,\n",
        " 37.2,\n",
        " 8.2,\n",
        " 26.8]"
      ],
      "execution_count": null,
      "outputs": []
    },
    {
      "cell_type": "code",
      "metadata": {
        "id": "2a9oyLJIC2Ac"
      },
      "source": [
        "percent_literate=[36.0,\n",
        " 86.5,\n",
        " 70.0,\n",
        " 97.0,\n",
        " 100.0,\n",
        " 42.0,\n",
        " 95.0,\n",
        " 89.0,\n",
        " 97.1,\n",
        " 98.6,\n",
        " 97.0,\n",
        " 100.0,\n",
        " 98.0,\n",
        " 97.0,\n",
        " 95.6,\n",
        " 89.1,\n",
        " 43.1,\n",
        " 97.4,\n",
        " 99.6,\n",
        " 98.0,\n",
        " 94.1,\n",
        " 40.9,\n",
        " 98.0,\n",
        " 42.2,\n",
        " 87.2,\n",
        " nan,\n",
        " 79.8,\n",
        " 86.4,\n",
        " 97.8,\n",
        " 93.9,\n",
        " 98.6,\n",
        " 26.6,\n",
        " 85.3,\n",
        " 51.6,\n",
        " 69.4,\n",
        " 79.0,\n",
        " 97.0,\n",
        " 76.6,\n",
        " 98.0,\n",
        " 51.0,\n",
        " 47.5,\n",
        " 96.2,\n",
        " 90.9,\n",
        " 92.5,\n",
        " 56.5,\n",
        " 65.5,\n",
        " 83.8,\n",
        " 95.0,\n",
        " 96.0,\n",
        " 50.9,\n",
        " 98.5,\n",
        " 97.0,\n",
        " 97.6,\n",
        " 99.9,\n",
        " 100.0,\n",
        " 67.9,\n",
        " 94.0,\n",
        " 84.7,\n",
        " 58.6,\n",
        " 92.5,\n",
        " 57.7,\n",
        " 80.2,\n",
        " 85.7,\n",
        " 58.6,\n",
        " 99.8,\n",
        " 42.7,\n",
        " nan,\n",
        " 93.7,\n",
        " 100.0,\n",
        " 99.0,\n",
        " 83.0,\n",
        " 98.0,\n",
        " 63.2,\n",
        " 40.1,\n",
        " nan,\n",
        " 99.0,\n",
        " 99.0,\n",
        " 74.8,\n",
        " nan,\n",
        " 97.5,\n",
        " nan,\n",
        " 98.0,\n",
        " 90.0,\n",
        " 99.0,\n",
        " 70.6,\n",
        " nan,\n",
        " 35.9,\n",
        " 42.4,\n",
        " 98.8,\n",
        " 52.9,\n",
        " 76.2,\n",
        " 93.5,\n",
        " 99.4,\n",
        " 99.9,\n",
        " 59.5,\n",
        " 87.9,\n",
        " 79.4,\n",
        " 40.4,\n",
        " 98.0,\n",
        " nan,\n",
        " 95.4,\n",
        " 98.6,\n",
        " 87.9,\n",
        " 99.0,\n",
        " nan,\n",
        " 91.3,\n",
        " 98.4,\n",
        " 85.1,\n",
        " nan,\n",
        " 99.0,\n",
        " 97.9,\n",
        " 83.5,\n",
        " 97.0,\n",
        " 66.4,\n",
        " 99.8,\n",
        " 87.4,\n",
        " 84.8,\n",
        " 57.5,\n",
        " 82.6,\n",
        " 100.0,\n",
        " 99.6,\n",
        " 100.0,\n",
        " 94.5,\n",
        " nan,\n",
        " 68.9,\n",
        " 62.7,\n",
        " 88.7,\n",
        " 97.2,\n",
        " 46.4,\n",
        " 92.8,\n",
        " 93.7,\n",
        " 97.7,\n",
        " 41.7,\n",
        " 85.6,\n",
        " nan,\n",
        " 92.2,\n",
        " 89.0,\n",
        " 99.1,\n",
        " 99.0,\n",
        " 97.8,\n",
        " 97.0,\n",
        " 51.7,\n",
        " 47.8,\n",
        " 84.0,\n",
        " nan,\n",
        " 45.2,\n",
        " 99.0,\n",
        " 96.7,\n",
        " 91.0,\n",
        " 99.0,\n",
        " 67.5,\n",
        " 17.6,\n",
        " 68.0,\n",
        " 97.0,\n",
        " 100.0,\n",
        " 75.8,\n",
        " 45.7,\n",
        " 92.0,\n",
        " 92.6,\n",
        " 64.6,\n",
        " 94.0,\n",
        " 90.9,\n",
        " 92.6,\n",
        " 99.8,\n",
        " 93.3,\n",
        " 94.1,\n",
        " 82.5,\n",
        " 88.9,\n",
        " 98.4,\n",
        " 99.6,\n",
        " 70.4,\n",
        " 97.0,\n",
        " 97.0,\n",
        " 67.0,\n",
        " 99.0,\n",
        " 96.0,\n",
        " 99.7,\n",
        " 96.0,\n",
        " 79.3,\n",
        " 78.8,\n",
        " 40.2,\n",
        " 93.0,\n",
        " 58.0,\n",
        " 31.4,\n",
        " 92.5,\n",
        " nan,\n",
        " 99.7,\n",
        " nan,\n",
        " 37.8,\n",
        " 86.4,\n",
        " 97.9,\n",
        " 92.3,\n",
        " 61.1,\n",
        " 93.0,\n",
        " 81.6,\n",
        " 99.0,\n",
        " 99.0,\n",
        " 76.9,\n",
        " 96.1,\n",
        " 99.4,\n",
        " 78.2,\n",
        " 92.6,\n",
        " 60.9,\n",
        " 98.5,\n",
        " 98.6,\n",
        " 74.2,\n",
        " 86.5,\n",
        " 98.0,\n",
        " 98.0,\n",
        " nan,\n",
        " 69.9,\n",
        " 99.7,\n",
        " 77.9,\n",
        " 99.0,\n",
        " 97.0,\n",
        " 98.0,\n",
        " 99.3,\n",
        " 53.0,\n",
        " 93.4,\n",
        " 90.3,\n",
        " nan,\n",
        " 50.0,\n",
        " nan,\n",
        " nan,\n",
        " 50.2,\n",
        " 80.6,\n",
        " 90.7]"
      ],
      "execution_count": null,
      "outputs": []
    },
    {
      "cell_type": "code",
      "metadata": {
        "id": "c2jSo0UVC8IC"
      },
      "source": [
        "import seaborn as sns"
      ],
      "execution_count": null,
      "outputs": []
    },
    {
      "cell_type": "code",
      "metadata": {
        "id": "pndAT5l4DCRk"
      },
      "source": [
        "import matplotlib.pyplot as plt"
      ],
      "execution_count": null,
      "outputs": []
    },
    {
      "cell_type": "code",
      "metadata": {
        "id": "Ws6y1nZEDIMj",
        "colab": {
          "base_uri": "https://localhost:8080/",
          "height": 282
        },
        "outputId": "dea5e17c-91db-45c3-97d3-fc5babfc216d"
      },
      "source": [
        "sns.scatterplot(x=gdp,y=phones)"
      ],
      "execution_count": null,
      "outputs": [
        {
          "output_type": "execute_result",
          "data": {
            "text/plain": [
              "<matplotlib.axes._subplots.AxesSubplot at 0x7f31d35d8588>"
            ]
          },
          "metadata": {
            "tags": []
          },
          "execution_count": 59
        },
        {
          "output_type": "display_data",
          "data": {
            "image/png": "[encoded data removed]",
            "text/plain": [
              "<Figure size 432x288 with 1 Axes>"
            ]
          },
          "metadata": {
            "tags": [],
            "needs_background": "light"
          }
        }
      ]
    },
    {
      "cell_type": "code",
      "metadata": {
        "id": "b3obSDgpDOSa",
        "colab": {
          "base_uri": "https://localhost:8080/",
          "height": 282
        },
        "outputId": "115c501a-24ac-4fe1-c903-4d30598185bb"
      },
      "source": [
        "sns.scatterplot(x=gdp,y=percent_literate)"
      ],
      "execution_count": null,
      "outputs": [
        {
          "output_type": "execute_result",
          "data": {
            "text/plain": [
              "<matplotlib.axes._subplots.AxesSubplot at 0x7f31d34ab940>"
            ]
          },
          "metadata": {
            "tags": []
          },
          "execution_count": 60
        },
        {
          "output_type": "display_data",
          "data": {
            "image/png": "[encoded data removed]",
            "text/plain": [
              "<Figure size 432x288 with 1 Axes>"
            ]
          },
          "metadata": {
            "tags": [],
            "needs_background": "light"
          }
        }
      ]
    },
    {
      "cell_type": "markdown",
      "metadata": {
        "id": "UZPFuSBIDZRQ"
      },
      "source": [
        "Making a Count Plot with a list"
      ]
    },
    {
      "cell_type": "code",
      "metadata": {
        "id": "YFXNcjbZDVv0"
      },
      "source": [
        "region=['ASIA (EX. NEAR EAST)',\n",
        " 'EASTERN EUROPE',\n",
        " 'NORTHERN AFRICA',\n",
        " 'OCEANIA',\n",
        " 'WESTERN EUROPE',\n",
        " 'SUB-SAHARAN AFRICA',\n",
        " 'LATIN AMER. & CARIB',\n",
        " 'LATIN AMER. & CARIB',\n",
        " 'LATIN AMER. & CARIB',\n",
        " 'C.W. OF IND. STATES',\n",
        " 'LATIN AMER. & CARIB',\n",
        " 'OCEANIA',\n",
        " 'WESTERN EUROPE',\n",
        " 'C.W. OF IND. STATES',\n",
        " 'LATIN AMER. & CARIB',\n",
        " 'NEAR EAST',\n",
        " 'ASIA (EX. NEAR EAST)',\n",
        " 'LATIN AMER. & CARIB',\n",
        " 'C.W. OF IND. STATES',\n",
        " 'WESTERN EUROPE',\n",
        " 'LATIN AMER. & CARIB',\n",
        " 'SUB-SAHARAN AFRICA',\n",
        " 'NORTHERN AMERICA',\n",
        " 'ASIA (EX. NEAR EAST)',\n",
        " 'LATIN AMER. & CARIB',\n",
        " 'EASTERN EUROPE',\n",
        " 'SUB-SAHARAN AFRICA',\n",
        " 'LATIN AMER. & CARIB',\n",
        " 'LATIN AMER. & CARIB',\n",
        " 'ASIA (EX. NEAR EAST)',\n",
        " 'EASTERN EUROPE',\n",
        " 'SUB-SAHARAN AFRICA',\n",
        " 'ASIA (EX. NEAR EAST)',\n",
        " 'SUB-SAHARAN AFRICA',\n",
        " 'ASIA (EX. NEAR EAST)',\n",
        " 'SUB-SAHARAN AFRICA',\n",
        " 'NORTHERN AMERICA',\n",
        " 'SUB-SAHARAN AFRICA',\n",
        " 'LATIN AMER. & CARIB',\n",
        " 'SUB-SAHARAN AFRICA',\n",
        " 'SUB-SAHARAN AFRICA',\n",
        " 'LATIN AMER. & CARIB',\n",
        " 'ASIA (EX. NEAR EAST)',\n",
        " 'LATIN AMER. & CARIB',\n",
        " 'SUB-SAHARAN AFRICA',\n",
        " 'SUB-SAHARAN AFRICA',\n",
        " 'SUB-SAHARAN AFRICA',\n",
        " 'OCEANIA',\n",
        " 'LATIN AMER. & CARIB',\n",
        " 'SUB-SAHARAN AFRICA',\n",
        " 'EASTERN EUROPE',\n",
        " 'LATIN AMER. & CARIB',\n",
        " 'NEAR EAST',\n",
        " 'EASTERN EUROPE',\n",
        " 'WESTERN EUROPE',\n",
        " 'SUB-SAHARAN AFRICA',\n",
        " 'LATIN AMER. & CARIB',\n",
        " 'LATIN AMER. & CARIB',\n",
        " 'ASIA (EX. NEAR EAST)',\n",
        " 'LATIN AMER. & CARIB',\n",
        " 'NORTHERN AFRICA',\n",
        " 'LATIN AMER. & CARIB',\n",
        " 'SUB-SAHARAN AFRICA',\n",
        " 'SUB-SAHARAN AFRICA',\n",
        " 'BALTICS',\n",
        " 'SUB-SAHARAN AFRICA',\n",
        " 'WESTERN EUROPE',\n",
        " 'OCEANIA',\n",
        " 'WESTERN EUROPE',\n",
        " 'WESTERN EUROPE',\n",
        " 'LATIN AMER. & CARIB',\n",
        " 'OCEANIA',\n",
        " 'SUB-SAHARAN AFRICA',\n",
        " 'SUB-SAHARAN AFRICA',\n",
        " 'NEAR EAST',\n",
        " 'C.W. OF IND. STATES',\n",
        " 'WESTERN EUROPE',\n",
        " 'SUB-SAHARAN AFRICA',\n",
        " 'WESTERN EUROPE',\n",
        " 'WESTERN EUROPE',\n",
        " 'NORTHERN AMERICA',\n",
        " 'LATIN AMER. & CARIB',\n",
        " 'LATIN AMER. & CARIB',\n",
        " 'OCEANIA',\n",
        " 'LATIN AMER. & CARIB',\n",
        " 'WESTERN EUROPE',\n",
        " 'SUB-SAHARAN AFRICA',\n",
        " 'SUB-SAHARAN AFRICA',\n",
        " 'LATIN AMER. & CARIB',\n",
        " 'LATIN AMER. & CARIB',\n",
        " 'LATIN AMER. & CARIB',\n",
        " 'ASIA (EX. NEAR EAST)',\n",
        " 'EASTERN EUROPE',\n",
        " 'WESTERN EUROPE',\n",
        " 'ASIA (EX. NEAR EAST)',\n",
        " 'ASIA (EX. NEAR EAST)',\n",
        " 'ASIA (EX. NEAR EAST)',\n",
        " 'NEAR EAST',\n",
        " 'WESTERN EUROPE',\n",
        " 'WESTERN EUROPE',\n",
        " 'NEAR EAST',\n",
        " 'WESTERN EUROPE',\n",
        " 'LATIN AMER. & CARIB',\n",
        " 'ASIA (EX. NEAR EAST)',\n",
        " 'WESTERN EUROPE',\n",
        " 'NEAR EAST',\n",
        " 'C.W. OF IND. STATES',\n",
        " 'SUB-SAHARAN AFRICA',\n",
        " 'OCEANIA',\n",
        " 'ASIA (EX. NEAR EAST)',\n",
        " 'ASIA (EX. NEAR EAST)',\n",
        " 'NEAR EAST',\n",
        " 'C.W. OF IND. STATES',\n",
        " 'ASIA (EX. NEAR EAST)',\n",
        " 'BALTICS',\n",
        " 'NEAR EAST',\n",
        " 'SUB-SAHARAN AFRICA',\n",
        " 'SUB-SAHARAN AFRICA',\n",
        " 'NORTHERN AFRICA',\n",
        " 'WESTERN EUROPE',\n",
        " 'BALTICS',\n",
        " 'WESTERN EUROPE',\n",
        " 'ASIA (EX. NEAR EAST)',\n",
        " 'EASTERN EUROPE',\n",
        " 'SUB-SAHARAN AFRICA',\n",
        " 'SUB-SAHARAN AFRICA',\n",
        " 'ASIA (EX. NEAR EAST)',\n",
        " 'ASIA (EX. NEAR EAST)',\n",
        " 'SUB-SAHARAN AFRICA',\n",
        " 'WESTERN EUROPE',\n",
        " 'OCEANIA',\n",
        " 'LATIN AMER. & CARIB',\n",
        " 'SUB-SAHARAN AFRICA',\n",
        " 'SUB-SAHARAN AFRICA',\n",
        " 'SUB-SAHARAN AFRICA',\n",
        " 'LATIN AMER. & CARIB',\n",
        " 'OCEANIA',\n",
        " 'C.W. OF IND. STATES',\n",
        " 'WESTERN EUROPE',\n",
        " 'ASIA (EX. NEAR EAST)',\n",
        " 'LATIN AMER. & CARIB',\n",
        " 'NORTHERN AFRICA',\n",
        " 'SUB-SAHARAN AFRICA',\n",
        " 'SUB-SAHARAN AFRICA',\n",
        " 'OCEANIA',\n",
        " 'ASIA (EX. NEAR EAST)',\n",
        " 'WESTERN EUROPE',\n",
        " 'LATIN AMER. & CARIB',\n",
        " 'OCEANIA',\n",
        " 'OCEANIA',\n",
        " 'LATIN AMER. & CARIB',\n",
        " 'SUB-SAHARAN AFRICA',\n",
        " 'SUB-SAHARAN AFRICA',\n",
        " 'OCEANIA',\n",
        " 'WESTERN EUROPE',\n",
        " 'NEAR EAST',\n",
        " 'ASIA (EX. NEAR EAST)',\n",
        " 'OCEANIA',\n",
        " 'LATIN AMER. & CARIB',\n",
        " 'OCEANIA',\n",
        " 'LATIN AMER. & CARIB',\n",
        " 'LATIN AMER. & CARIB',\n",
        " 'ASIA (EX. NEAR EAST)',\n",
        " 'EASTERN EUROPE',\n",
        " 'WESTERN EUROPE',\n",
        " 'LATIN AMER. & CARIB',\n",
        " 'NEAR EAST',\n",
        " 'SUB-SAHARAN AFRICA',\n",
        " 'EASTERN EUROPE',\n",
        " 'C.W. OF IND. STATES',\n",
        " 'SUB-SAHARAN AFRICA',\n",
        " 'SUB-SAHARAN AFRICA',\n",
        " 'LATIN AMER. & CARIB',\n",
        " 'LATIN AMER. & CARIB',\n",
        " 'NORTHERN AMERICA',\n",
        " 'LATIN AMER. & CARIB',\n",
        " 'OCEANIA',\n",
        " 'WESTERN EUROPE',\n",
        " 'SUB-SAHARAN AFRICA',\n",
        " 'NEAR EAST',\n",
        " 'SUB-SAHARAN AFRICA',\n",
        " 'EASTERN EUROPE',\n",
        " 'SUB-SAHARAN AFRICA',\n",
        " 'SUB-SAHARAN AFRICA',\n",
        " 'ASIA (EX. NEAR EAST)',\n",
        " 'EASTERN EUROPE',\n",
        " 'EASTERN EUROPE',\n",
        " 'OCEANIA',\n",
        " 'SUB-SAHARAN AFRICA',\n",
        " 'SUB-SAHARAN AFRICA',\n",
        " 'WESTERN EUROPE',\n",
        " 'ASIA (EX. NEAR EAST)',\n",
        " 'SUB-SAHARAN AFRICA',\n",
        " 'LATIN AMER. & CARIB',\n",
        " 'SUB-SAHARAN AFRICA',\n",
        " 'WESTERN EUROPE',\n",
        " 'WESTERN EUROPE',\n",
        " 'NEAR EAST',\n",
        " 'ASIA (EX. NEAR EAST)',\n",
        " 'C.W. OF IND. STATES',\n",
        " 'SUB-SAHARAN AFRICA',\n",
        " 'ASIA (EX. NEAR EAST)',\n",
        " 'SUB-SAHARAN AFRICA',\n",
        " 'OCEANIA',\n",
        " 'LATIN AMER. & CARIB',\n",
        " 'NORTHERN AFRICA',\n",
        " 'NEAR EAST',\n",
        " 'C.W. OF IND. STATES',\n",
        " 'LATIN AMER. & CARIB',\n",
        " 'OCEANIA',\n",
        " 'SUB-SAHARAN AFRICA',\n",
        " 'C.W. OF IND. STATES',\n",
        " 'NEAR EAST',\n",
        " 'WESTERN EUROPE',\n",
        " 'NORTHERN AMERICA',\n",
        " 'LATIN AMER. & CARIB',\n",
        " 'C.W. OF IND. STATES',\n",
        " 'OCEANIA',\n",
        " 'LATIN AMER. & CARIB',\n",
        " 'ASIA (EX. NEAR EAST)',\n",
        " 'LATIN AMER. & CARIB',\n",
        " 'OCEANIA',\n",
        " 'NEAR EAST',\n",
        " 'NORTHERN AFRICA',\n",
        " 'NEAR EAST',\n",
        " 'SUB-SAHARAN AFRICA',\n",
        " 'SUB-SAHARAN AFRICA']"
      ],
      "execution_count": null,
      "outputs": []
    },
    {
      "cell_type": "code",
      "metadata": {
        "id": "7k2X-UL_DhVS",
        "colab": {
          "base_uri": "https://localhost:8080/",
          "height": 296
        },
        "outputId": "dcb3ff1c-face-4e12-92fb-54eba769277e"
      },
      "source": [
        "sns.countplot(y=region)"
      ],
      "execution_count": null,
      "outputs": [
        {
          "output_type": "execute_result",
          "data": {
            "text/plain": [
              "<matplotlib.axes._subplots.AxesSubplot at 0x7f31d3385048>"
            ]
          },
          "metadata": {
            "tags": []
          },
          "execution_count": 63
        },
        {
          "output_type": "display_data",
          "data": {
            "image/png": "[encoded data removed]",
            "text/plain": [
              "<Figure size 432x288 with 1 Axes>"
            ]
          },
          "metadata": {
            "tags": [],
            "needs_background": "light"
          }
        }
      ]
    },
    {
      "cell_type": "markdown",
      "metadata": {
        "id": "0qw0x4EADsVu"
      },
      "source": [
        "Making a countplot with dataframe"
      ]
    },
    {
      "cell_type": "code",
      "metadata": {
        "id": "2F7L8ceXDmCE"
      },
      "source": [
        "csv_filepath= 'http://assets.datacamp.com/production/repositories/3996/datasets/ab13162732ae9ca1a9a27e2efd3da923ed6a4e7b/young-people-survey-responses.csv'\n"
      ],
      "execution_count": null,
      "outputs": []
    },
    {
      "cell_type": "code",
      "metadata": {
        "id": "yS6_okeqD7pY"
      },
      "source": [
        "import pandas as pd"
      ],
      "execution_count": null,
      "outputs": []
    },
    {
      "cell_type": "code",
      "metadata": {
        "id": "4GSWlbYsD-DF"
      },
      "source": [
        "df=pd.read_csv(csv_filepath,index_col=0)"
      ],
      "execution_count": null,
      "outputs": []
    },
    {
      "cell_type": "code",
      "metadata": {
        "id": "QS0dYquCEFR6",
        "colab": {
          "base_uri": "https://localhost:8080/",
          "height": 326
        },
        "outputId": "9ef2b6c1-a769-4e09-e771-31b1a5a08695"
      },
      "source": [
        "df.head()"
      ],
      "execution_count": null,
      "outputs": [
        {
          "output_type": "execute_result",
          "data": {
            "text/html": [
              "<div>\n",
              "<style scoped>\n",
              "    .dataframe tbody tr th:only-of-type {\n",
              "        vertical-align: middle;\n",
              "    }\n",
              "\n",
              "    .dataframe tbody tr th {\n",
              "        vertical-align: top;\n",
              "    }\n",
              "\n",
              "    .dataframe thead th {\n",
              "        text-align: right;\n",
              "    }\n",
              "</style>\n",
              "<table border=\"1\" class=\"dataframe\">\n",
              "  <thead>\n",
              "    <tr style=\"text-align: right;\">\n",
              "      <th></th>\n",
              "      <th>Music</th>\n",
              "      <th>Techno</th>\n",
              "      <th>Movies</th>\n",
              "      <th>History</th>\n",
              "      <th>Mathematics</th>\n",
              "      <th>Pets</th>\n",
              "      <th>Spiders</th>\n",
              "      <th>Loneliness</th>\n",
              "      <th>Parents' advice</th>\n",
              "      <th>Internet usage</th>\n",
              "      <th>Finances</th>\n",
              "      <th>Age</th>\n",
              "      <th>Siblings</th>\n",
              "      <th>Gender</th>\n",
              "      <th>Village - town</th>\n",
              "    </tr>\n",
              "  </thead>\n",
              "  <tbody>\n",
              "    <tr>\n",
              "      <th>0</th>\n",
              "      <td>5.0</td>\n",
              "      <td>1.0</td>\n",
              "      <td>5.0</td>\n",
              "      <td>1.0</td>\n",
              "      <td>3.0</td>\n",
              "      <td>4.0</td>\n",
              "      <td>1.0</td>\n",
              "      <td>3.0</td>\n",
              "      <td>4.0</td>\n",
              "      <td>few hours a day</td>\n",
              "      <td>3.0</td>\n",
              "      <td>20.0</td>\n",
              "      <td>1.0</td>\n",
              "      <td>female</td>\n",
              "      <td>village</td>\n",
              "    </tr>\n",
              "    <tr>\n",
              "      <th>1</th>\n",
              "      <td>4.0</td>\n",
              "      <td>1.0</td>\n",
              "      <td>5.0</td>\n",
              "      <td>1.0</td>\n",
              "      <td>5.0</td>\n",
              "      <td>5.0</td>\n",
              "      <td>1.0</td>\n",
              "      <td>2.0</td>\n",
              "      <td>2.0</td>\n",
              "      <td>few hours a day</td>\n",
              "      <td>3.0</td>\n",
              "      <td>19.0</td>\n",
              "      <td>2.0</td>\n",
              "      <td>female</td>\n",
              "      <td>city</td>\n",
              "    </tr>\n",
              "    <tr>\n",
              "      <th>2</th>\n",
              "      <td>5.0</td>\n",
              "      <td>1.0</td>\n",
              "      <td>5.0</td>\n",
              "      <td>1.0</td>\n",
              "      <td>5.0</td>\n",
              "      <td>5.0</td>\n",
              "      <td>1.0</td>\n",
              "      <td>5.0</td>\n",
              "      <td>3.0</td>\n",
              "      <td>few hours a day</td>\n",
              "      <td>2.0</td>\n",
              "      <td>20.0</td>\n",
              "      <td>2.0</td>\n",
              "      <td>female</td>\n",
              "      <td>city</td>\n",
              "    </tr>\n",
              "    <tr>\n",
              "      <th>3</th>\n",
              "      <td>5.0</td>\n",
              "      <td>2.0</td>\n",
              "      <td>5.0</td>\n",
              "      <td>4.0</td>\n",
              "      <td>4.0</td>\n",
              "      <td>1.0</td>\n",
              "      <td>5.0</td>\n",
              "      <td>5.0</td>\n",
              "      <td>2.0</td>\n",
              "      <td>most of the day</td>\n",
              "      <td>2.0</td>\n",
              "      <td>22.0</td>\n",
              "      <td>1.0</td>\n",
              "      <td>female</td>\n",
              "      <td>city</td>\n",
              "    </tr>\n",
              "    <tr>\n",
              "      <th>4</th>\n",
              "      <td>5.0</td>\n",
              "      <td>2.0</td>\n",
              "      <td>5.0</td>\n",
              "      <td>3.0</td>\n",
              "      <td>2.0</td>\n",
              "      <td>1.0</td>\n",
              "      <td>1.0</td>\n",
              "      <td>3.0</td>\n",
              "      <td>3.0</td>\n",
              "      <td>few hours a day</td>\n",
              "      <td>4.0</td>\n",
              "      <td>20.0</td>\n",
              "      <td>1.0</td>\n",
              "      <td>female</td>\n",
              "      <td>village</td>\n",
              "    </tr>\n",
              "  </tbody>\n",
              "</table>\n",
              "</div>"
            ],
            "text/plain": [
              "   Music  Techno  Movies  History  ...   Age  Siblings  Gender  Village - town\n",
              "0    5.0     1.0     5.0      1.0  ...  20.0       1.0  female         village\n",
              "1    4.0     1.0     5.0      1.0  ...  19.0       2.0  female            city\n",
              "2    5.0     1.0     5.0      1.0  ...  20.0       2.0  female            city\n",
              "3    5.0     2.0     5.0      4.0  ...  22.0       1.0  female            city\n",
              "4    5.0     2.0     5.0      3.0  ...  20.0       1.0  female         village\n",
              "\n",
              "[5 rows x 15 columns]"
            ]
          },
          "metadata": {
            "tags": []
          },
          "execution_count": 67
        }
      ]
    },
    {
      "cell_type": "code",
      "metadata": {
        "id": "y_TzcXI0EGKb",
        "colab": {
          "base_uri": "https://localhost:8080/",
          "height": 300
        },
        "outputId": "bf422c7a-e496-4d70-9fa8-fd4327d3f3b7"
      },
      "source": [
        "sns.countplot(x='Spiders',data=df)"
      ],
      "execution_count": null,
      "outputs": [
        {
          "output_type": "execute_result",
          "data": {
            "text/plain": [
              "<matplotlib.axes._subplots.AxesSubplot at 0x7f31d3380ac8>"
            ]
          },
          "metadata": {
            "tags": []
          },
          "execution_count": 68
        },
        {
          "output_type": "display_data",
          "data": {
            "image/png": "[encoded data removed]",
            "text/plain": [
              "<Figure size 432x288 with 1 Axes>"
            ]
          },
          "metadata": {
            "tags": [],
            "needs_background": "light"
          }
        }
      ]
    },
    {
      "cell_type": "markdown",
      "metadata": {
        "id": "mGYT4-K3EhrZ"
      },
      "source": [
        "Hue and ScatterPlots"
      ]
    },
    {
      "cell_type": "code",
      "metadata": {
        "id": "5OMszc0tEcK0",
        "colab": {
          "base_uri": "https://localhost:8080/",
          "height": 456
        },
        "outputId": "e3419782-1735-4f04-ce0a-1e5e53ad8536"
      },
      "source": [
        "student_data=pd.read_csv('student_data.csv',index_col=0)\n",
        "student_data"
      ],
      "execution_count": null,
      "outputs": [
        {
          "output_type": "execute_result",
          "data": {
            "text/html": [
              "<div>\n",
              "<style scoped>\n",
              "    .dataframe tbody tr th:only-of-type {\n",
              "        vertical-align: middle;\n",
              "    }\n",
              "\n",
              "    .dataframe tbody tr th {\n",
              "        vertical-align: top;\n",
              "    }\n",
              "\n",
              "    .dataframe thead th {\n",
              "        text-align: right;\n",
              "    }\n",
              "</style>\n",
              "<table border=\"1\" class=\"dataframe\">\n",
              "  <thead>\n",
              "    <tr style=\"text-align: right;\">\n",
              "      <th></th>\n",
              "      <th>Dalc</th>\n",
              "      <th>Fedu</th>\n",
              "      <th>G1</th>\n",
              "      <th>G2</th>\n",
              "      <th>G3</th>\n",
              "      <th>Medu</th>\n",
              "      <th>Pstatus</th>\n",
              "      <th>Walc</th>\n",
              "      <th>absences</th>\n",
              "      <th>activities</th>\n",
              "      <th>age</th>\n",
              "      <th>failures</th>\n",
              "      <th>famrel</th>\n",
              "      <th>famsize</th>\n",
              "      <th>famsup</th>\n",
              "      <th>freetime</th>\n",
              "      <th>goout</th>\n",
              "      <th>health</th>\n",
              "      <th>higher</th>\n",
              "      <th>internet</th>\n",
              "      <th>location</th>\n",
              "      <th>nursery</th>\n",
              "      <th>paid</th>\n",
              "      <th>romantic</th>\n",
              "      <th>school</th>\n",
              "      <th>schoolsup</th>\n",
              "      <th>sex</th>\n",
              "      <th>study_time</th>\n",
              "      <th>traveltime</th>\n",
              "    </tr>\n",
              "  </thead>\n",
              "  <tbody>\n",
              "    <tr>\n",
              "      <th>0</th>\n",
              "      <td>1</td>\n",
              "      <td>4</td>\n",
              "      <td>5</td>\n",
              "      <td>6</td>\n",
              "      <td>6</td>\n",
              "      <td>4</td>\n",
              "      <td>A</td>\n",
              "      <td>1</td>\n",
              "      <td>6</td>\n",
              "      <td>no</td>\n",
              "      <td>18</td>\n",
              "      <td>0</td>\n",
              "      <td>4</td>\n",
              "      <td>GT3</td>\n",
              "      <td>no</td>\n",
              "      <td>3</td>\n",
              "      <td>4</td>\n",
              "      <td>3</td>\n",
              "      <td>yes</td>\n",
              "      <td>no</td>\n",
              "      <td>Urban</td>\n",
              "      <td>yes</td>\n",
              "      <td>no</td>\n",
              "      <td>no</td>\n",
              "      <td>GP</td>\n",
              "      <td>yes</td>\n",
              "      <td>F</td>\n",
              "      <td>2 to 5 hours</td>\n",
              "      <td>2</td>\n",
              "    </tr>\n",
              "    <tr>\n",
              "      <th>1</th>\n",
              "      <td>1</td>\n",
              "      <td>1</td>\n",
              "      <td>5</td>\n",
              "      <td>5</td>\n",
              "      <td>6</td>\n",
              "      <td>1</td>\n",
              "      <td>T</td>\n",
              "      <td>1</td>\n",
              "      <td>4</td>\n",
              "      <td>no</td>\n",
              "      <td>17</td>\n",
              "      <td>0</td>\n",
              "      <td>5</td>\n",
              "      <td>GT3</td>\n",
              "      <td>yes</td>\n",
              "      <td>3</td>\n",
              "      <td>3</td>\n",
              "      <td>3</td>\n",
              "      <td>yes</td>\n",
              "      <td>yes</td>\n",
              "      <td>Urban</td>\n",
              "      <td>no</td>\n",
              "      <td>no</td>\n",
              "      <td>no</td>\n",
              "      <td>GP</td>\n",
              "      <td>no</td>\n",
              "      <td>F</td>\n",
              "      <td>2 to 5 hours</td>\n",
              "      <td>1</td>\n",
              "    </tr>\n",
              "    <tr>\n",
              "      <th>2</th>\n",
              "      <td>2</td>\n",
              "      <td>1</td>\n",
              "      <td>7</td>\n",
              "      <td>8</td>\n",
              "      <td>10</td>\n",
              "      <td>1</td>\n",
              "      <td>T</td>\n",
              "      <td>3</td>\n",
              "      <td>10</td>\n",
              "      <td>no</td>\n",
              "      <td>15</td>\n",
              "      <td>3</td>\n",
              "      <td>4</td>\n",
              "      <td>LE3</td>\n",
              "      <td>no</td>\n",
              "      <td>3</td>\n",
              "      <td>2</td>\n",
              "      <td>3</td>\n",
              "      <td>yes</td>\n",
              "      <td>yes</td>\n",
              "      <td>Urban</td>\n",
              "      <td>yes</td>\n",
              "      <td>yes</td>\n",
              "      <td>no</td>\n",
              "      <td>GP</td>\n",
              "      <td>yes</td>\n",
              "      <td>F</td>\n",
              "      <td>2 to 5 hours</td>\n",
              "      <td>1</td>\n",
              "    </tr>\n",
              "    <tr>\n",
              "      <th>3</th>\n",
              "      <td>1</td>\n",
              "      <td>2</td>\n",
              "      <td>15</td>\n",
              "      <td>14</td>\n",
              "      <td>15</td>\n",
              "      <td>4</td>\n",
              "      <td>T</td>\n",
              "      <td>1</td>\n",
              "      <td>2</td>\n",
              "      <td>yes</td>\n",
              "      <td>15</td>\n",
              "      <td>0</td>\n",
              "      <td>3</td>\n",
              "      <td>GT3</td>\n",
              "      <td>yes</td>\n",
              "      <td>2</td>\n",
              "      <td>2</td>\n",
              "      <td>5</td>\n",
              "      <td>yes</td>\n",
              "      <td>yes</td>\n",
              "      <td>Urban</td>\n",
              "      <td>yes</td>\n",
              "      <td>yes</td>\n",
              "      <td>yes</td>\n",
              "      <td>GP</td>\n",
              "      <td>no</td>\n",
              "      <td>F</td>\n",
              "      <td>5 to 10 hours</td>\n",
              "      <td>1</td>\n",
              "    </tr>\n",
              "    <tr>\n",
              "      <th>4</th>\n",
              "      <td>1</td>\n",
              "      <td>3</td>\n",
              "      <td>6</td>\n",
              "      <td>10</td>\n",
              "      <td>10</td>\n",
              "      <td>3</td>\n",
              "      <td>T</td>\n",
              "      <td>2</td>\n",
              "      <td>4</td>\n",
              "      <td>no</td>\n",
              "      <td>16</td>\n",
              "      <td>0</td>\n",
              "      <td>4</td>\n",
              "      <td>GT3</td>\n",
              "      <td>yes</td>\n",
              "      <td>3</td>\n",
              "      <td>2</td>\n",
              "      <td>5</td>\n",
              "      <td>yes</td>\n",
              "      <td>no</td>\n",
              "      <td>Urban</td>\n",
              "      <td>yes</td>\n",
              "      <td>yes</td>\n",
              "      <td>no</td>\n",
              "      <td>GP</td>\n",
              "      <td>no</td>\n",
              "      <td>F</td>\n",
              "      <td>2 to 5 hours</td>\n",
              "      <td>1</td>\n",
              "    </tr>\n",
              "    <tr>\n",
              "      <th>...</th>\n",
              "      <td>...</td>\n",
              "      <td>...</td>\n",
              "      <td>...</td>\n",
              "      <td>...</td>\n",
              "      <td>...</td>\n",
              "      <td>...</td>\n",
              "      <td>...</td>\n",
              "      <td>...</td>\n",
              "      <td>...</td>\n",
              "      <td>...</td>\n",
              "      <td>...</td>\n",
              "      <td>...</td>\n",
              "      <td>...</td>\n",
              "      <td>...</td>\n",
              "      <td>...</td>\n",
              "      <td>...</td>\n",
              "      <td>...</td>\n",
              "      <td>...</td>\n",
              "      <td>...</td>\n",
              "      <td>...</td>\n",
              "      <td>...</td>\n",
              "      <td>...</td>\n",
              "      <td>...</td>\n",
              "      <td>...</td>\n",
              "      <td>...</td>\n",
              "      <td>...</td>\n",
              "      <td>...</td>\n",
              "      <td>...</td>\n",
              "      <td>...</td>\n",
              "    </tr>\n",
              "    <tr>\n",
              "      <th>390</th>\n",
              "      <td>4</td>\n",
              "      <td>2</td>\n",
              "      <td>9</td>\n",
              "      <td>9</td>\n",
              "      <td>9</td>\n",
              "      <td>2</td>\n",
              "      <td>A</td>\n",
              "      <td>5</td>\n",
              "      <td>11</td>\n",
              "      <td>no</td>\n",
              "      <td>20</td>\n",
              "      <td>2</td>\n",
              "      <td>5</td>\n",
              "      <td>LE3</td>\n",
              "      <td>yes</td>\n",
              "      <td>5</td>\n",
              "      <td>4</td>\n",
              "      <td>4</td>\n",
              "      <td>yes</td>\n",
              "      <td>no</td>\n",
              "      <td>Urban</td>\n",
              "      <td>yes</td>\n",
              "      <td>yes</td>\n",
              "      <td>no</td>\n",
              "      <td>MS</td>\n",
              "      <td>no</td>\n",
              "      <td>M</td>\n",
              "      <td>2 to 5 hours</td>\n",
              "      <td>1</td>\n",
              "    </tr>\n",
              "    <tr>\n",
              "      <th>391</th>\n",
              "      <td>3</td>\n",
              "      <td>1</td>\n",
              "      <td>14</td>\n",
              "      <td>16</td>\n",
              "      <td>16</td>\n",
              "      <td>3</td>\n",
              "      <td>T</td>\n",
              "      <td>4</td>\n",
              "      <td>3</td>\n",
              "      <td>no</td>\n",
              "      <td>17</td>\n",
              "      <td>0</td>\n",
              "      <td>2</td>\n",
              "      <td>LE3</td>\n",
              "      <td>no</td>\n",
              "      <td>4</td>\n",
              "      <td>5</td>\n",
              "      <td>2</td>\n",
              "      <td>yes</td>\n",
              "      <td>yes</td>\n",
              "      <td>Urban</td>\n",
              "      <td>no</td>\n",
              "      <td>no</td>\n",
              "      <td>no</td>\n",
              "      <td>MS</td>\n",
              "      <td>no</td>\n",
              "      <td>M</td>\n",
              "      <td>&lt;2 hours</td>\n",
              "      <td>2</td>\n",
              "    </tr>\n",
              "    <tr>\n",
              "      <th>392</th>\n",
              "      <td>3</td>\n",
              "      <td>1</td>\n",
              "      <td>10</td>\n",
              "      <td>8</td>\n",
              "      <td>7</td>\n",
              "      <td>1</td>\n",
              "      <td>T</td>\n",
              "      <td>3</td>\n",
              "      <td>3</td>\n",
              "      <td>no</td>\n",
              "      <td>21</td>\n",
              "      <td>3</td>\n",
              "      <td>5</td>\n",
              "      <td>GT3</td>\n",
              "      <td>no</td>\n",
              "      <td>5</td>\n",
              "      <td>3</td>\n",
              "      <td>3</td>\n",
              "      <td>yes</td>\n",
              "      <td>no</td>\n",
              "      <td>Rural</td>\n",
              "      <td>no</td>\n",
              "      <td>no</td>\n",
              "      <td>no</td>\n",
              "      <td>MS</td>\n",
              "      <td>no</td>\n",
              "      <td>M</td>\n",
              "      <td>&lt;2 hours</td>\n",
              "      <td>1</td>\n",
              "    </tr>\n",
              "    <tr>\n",
              "      <th>393</th>\n",
              "      <td>3</td>\n",
              "      <td>2</td>\n",
              "      <td>11</td>\n",
              "      <td>12</td>\n",
              "      <td>10</td>\n",
              "      <td>3</td>\n",
              "      <td>T</td>\n",
              "      <td>4</td>\n",
              "      <td>0</td>\n",
              "      <td>no</td>\n",
              "      <td>18</td>\n",
              "      <td>0</td>\n",
              "      <td>4</td>\n",
              "      <td>LE3</td>\n",
              "      <td>no</td>\n",
              "      <td>4</td>\n",
              "      <td>1</td>\n",
              "      <td>5</td>\n",
              "      <td>yes</td>\n",
              "      <td>yes</td>\n",
              "      <td>Rural</td>\n",
              "      <td>no</td>\n",
              "      <td>no</td>\n",
              "      <td>no</td>\n",
              "      <td>MS</td>\n",
              "      <td>no</td>\n",
              "      <td>M</td>\n",
              "      <td>&lt;2 hours</td>\n",
              "      <td>3</td>\n",
              "    </tr>\n",
              "    <tr>\n",
              "      <th>394</th>\n",
              "      <td>3</td>\n",
              "      <td>1</td>\n",
              "      <td>8</td>\n",
              "      <td>9</td>\n",
              "      <td>9</td>\n",
              "      <td>1</td>\n",
              "      <td>T</td>\n",
              "      <td>3</td>\n",
              "      <td>5</td>\n",
              "      <td>no</td>\n",
              "      <td>19</td>\n",
              "      <td>0</td>\n",
              "      <td>3</td>\n",
              "      <td>LE3</td>\n",
              "      <td>no</td>\n",
              "      <td>2</td>\n",
              "      <td>3</td>\n",
              "      <td>5</td>\n",
              "      <td>yes</td>\n",
              "      <td>yes</td>\n",
              "      <td>Urban</td>\n",
              "      <td>yes</td>\n",
              "      <td>no</td>\n",
              "      <td>no</td>\n",
              "      <td>MS</td>\n",
              "      <td>no</td>\n",
              "      <td>M</td>\n",
              "      <td>&lt;2 hours</td>\n",
              "      <td>1</td>\n",
              "    </tr>\n",
              "  </tbody>\n",
              "</table>\n",
              "<p>395 rows × 29 columns</p>\n",
              "</div>"
            ],
            "text/plain": [
              "     Dalc  Fedu  G1  G2  G3  ...  school schoolsup  sex     study_time traveltime\n",
              "0       1     4   5   6   6  ...      GP       yes    F   2 to 5 hours          2\n",
              "1       1     1   5   5   6  ...      GP        no    F   2 to 5 hours          1\n",
              "2       2     1   7   8  10  ...      GP       yes    F   2 to 5 hours          1\n",
              "3       1     2  15  14  15  ...      GP        no    F  5 to 10 hours          1\n",
              "4       1     3   6  10  10  ...      GP        no    F   2 to 5 hours          1\n",
              "..    ...   ...  ..  ..  ..  ...     ...       ...  ...            ...        ...\n",
              "390     4     2   9   9   9  ...      MS        no    M   2 to 5 hours          1\n",
              "391     3     1  14  16  16  ...      MS        no    M       <2 hours          2\n",
              "392     3     1  10   8   7  ...      MS        no    M       <2 hours          1\n",
              "393     3     2  11  12  10  ...      MS        no    M       <2 hours          3\n",
              "394     3     1   8   9   9  ...      MS        no    M       <2 hours          1\n",
              "\n",
              "[395 rows x 29 columns]"
            ]
          },
          "metadata": {
            "tags": []
          },
          "execution_count": 69
        }
      ]
    },
    {
      "cell_type": "code",
      "metadata": {
        "id": "bov-JPQcEvod",
        "colab": {
          "base_uri": "https://localhost:8080/",
          "height": 296
        },
        "outputId": "b6064585-399a-4968-a6da-b3e0fd05c815"
      },
      "source": [
        "sns.scatterplot(x='absences',y='G3',data=student_data,hue='location')"
      ],
      "execution_count": null,
      "outputs": [
        {
          "output_type": "execute_result",
          "data": {
            "text/plain": [
              "<matplotlib.axes._subplots.AxesSubplot at 0x7f31d49bd400>"
            ]
          },
          "metadata": {
            "tags": []
          },
          "execution_count": 70
        },
        {
          "output_type": "display_data",
          "data": {
            "image/png": "[encoded data removed]",
            "text/plain": [
              "<Figure size 432x288 with 1 Axes>"
            ]
          },
          "metadata": {
            "tags": [],
            "needs_background": "light"
          }
        }
      ]
    },
    {
      "cell_type": "code",
      "metadata": {
        "id": "w3jW69WIE_g_",
        "colab": {
          "base_uri": "https://localhost:8080/",
          "height": 296
        },
        "outputId": "952c3ff3-85dc-439c-c4aa-bb571abad937"
      },
      "source": [
        "sns.scatterplot(x='absences',y='G3',data=student_data,hue='location',hue_order=['Rural','Urban'])"
      ],
      "execution_count": null,
      "outputs": [
        {
          "output_type": "execute_result",
          "data": {
            "text/plain": [
              "<matplotlib.axes._subplots.AxesSubplot at 0x7f31d49de208>"
            ]
          },
          "metadata": {
            "tags": []
          },
          "execution_count": 73
        },
        {
          "output_type": "display_data",
          "data": {
            "image/png": "[encoded data removed]",
            "text/plain": [
              "<Figure size 432x288 with 1 Axes>"
            ]
          },
          "metadata": {
            "tags": [],
            "needs_background": "light"
          }
        }
      ]
    },
    {
      "cell_type": "code",
      "metadata": {
        "id": "uNYTVSdOFSLf",
        "colab": {
          "base_uri": "https://localhost:8080/",
          "height": 296
        },
        "outputId": "10587072-bdf2-4111-db21-51dbab557c9c"
      },
      "source": [
        "palette_colors={'Rural':'red','Urban':'black'}\n",
        "sns.scatterplot(x='absences',y='G3',data=student_data,hue='location',\n",
        "  hue_order=['Rural','Urban'],palette=palette_colors)"
      ],
      "execution_count": null,
      "outputs": [
        {
          "output_type": "execute_result",
          "data": {
            "text/plain": [
              "<matplotlib.axes._subplots.AxesSubplot at 0x7f31d2b3f4a8>"
            ]
          },
          "metadata": {
            "tags": []
          },
          "execution_count": 76
        },
        {
          "output_type": "display_data",
          "data": {
            "image/png": "[encoded data removed]",
            "text/plain": [
              "<Figure size 432x288 with 1 Axes>"
            ]
          },
          "metadata": {
            "tags": [],
            "needs_background": "light"
          }
        }
      ]
    },
    {
      "cell_type": "markdown",
      "metadata": {
        "id": "wqNTz3N1GYcs"
      },
      "source": [
        "Hue and count plots"
      ]
    },
    {
      "cell_type": "code",
      "metadata": {
        "id": "gcJDK0Z2GiRE",
        "colab": {
          "base_uri": "https://localhost:8080/",
          "height": 383
        },
        "outputId": "152324e3-85fc-42d0-f980-dc8ad62cb74e"
      },
      "source": [
        "sns.relplot(x='absences',y='G3',kind='scatter',data=student_data)\n",
        "plt.show()"
      ],
      "execution_count": null,
      "outputs": [
        {
          "output_type": "display_data",
          "data": {
            "image/png": "[encoded data removed]",
            "text/plain": [
              "<Figure size 360x360 with 1 Axes>"
            ]
          },
          "metadata": {
            "tags": [],
            "needs_background": "light"
          }
        }
      ]
    },
    {
      "cell_type": "code",
      "metadata": {
        "id": "2xCARgDyGvar",
        "colab": {
          "base_uri": "https://localhost:8080/",
          "height": 51
        },
        "outputId": "3a8f242b-c30a-4244-ea92-ede60c4c01b5"
      },
      "source": [
        "student_data['study_time'].unique()"
      ],
      "execution_count": null,
      "outputs": [
        {
          "output_type": "execute_result",
          "data": {
            "text/plain": [
              "array(['2 to 5 hours', '5 to 10 hours', '<2 hours', '>10 hours'],\n",
              "      dtype=object)"
            ]
          },
          "metadata": {
            "tags": []
          },
          "execution_count": 82
        }
      ]
    },
    {
      "cell_type": "code",
      "metadata": {
        "id": "bYS_A8OiHJbJ",
        "colab": {
          "base_uri": "https://localhost:8080/",
          "height": 193
        },
        "outputId": "6082c4da-aaf7-4211-b366-712868bdcc4e"
      },
      "source": [
        "sns.relplot(x='absences',y='G3',kind='scatter',data=student_data,col='study_time')"
      ],
      "execution_count": null,
      "outputs": [
        {
          "output_type": "execute_result",
          "data": {
            "text/plain": [
              "<seaborn.axisgrid.FacetGrid at 0x7f31d2962630>"
            ]
          },
          "metadata": {
            "tags": []
          },
          "execution_count": 83
        },
        {
          "output_type": "display_data",
          "data": {
            "image/png": "[encoded data removed]",
            "text/plain": [
              "<Figure size 1440x360 with 4 Axes>"
            ]
          },
          "metadata": {
            "tags": [],
            "needs_background": "light"
          }
        }
      ]
    },
    {
      "cell_type": "code",
      "metadata": {
        "id": "yqfA-NsOHby4",
        "colab": {
          "base_uri": "https://localhost:8080/",
          "height": 1000
        },
        "outputId": "fdf61fd7-0d23-40f9-8551-8db38e0d4cd8"
      },
      "source": [
        "sns.relplot(x='absences',y='G3',kind='scatter',data=student_data,row='study_time')"
      ],
      "execution_count": null,
      "outputs": [
        {
          "output_type": "execute_result",
          "data": {
            "text/plain": [
              "<seaborn.axisgrid.FacetGrid at 0x7f31d2712c88>"
            ]
          },
          "metadata": {
            "tags": []
          },
          "execution_count": 84
        },
        {
          "output_type": "display_data",
          "data": {
            "image/png": "[encoded data removed]",
            "text/plain": [
              "<Figure size 360x1440 with 4 Axes>"
            ]
          },
          "metadata": {
            "tags": [],
            "needs_background": "light"
          }
        }
      ]
    },
    {
      "cell_type": "markdown",
      "metadata": {
        "id": "XxwhZBgbHqWZ"
      },
      "source": [
        "Creating subplots with col and row"
      ]
    },
    {
      "cell_type": "code",
      "metadata": {
        "id": "pLhUREQSHjew",
        "colab": {
          "base_uri": "https://localhost:8080/",
          "height": 383
        },
        "outputId": "d178eb31-699a-4981-a8c0-d00fc0a5baf9"
      },
      "source": [
        "sns.relplot(x='G1',y='G3',data=student_data,kind='scatter')\n",
        "plt.show()"
      ],
      "execution_count": null,
      "outputs": [
        {
          "output_type": "display_data",
          "data": {
            "image/png": "[encoded data removed]",
            "text/plain": [
              "<Figure size 360x360 with 1 Axes>"
            ]
          },
          "metadata": {
            "tags": [],
            "needs_background": "light"
          }
        }
      ]
    },
    {
      "cell_type": "code",
      "metadata": {
        "id": "_GrFpNxhIBjC",
        "colab": {
          "base_uri": "https://localhost:8080/",
          "height": 34
        },
        "outputId": "66d4d928-5663-407f-9cc4-c7472dbec787"
      },
      "source": [
        "student_data['schoolsup'].unique()"
      ],
      "execution_count": null,
      "outputs": [
        {
          "output_type": "execute_result",
          "data": {
            "text/plain": [
              "array(['yes', 'no'], dtype=object)"
            ]
          },
          "metadata": {
            "tags": []
          },
          "execution_count": 87
        }
      ]
    },
    {
      "cell_type": "code",
      "metadata": {
        "id": "JX1HqcQQIIXb",
        "colab": {
          "base_uri": "https://localhost:8080/",
          "height": 351
        },
        "outputId": "2f5537ae-febd-4977-ee19-4e10980f71ec"
      },
      "source": [
        "sns.relplot(x='G1',y='G3',data=student_data,kind='scatter',col='schoolsup',\n",
        "  col_order=['no','yes'])"
      ],
      "execution_count": null,
      "outputs": [
        {
          "output_type": "execute_result",
          "data": {
            "text/plain": [
              "<seaborn.axisgrid.FacetGrid at 0x7f31d3212f60>"
            ]
          },
          "metadata": {
            "tags": []
          },
          "execution_count": 89
        },
        {
          "output_type": "display_data",
          "data": {
            "image/png": "[encoded data removed]",
            "text/plain": [
              "<Figure size 720x360 with 2 Axes>"
            ]
          },
          "metadata": {
            "tags": [],
            "needs_background": "light"
          }
        }
      ]
    },
    {
      "cell_type": "code",
      "metadata": {
        "id": "fyDUPAp-JjPd",
        "colab": {
          "base_uri": "https://localhost:8080/",
          "height": 34
        },
        "outputId": "fb5604f7-9626-4f55-ea2b-889a3a0205ed"
      },
      "source": [
        "student_data['famsup'].unique()"
      ],
      "execution_count": null,
      "outputs": [
        {
          "output_type": "execute_result",
          "data": {
            "text/plain": [
              "array(['no', 'yes'], dtype=object)"
            ]
          },
          "metadata": {
            "tags": []
          },
          "execution_count": 90
        }
      ]
    },
    {
      "cell_type": "code",
      "metadata": {
        "id": "HeJTFtAOLUGz",
        "colab": {
          "base_uri": "https://localhost:8080/",
          "height": 663
        },
        "outputId": "b3f12d86-cee2-420b-f31f-71ee72a3e2f8"
      },
      "source": [
        "sns.relplot(x='G1',y='G3',data=student_data,kind='scatter',col=\"schoolsup\",col_order=[\"no\",\"yes\"],\n",
        "           row=\"famsup\",row_order=[\"yes\",\"no\"])\n"
      ],
      "execution_count": null,
      "outputs": [
        {
          "output_type": "execute_result",
          "data": {
            "text/plain": [
              "<seaborn.axisgrid.FacetGrid at 0x7f31d29d85f8>"
            ]
          },
          "metadata": {
            "tags": []
          },
          "execution_count": 91
        },
        {
          "output_type": "display_data",
          "data": {
            "image/png": "[encoded data removed]",
            "text/plain": [
              "<Figure size 720x720 with 4 Axes>"
            ]
          },
          "metadata": {
            "tags": [],
            "needs_background": "light"
          }
        }
      ]
    },
    {
      "cell_type": "markdown",
      "metadata": {
        "id": "UeSENaE2LtWi"
      },
      "source": [
        "Changing the size of scatter plot points"
      ]
    },
    {
      "cell_type": "code",
      "metadata": {
        "id": "hs61zPlvLigi",
        "colab": {
          "base_uri": "https://localhost:8080/",
          "height": 343
        },
        "outputId": "71eed2d9-7282-417d-f663-3b53ee8d91b9"
      },
      "source": [
        "mpg=pd.read_csv('mpg.csv',index_col=0)\n",
        "mpg.head()"
      ],
      "execution_count": null,
      "outputs": [
        {
          "output_type": "execute_result",
          "data": {
            "text/html": [
              "<div>\n",
              "<style scoped>\n",
              "    .dataframe tbody tr th:only-of-type {\n",
              "        vertical-align: middle;\n",
              "    }\n",
              "\n",
              "    .dataframe tbody tr th {\n",
              "        vertical-align: top;\n",
              "    }\n",
              "\n",
              "    .dataframe thead th {\n",
              "        text-align: right;\n",
              "    }\n",
              "</style>\n",
              "<table border=\"1\" class=\"dataframe\">\n",
              "  <thead>\n",
              "    <tr style=\"text-align: right;\">\n",
              "      <th></th>\n",
              "      <th>acceleration</th>\n",
              "      <th>cylinders</th>\n",
              "      <th>displacement</th>\n",
              "      <th>horsepower</th>\n",
              "      <th>model_year</th>\n",
              "      <th>mpg</th>\n",
              "      <th>name</th>\n",
              "      <th>origin</th>\n",
              "      <th>weight</th>\n",
              "    </tr>\n",
              "  </thead>\n",
              "  <tbody>\n",
              "    <tr>\n",
              "      <th>0</th>\n",
              "      <td>12.0</td>\n",
              "      <td>8</td>\n",
              "      <td>307.0</td>\n",
              "      <td>130.0</td>\n",
              "      <td>70</td>\n",
              "      <td>18.0</td>\n",
              "      <td>chevrolet chevelle malibu</td>\n",
              "      <td>usa</td>\n",
              "      <td>3504</td>\n",
              "    </tr>\n",
              "    <tr>\n",
              "      <th>1</th>\n",
              "      <td>11.5</td>\n",
              "      <td>8</td>\n",
              "      <td>350.0</td>\n",
              "      <td>165.0</td>\n",
              "      <td>70</td>\n",
              "      <td>15.0</td>\n",
              "      <td>buick skylark 320</td>\n",
              "      <td>usa</td>\n",
              "      <td>3693</td>\n",
              "    </tr>\n",
              "    <tr>\n",
              "      <th>2</th>\n",
              "      <td>11.0</td>\n",
              "      <td>8</td>\n",
              "      <td>318.0</td>\n",
              "      <td>150.0</td>\n",
              "      <td>70</td>\n",
              "      <td>18.0</td>\n",
              "      <td>plymouth satellite</td>\n",
              "      <td>usa</td>\n",
              "      <td>3436</td>\n",
              "    </tr>\n",
              "    <tr>\n",
              "      <th>3</th>\n",
              "      <td>12.0</td>\n",
              "      <td>8</td>\n",
              "      <td>304.0</td>\n",
              "      <td>150.0</td>\n",
              "      <td>70</td>\n",
              "      <td>16.0</td>\n",
              "      <td>amc rebel sst</td>\n",
              "      <td>usa</td>\n",
              "      <td>3433</td>\n",
              "    </tr>\n",
              "    <tr>\n",
              "      <th>4</th>\n",
              "      <td>10.5</td>\n",
              "      <td>8</td>\n",
              "      <td>302.0</td>\n",
              "      <td>140.0</td>\n",
              "      <td>70</td>\n",
              "      <td>17.0</td>\n",
              "      <td>ford torino</td>\n",
              "      <td>usa</td>\n",
              "      <td>3449</td>\n",
              "    </tr>\n",
              "  </tbody>\n",
              "</table>\n",
              "</div>"
            ],
            "text/plain": [
              "   acceleration  cylinders  ...  origin  weight\n",
              "0          12.0          8  ...     usa    3504\n",
              "1          11.5          8  ...     usa    3693\n",
              "2          11.0          8  ...     usa    3436\n",
              "3          12.0          8  ...     usa    3433\n",
              "4          10.5          8  ...     usa    3449\n",
              "\n",
              "[5 rows x 9 columns]"
            ]
          },
          "metadata": {
            "tags": []
          },
          "execution_count": 93
        }
      ]
    },
    {
      "cell_type": "code",
      "metadata": {
        "id": "hOVdD_9aL4VZ",
        "colab": {
          "base_uri": "https://localhost:8080/",
          "height": 400
        },
        "outputId": "6f853da5-f138-4c31-c417-94f1cd54e9be"
      },
      "source": [
        "sns.relplot(x='horsepower',y='mpg',data=mpg,kind=\"scatter\",size=\"cylinders\",hue=\"cylinders\")\n",
        "plt.plot()"
      ],
      "execution_count": null,
      "outputs": [
        {
          "output_type": "execute_result",
          "data": {
            "text/plain": [
              "[]"
            ]
          },
          "metadata": {
            "tags": []
          },
          "execution_count": 94
        },
        {
          "output_type": "display_data",
          "data": {
            "image/png": "[encoded data removed]",
            "text/plain": [
              "<Figure size 413.375x360 with 1 Axes>"
            ]
          },
          "metadata": {
            "tags": [],
            "needs_background": "light"
          }
        }
      ]
    },
    {
      "cell_type": "markdown",
      "metadata": {
        "id": "SzLILs-5XDLB"
      },
      "source": [
        "Changing the style of scatter plot points"
      ]
    },
    {
      "cell_type": "code",
      "metadata": {
        "id": "pciOt9REWtte",
        "colab": {
          "base_uri": "https://localhost:8080/",
          "height": 400
        },
        "outputId": "389b6090-c71f-4d21-f01a-aec63bd00cc8"
      },
      "source": [
        "sns.relplot(x='horsepower',y='mpg',data=mpg,kind=\"scatter\",size=\"cylinders\",hue=\"cylinders\")\n",
        "plt.plot()"
      ],
      "execution_count": null,
      "outputs": [
        {
          "output_type": "execute_result",
          "data": {
            "text/plain": [
              "[]"
            ]
          },
          "metadata": {
            "tags": []
          },
          "execution_count": 95
        },
        {
          "output_type": "display_data",
          "data": {
            "image/png": "[encoded data removed]",
            "text/plain": [
              "<Figure size 413.375x360 with 1 Axes>"
            ]
          },
          "metadata": {
            "tags": [],
            "needs_background": "light"
          }
        }
      ]
    },
    {
      "cell_type": "code",
      "metadata": {
        "id": "anXvCvO9XW-i",
        "colab": {
          "base_uri": "https://localhost:8080/",
          "height": 383
        },
        "outputId": "0a3cdeb7-b673-4ad3-a9a4-1b0a9f28becb"
      },
      "source": [
        "sns.relplot(x='acceleration',y='mpg',hue='origin',data=mpg,kind='scatter',style=\"origin\")\n",
        "plt.show()"
      ],
      "execution_count": null,
      "outputs": [
        {
          "output_type": "display_data",
          "data": {
            "image/png": "[encoded data removed]",
            "text/plain": [
              "<Figure size 430.75x360 with 1 Axes>"
            ]
          },
          "metadata": {
            "tags": [],
            "needs_background": "light"
          }
        }
      ]
    },
    {
      "cell_type": "code",
      "metadata": {
        "id": "L8LbFS0MXeTJ",
        "colab": {
          "base_uri": "https://localhost:8080/",
          "height": 383
        },
        "outputId": "5262ca41-5133-44cd-f2b9-7c159329f20f"
      },
      "source": [
        "sns.relplot(x='acceleration',y='mpg',hue='origin',data=mpg,kind='scatter',style=\"origin\")\n",
        "plt.show()"
      ],
      "execution_count": null,
      "outputs": [
        {
          "output_type": "display_data",
          "data": {
            "image/png": "[encoded data removed]",
            "text/plain": [
              "<Figure size 430.75x360 with 1 Axes>"
            ]
          },
          "metadata": {
            "tags": [],
            "needs_background": "light"
          }
        }
      ]
    },
    {
      "cell_type": "code",
      "metadata": {
        "id": "0P1M_OXEX9ny"
      },
      "source": [
        ""
      ],
      "execution_count": null,
      "outputs": []
    }
  ]
}