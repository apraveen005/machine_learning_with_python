{
  "nbformat": 4,
  "nbformat_minor": 0,
  "metadata": {
    "colab": {
      "name": "Lecture10-Oct18.ipynb",
      "provenance": [],
      "collapsed_sections": [],
      "authorship_tag": "ABX9TyOX3ZDoBhlyQjL6EPDTIthx",
      "include_colab_link": true
    },
    "kernelspec": {
      "name": "python3",
      "display_name": "Python 3"
    }
  },
  "cells": [
    {
      "cell_type": "markdown",
      "metadata": {
        "id": "view-in-github",
        "colab_type": "text"
      },
      "source": [
        "<a href=\"https://colab.research.google.com/github/apraveen005/machine_learning_with_python/blob/master/Lecture10_Oct18.ipynb\" target=\"_parent\"><img src=\"https://colab.research.google.com/assets/colab-badge.svg\" alt=\"Open In Colab\"/></a>"
      ]
    },
    {
      "cell_type": "code",
      "metadata": {
        "id": "fB5lD9kGC4vz"
      },
      "source": [
        "import matplotlib.pyplot as plt"
      ],
      "execution_count": null,
      "outputs": []
    },
    {
      "cell_type": "code",
      "metadata": {
        "id": "iR28WNiADIxU",
        "colab": {
          "base_uri": "https://localhost:8080/",
          "height": 269
        },
        "outputId": "6a13a14a-00d7-4a32-f873-1802c70174f7"
      },
      "source": [
        "fig,ax=plt.subplots()\n",
        "plt.show()"
      ],
      "execution_count": null,
      "outputs": [
        {
          "output_type": "display_data",
          "data": {
            "image/png": "[encoded data removed]",
            "text/plain": [
              "<Figure size 432x288 with 1 Axes>"
            ]
          },
          "metadata": {
            "tags": [],
            "needs_background": "light"
          }
        }
      ]
    },
    {
      "cell_type": "code",
      "metadata": {
        "id": "FuF9515NDNvq"
      },
      "source": [
        "import pandas as pd"
      ],
      "execution_count": null,
      "outputs": []
    },
    {
      "cell_type": "code",
      "metadata": {
        "id": "cjKAlbg3w7bM"
      },
      "source": [
        "seattle_weather=pd.read_csv('seattle_weather.csv',index_col=0)\n",
        "austin_weather=pd.read_csv('austin_weather.csv',index_col=0)"
      ],
      "execution_count": null,
      "outputs": []
    },
    {
      "cell_type": "code",
      "metadata": {
        "id": "u98zC6nrxjVb",
        "colab": {
          "base_uri": "https://localhost:8080/",
          "height": 530
        },
        "outputId": "965363e6-09d0-4754-cee5-68b108a9283f"
      },
      "source": [
        "seattle_weather.head()"
      ],
      "execution_count": null,
      "outputs": [
        {
          "output_type": "execute_result",
          "data": {
            "text/html": [
              "<div>\n",
              "<style scoped>\n",
              "    .dataframe tbody tr th:only-of-type {\n",
              "        vertical-align: middle;\n",
              "    }\n",
              "\n",
              "    .dataframe tbody tr th {\n",
              "        vertical-align: top;\n",
              "    }\n",
              "\n",
              "    .dataframe thead th {\n",
              "        text-align: right;\n",
              "    }\n",
              "</style>\n",
              "<table border=\"1\" class=\"dataframe\">\n",
              "  <thead>\n",
              "    <tr style=\"text-align: right;\">\n",
              "      <th></th>\n",
              "      <th>MLY-CLDD-BASE45</th>\n",
              "      <th>MLY-CLDD-BASE50</th>\n",
              "      <th>MLY-CLDD-BASE55</th>\n",
              "      <th>MLY-CLDD-BASE57</th>\n",
              "      <th>MLY-CLDD-BASE60</th>\n",
              "      <th>MLY-CLDD-BASE70</th>\n",
              "      <th>MLY-CLDD-BASE72</th>\n",
              "      <th>MLY-CLDD-NORMAL</th>\n",
              "      <th>MLY-DUTR-NORMAL</th>\n",
              "      <th>MLY-DUTR-STDDEV</th>\n",
              "      <th>MLY-GRDD-BASE40</th>\n",
              "      <th>MLY-GRDD-BASE45</th>\n",
              "      <th>MLY-GRDD-BASE50</th>\n",
              "      <th>MLY-GRDD-BASE55</th>\n",
              "      <th>MLY-GRDD-BASE57</th>\n",
              "      <th>MLY-GRDD-BASE60</th>\n",
              "      <th>MLY-GRDD-BASE65</th>\n",
              "      <th>MLY-GRDD-BASE70</th>\n",
              "      <th>MLY-GRDD-BASE72</th>\n",
              "      <th>MLY-GRDD-TB4886</th>\n",
              "      <th>MLY-GRDD-TB5086</th>\n",
              "      <th>MLY-HTDD-BASE40</th>\n",
              "      <th>MLY-HTDD-BASE45</th>\n",
              "      <th>MLY-HTDD-BASE50</th>\n",
              "      <th>MLY-HTDD-BASE55</th>\n",
              "      <th>MLY-HTDD-BASE57</th>\n",
              "      <th>MLY-HTDD-BASE60</th>\n",
              "      <th>MLY-HTDD-NORMAL</th>\n",
              "      <th>MLY-PRCP-25PCTL</th>\n",
              "      <th>MLY-PRCP-50PCTL</th>\n",
              "      <th>MLY-PRCP-75PCTL</th>\n",
              "      <th>MLY-PRCP-AVGNDS-GE001HI</th>\n",
              "      <th>MLY-PRCP-AVGNDS-GE010HI</th>\n",
              "      <th>MLY-PRCP-AVGNDS-GE050HI</th>\n",
              "      <th>MLY-PRCP-AVGNDS-GE100HI</th>\n",
              "      <th>MLY-PRCP-NORMAL</th>\n",
              "      <th>MLY-SNOW-25PCTL</th>\n",
              "      <th>MLY-SNOW-50PCTL</th>\n",
              "      <th>MLY-SNOW-75PCTL</th>\n",
              "      <th>MLY-SNOW-AVGNDS-GE001TI</th>\n",
              "      <th>MLY-SNOW-AVGNDS-GE010TI</th>\n",
              "      <th>MLY-SNOW-AVGNDS-GE030TI</th>\n",
              "      <th>MLY-SNOW-AVGNDS-GE050TI</th>\n",
              "      <th>MLY-SNOW-AVGNDS-GE100TI</th>\n",
              "      <th>MLY-SNOW-NORMAL</th>\n",
              "      <th>MLY-SNWD-AVGNDS-GE001WI</th>\n",
              "      <th>MLY-SNWD-AVGNDS-GE003WI</th>\n",
              "      <th>MLY-SNWD-AVGNDS-GE005WI</th>\n",
              "      <th>MLY-SNWD-AVGNDS-GE010WI</th>\n",
              "      <th>MLY-TAVG-NORMAL</th>\n",
              "      <th>MLY-TAVG-STDDEV</th>\n",
              "      <th>MLY-TMAX-AVGNDS-GRTH040</th>\n",
              "      <th>MLY-TMAX-AVGNDS-GRTH050</th>\n",
              "      <th>MLY-TMAX-AVGNDS-GRTH060</th>\n",
              "      <th>MLY-TMAX-AVGNDS-GRTH070</th>\n",
              "      <th>MLY-TMAX-AVGNDS-GRTH080</th>\n",
              "      <th>MLY-TMAX-AVGNDS-GRTH090</th>\n",
              "      <th>MLY-TMAX-AVGNDS-GRTH100</th>\n",
              "      <th>MLY-TMAX-AVGNDS-LSTH032</th>\n",
              "      <th>MLY-TMAX-NORMAL</th>\n",
              "      <th>MLY-TMAX-STDDEV</th>\n",
              "      <th>MLY-TMIN-AVGNDS-LSTH000</th>\n",
              "      <th>MLY-TMIN-AVGNDS-LSTH010</th>\n",
              "      <th>MLY-TMIN-AVGNDS-LSTH020</th>\n",
              "      <th>MLY-TMIN-AVGNDS-LSTH032</th>\n",
              "      <th>MLY-TMIN-AVGNDS-LSTH040</th>\n",
              "      <th>MLY-TMIN-AVGNDS-LSTH050</th>\n",
              "      <th>MLY-TMIN-AVGNDS-LSTH060</th>\n",
              "      <th>MLY-TMIN-AVGNDS-LSTH070</th>\n",
              "      <th>MLY-TMIN-NORMAL</th>\n",
              "      <th>MLY-TMIN-PRBOCC-LSTH016</th>\n",
              "      <th>MLY-TMIN-PRBOCC-LSTH020</th>\n",
              "      <th>MLY-TMIN-PRBOCC-LSTH024</th>\n",
              "      <th>MLY-TMIN-PRBOCC-LSTH028</th>\n",
              "      <th>MLY-TMIN-PRBOCC-LSTH032</th>\n",
              "      <th>MLY-TMIN-PRBOCC-LSTH036</th>\n",
              "      <th>MLY-TMIN-STDDEV</th>\n",
              "      <th>MONTH</th>\n",
              "      <th>NAME</th>\n",
              "      <th>STATION</th>\n",
              "    </tr>\n",
              "  </thead>\n",
              "  <tbody>\n",
              "    <tr>\n",
              "      <th>1</th>\n",
              "      <td>27.0</td>\n",
              "      <td>3.0</td>\n",
              "      <td>-7777.0</td>\n",
              "      <td>-7777.0</td>\n",
              "      <td>0.0</td>\n",
              "      <td>0.0</td>\n",
              "      <td>0.0</td>\n",
              "      <td>0.0</td>\n",
              "      <td>10.2</td>\n",
              "      <td>1.4</td>\n",
              "      <td>104.0</td>\n",
              "      <td>27.0</td>\n",
              "      <td>3.0</td>\n",
              "      <td>-7777.0</td>\n",
              "      <td>-7777.0</td>\n",
              "      <td>0.0</td>\n",
              "      <td>0.0</td>\n",
              "      <td>0.0</td>\n",
              "      <td>0.0</td>\n",
              "      <td>28.0</td>\n",
              "      <td>16.0</td>\n",
              "      <td>39.0</td>\n",
              "      <td>117.0</td>\n",
              "      <td>247.0</td>\n",
              "      <td>400.0</td>\n",
              "      <td>462.0</td>\n",
              "      <td>555.0</td>\n",
              "      <td>710.0</td>\n",
              "      <td>3.29</td>\n",
              "      <td>4.99</td>\n",
              "      <td>6.07</td>\n",
              "      <td>18.5</td>\n",
              "      <td>12.1</td>\n",
              "      <td>3.1</td>\n",
              "      <td>0.7</td>\n",
              "      <td>4.81</td>\n",
              "      <td>0.0</td>\n",
              "      <td>0.0</td>\n",
              "      <td>0.0</td>\n",
              "      <td>0.6</td>\n",
              "      <td>0.3</td>\n",
              "      <td>0.0</td>\n",
              "      <td>0.0</td>\n",
              "      <td>0.0</td>\n",
              "      <td>0.4</td>\n",
              "      <td>0.2</td>\n",
              "      <td>0.0</td>\n",
              "      <td>0.0</td>\n",
              "      <td>0.0</td>\n",
              "      <td>42.1</td>\n",
              "      <td>2.2</td>\n",
              "      <td>279.0</td>\n",
              "      <td>10.1</td>\n",
              "      <td>2.0</td>\n",
              "      <td>0.0</td>\n",
              "      <td>0.0</td>\n",
              "      <td>0.0</td>\n",
              "      <td>0.0</td>\n",
              "      <td>0.3</td>\n",
              "      <td>47.2</td>\n",
              "      <td>2.4</td>\n",
              "      <td>0.0</td>\n",
              "      <td>0.0</td>\n",
              "      <td>1.0</td>\n",
              "      <td>6.4</td>\n",
              "      <td>203.0</td>\n",
              "      <td>309.0</td>\n",
              "      <td>310.0</td>\n",
              "      <td>310.0</td>\n",
              "      <td>37.0</td>\n",
              "      <td>64.0</td>\n",
              "      <td>129.0</td>\n",
              "      <td>317.0</td>\n",
              "      <td>709.0</td>\n",
              "      <td>959.0</td>\n",
              "      <td>1000.0</td>\n",
              "      <td>2.3</td>\n",
              "      <td>Jan</td>\n",
              "      <td>SEATTLE SAND PT WSFO, WA US</td>\n",
              "      <td>USW00094290</td>\n",
              "    </tr>\n",
              "    <tr>\n",
              "      <th>2</th>\n",
              "      <td>31.0</td>\n",
              "      <td>3.0</td>\n",
              "      <td>-7777.0</td>\n",
              "      <td>-7777.0</td>\n",
              "      <td>0.0</td>\n",
              "      <td>0.0</td>\n",
              "      <td>0.0</td>\n",
              "      <td>0.0</td>\n",
              "      <td>13.1</td>\n",
              "      <td>1.8</td>\n",
              "      <td>116.0</td>\n",
              "      <td>31.0</td>\n",
              "      <td>3.0</td>\n",
              "      <td>-7777.0</td>\n",
              "      <td>-7777.0</td>\n",
              "      <td>0.0</td>\n",
              "      <td>0.0</td>\n",
              "      <td>0.0</td>\n",
              "      <td>0.0</td>\n",
              "      <td>47.0</td>\n",
              "      <td>31.0</td>\n",
              "      <td>19.0</td>\n",
              "      <td>75.0</td>\n",
              "      <td>186.0</td>\n",
              "      <td>323.0</td>\n",
              "      <td>379.0</td>\n",
              "      <td>463.0</td>\n",
              "      <td>603.0</td>\n",
              "      <td>2.09</td>\n",
              "      <td>3.08</td>\n",
              "      <td>4.44</td>\n",
              "      <td>14.1</td>\n",
              "      <td>7.6</td>\n",
              "      <td>1.4</td>\n",
              "      <td>0.1</td>\n",
              "      <td>3.31</td>\n",
              "      <td>0.0</td>\n",
              "      <td>0.0</td>\n",
              "      <td>0.0</td>\n",
              "      <td>0.4</td>\n",
              "      <td>0.2</td>\n",
              "      <td>0.1</td>\n",
              "      <td>0.0</td>\n",
              "      <td>0.0</td>\n",
              "      <td>0.6</td>\n",
              "      <td>0.3</td>\n",
              "      <td>0.1</td>\n",
              "      <td>0.0</td>\n",
              "      <td>0.0</td>\n",
              "      <td>43.4</td>\n",
              "      <td>2.3</td>\n",
              "      <td>269.0</td>\n",
              "      <td>13.3</td>\n",
              "      <td>14.0</td>\n",
              "      <td>0.0</td>\n",
              "      <td>0.0</td>\n",
              "      <td>0.0</td>\n",
              "      <td>0.0</td>\n",
              "      <td>0.0</td>\n",
              "      <td>50.0</td>\n",
              "      <td>2.4</td>\n",
              "      <td>0.0</td>\n",
              "      <td>0.0</td>\n",
              "      <td>1.0</td>\n",
              "      <td>5.0</td>\n",
              "      <td>190.0</td>\n",
              "      <td>280.0</td>\n",
              "      <td>280.0</td>\n",
              "      <td>280.0</td>\n",
              "      <td>36.9</td>\n",
              "      <td>15.0</td>\n",
              "      <td>76.0</td>\n",
              "      <td>273.0</td>\n",
              "      <td>616.0</td>\n",
              "      <td>917.0</td>\n",
              "      <td>1000.0</td>\n",
              "      <td>2.6</td>\n",
              "      <td>Feb</td>\n",
              "      <td>SEATTLE SAND PT WSFO, WA US</td>\n",
              "      <td>USW00094290</td>\n",
              "    </tr>\n",
              "    <tr>\n",
              "      <th>3</th>\n",
              "      <td>81.0</td>\n",
              "      <td>16.0</td>\n",
              "      <td>2.0</td>\n",
              "      <td>-7777.0</td>\n",
              "      <td>-7777.0</td>\n",
              "      <td>0.0</td>\n",
              "      <td>0.0</td>\n",
              "      <td>0.0</td>\n",
              "      <td>14.5</td>\n",
              "      <td>1.2</td>\n",
              "      <td>207.0</td>\n",
              "      <td>81.0</td>\n",
              "      <td>16.0</td>\n",
              "      <td>2.0</td>\n",
              "      <td>-7777.0</td>\n",
              "      <td>-7777.0</td>\n",
              "      <td>0.0</td>\n",
              "      <td>0.0</td>\n",
              "      <td>0.0</td>\n",
              "      <td>97.0</td>\n",
              "      <td>72.0</td>\n",
              "      <td>4.0</td>\n",
              "      <td>33.0</td>\n",
              "      <td>123.0</td>\n",
              "      <td>263.0</td>\n",
              "      <td>324.0</td>\n",
              "      <td>417.0</td>\n",
              "      <td>572.0</td>\n",
              "      <td>2.60</td>\n",
              "      <td>3.46</td>\n",
              "      <td>3.93</td>\n",
              "      <td>17.1</td>\n",
              "      <td>10.1</td>\n",
              "      <td>1.7</td>\n",
              "      <td>0.4</td>\n",
              "      <td>3.51</td>\n",
              "      <td>0.0</td>\n",
              "      <td>0.0</td>\n",
              "      <td>0.0</td>\n",
              "      <td>0.1</td>\n",
              "      <td>0.0</td>\n",
              "      <td>0.0</td>\n",
              "      <td>0.0</td>\n",
              "      <td>0.0</td>\n",
              "      <td>-7777.0</td>\n",
              "      <td>0.0</td>\n",
              "      <td>0.0</td>\n",
              "      <td>0.0</td>\n",
              "      <td>0.0</td>\n",
              "      <td>46.6</td>\n",
              "      <td>2.0</td>\n",
              "      <td>308.0</td>\n",
              "      <td>23.0</td>\n",
              "      <td>45.0</td>\n",
              "      <td>3.0</td>\n",
              "      <td>0.0</td>\n",
              "      <td>0.0</td>\n",
              "      <td>0.0</td>\n",
              "      <td>0.0</td>\n",
              "      <td>53.8</td>\n",
              "      <td>2.4</td>\n",
              "      <td>0.0</td>\n",
              "      <td>0.0</td>\n",
              "      <td>0.0</td>\n",
              "      <td>1.6</td>\n",
              "      <td>173.0</td>\n",
              "      <td>310.0</td>\n",
              "      <td>310.0</td>\n",
              "      <td>310.0</td>\n",
              "      <td>39.3</td>\n",
              "      <td>0.0</td>\n",
              "      <td>20.0</td>\n",
              "      <td>41.0</td>\n",
              "      <td>152.0</td>\n",
              "      <td>670.0</td>\n",
              "      <td>986.0</td>\n",
              "      <td>1.8</td>\n",
              "      <td>Mar</td>\n",
              "      <td>SEATTLE SAND PT WSFO, WA US</td>\n",
              "      <td>USW00094290</td>\n",
              "    </tr>\n",
              "    <tr>\n",
              "      <th>4</th>\n",
              "      <td>169.0</td>\n",
              "      <td>58.0</td>\n",
              "      <td>12.0</td>\n",
              "      <td>6.0</td>\n",
              "      <td>1.0</td>\n",
              "      <td>0.0</td>\n",
              "      <td>0.0</td>\n",
              "      <td>-7777.0</td>\n",
              "      <td>16.0</td>\n",
              "      <td>1.7</td>\n",
              "      <td>315.0</td>\n",
              "      <td>169.0</td>\n",
              "      <td>58.0</td>\n",
              "      <td>12.0</td>\n",
              "      <td>6.0</td>\n",
              "      <td>1.0</td>\n",
              "      <td>-7777.0</td>\n",
              "      <td>0.0</td>\n",
              "      <td>0.0</td>\n",
              "      <td>160.0</td>\n",
              "      <td>130.0</td>\n",
              "      <td>-7777.0</td>\n",
              "      <td>4.0</td>\n",
              "      <td>43.0</td>\n",
              "      <td>147.0</td>\n",
              "      <td>200.0</td>\n",
              "      <td>286.0</td>\n",
              "      <td>435.0</td>\n",
              "      <td>2.10</td>\n",
              "      <td>2.68</td>\n",
              "      <td>2.94</td>\n",
              "      <td>15.0</td>\n",
              "      <td>8.2</td>\n",
              "      <td>1.3</td>\n",
              "      <td>0.1</td>\n",
              "      <td>2.77</td>\n",
              "      <td>0.0</td>\n",
              "      <td>0.0</td>\n",
              "      <td>0.0</td>\n",
              "      <td>0.0</td>\n",
              "      <td>0.0</td>\n",
              "      <td>0.0</td>\n",
              "      <td>0.0</td>\n",
              "      <td>0.0</td>\n",
              "      <td>0.0</td>\n",
              "      <td>0.0</td>\n",
              "      <td>0.0</td>\n",
              "      <td>0.0</td>\n",
              "      <td>0.0</td>\n",
              "      <td>50.5</td>\n",
              "      <td>1.6</td>\n",
              "      <td>300.0</td>\n",
              "      <td>28.4</td>\n",
              "      <td>105.0</td>\n",
              "      <td>12.0</td>\n",
              "      <td>1.0</td>\n",
              "      <td>0.0</td>\n",
              "      <td>0.0</td>\n",
              "      <td>0.0</td>\n",
              "      <td>58.5</td>\n",
              "      <td>2.0</td>\n",
              "      <td>0.0</td>\n",
              "      <td>0.0</td>\n",
              "      <td>0.0</td>\n",
              "      <td>-7777.0</td>\n",
              "      <td>80.0</td>\n",
              "      <td>293.0</td>\n",
              "      <td>300.0</td>\n",
              "      <td>300.0</td>\n",
              "      <td>42.5</td>\n",
              "      <td>0.0</td>\n",
              "      <td>0.0</td>\n",
              "      <td>0.0</td>\n",
              "      <td>0.0</td>\n",
              "      <td>114.0</td>\n",
              "      <td>711.0</td>\n",
              "      <td>1.5</td>\n",
              "      <td>Apr</td>\n",
              "      <td>SEATTLE SAND PT WSFO, WA US</td>\n",
              "      <td>USW00094290</td>\n",
              "    </tr>\n",
              "    <tr>\n",
              "      <th>5</th>\n",
              "      <td>343.0</td>\n",
              "      <td>193.0</td>\n",
              "      <td>78.0</td>\n",
              "      <td>49.0</td>\n",
              "      <td>21.0</td>\n",
              "      <td>-7777.0</td>\n",
              "      <td>-7777.0</td>\n",
              "      <td>3.0</td>\n",
              "      <td>16.5</td>\n",
              "      <td>1.8</td>\n",
              "      <td>497.0</td>\n",
              "      <td>343.0</td>\n",
              "      <td>193.0</td>\n",
              "      <td>78.0</td>\n",
              "      <td>49.0</td>\n",
              "      <td>21.0</td>\n",
              "      <td>3.0</td>\n",
              "      <td>-7777.0</td>\n",
              "      <td>-7777.0</td>\n",
              "      <td>277.0</td>\n",
              "      <td>234.0</td>\n",
              "      <td>0.0</td>\n",
              "      <td>-7777.0</td>\n",
              "      <td>5.0</td>\n",
              "      <td>46.0</td>\n",
              "      <td>78.0</td>\n",
              "      <td>144.0</td>\n",
              "      <td>281.0</td>\n",
              "      <td>1.34</td>\n",
              "      <td>1.95</td>\n",
              "      <td>2.91</td>\n",
              "      <td>12.5</td>\n",
              "      <td>6.5</td>\n",
              "      <td>1.0</td>\n",
              "      <td>0.1</td>\n",
              "      <td>2.16</td>\n",
              "      <td>0.0</td>\n",
              "      <td>0.0</td>\n",
              "      <td>0.0</td>\n",
              "      <td>0.0</td>\n",
              "      <td>0.0</td>\n",
              "      <td>0.0</td>\n",
              "      <td>0.0</td>\n",
              "      <td>0.0</td>\n",
              "      <td>0.0</td>\n",
              "      <td>0.0</td>\n",
              "      <td>0.0</td>\n",
              "      <td>0.0</td>\n",
              "      <td>0.0</td>\n",
              "      <td>56.0</td>\n",
              "      <td>2.2</td>\n",
              "      <td>310.0</td>\n",
              "      <td>30.9</td>\n",
              "      <td>222.0</td>\n",
              "      <td>63.0</td>\n",
              "      <td>8.0</td>\n",
              "      <td>0.0</td>\n",
              "      <td>0.0</td>\n",
              "      <td>0.0</td>\n",
              "      <td>64.3</td>\n",
              "      <td>2.8</td>\n",
              "      <td>0.0</td>\n",
              "      <td>0.0</td>\n",
              "      <td>0.0</td>\n",
              "      <td>0.0</td>\n",
              "      <td>12.0</td>\n",
              "      <td>214.0</td>\n",
              "      <td>310.0</td>\n",
              "      <td>310.0</td>\n",
              "      <td>47.8</td>\n",
              "      <td>0.0</td>\n",
              "      <td>0.0</td>\n",
              "      <td>0.0</td>\n",
              "      <td>0.0</td>\n",
              "      <td>0.0</td>\n",
              "      <td>58.0</td>\n",
              "      <td>1.9</td>\n",
              "      <td>May</td>\n",
              "      <td>SEATTLE SAND PT WSFO, WA US</td>\n",
              "      <td>USW00094290</td>\n",
              "    </tr>\n",
              "  </tbody>\n",
              "</table>\n",
              "</div>"
            ],
            "text/plain": [
              "   MLY-CLDD-BASE45  MLY-CLDD-BASE50  ...                         NAME      STATION\n",
              "1             27.0              3.0  ...  SEATTLE SAND PT WSFO, WA US  USW00094290\n",
              "2             31.0              3.0  ...  SEATTLE SAND PT WSFO, WA US  USW00094290\n",
              "3             81.0             16.0  ...  SEATTLE SAND PT WSFO, WA US  USW00094290\n",
              "4            169.0             58.0  ...  SEATTLE SAND PT WSFO, WA US  USW00094290\n",
              "5            343.0            193.0  ...  SEATTLE SAND PT WSFO, WA US  USW00094290\n",
              "\n",
              "[5 rows x 80 columns]"
            ]
          },
          "metadata": {
            "tags": []
          },
          "execution_count": 3
        }
      ]
    },
    {
      "cell_type": "code",
      "metadata": {
        "id": "W6jkThqGxnV9",
        "colab": {
          "base_uri": "https://localhost:8080/",
          "height": 530
        },
        "outputId": "cfca1483-eacd-4a78-ca46-ff7a740d6dbe"
      },
      "source": [
        "austin_weather.head()"
      ],
      "execution_count": null,
      "outputs": [
        {
          "output_type": "execute_result",
          "data": {
            "text/html": [
              "<div>\n",
              "<style scoped>\n",
              "    .dataframe tbody tr th:only-of-type {\n",
              "        vertical-align: middle;\n",
              "    }\n",
              "\n",
              "    .dataframe tbody tr th {\n",
              "        vertical-align: top;\n",
              "    }\n",
              "\n",
              "    .dataframe thead th {\n",
              "        text-align: right;\n",
              "    }\n",
              "</style>\n",
              "<table border=\"1\" class=\"dataframe\">\n",
              "  <thead>\n",
              "    <tr style=\"text-align: right;\">\n",
              "      <th></th>\n",
              "      <th>MLY-CLDD-BASE45</th>\n",
              "      <th>MLY-CLDD-BASE50</th>\n",
              "      <th>MLY-CLDD-BASE55</th>\n",
              "      <th>MLY-CLDD-BASE57</th>\n",
              "      <th>MLY-CLDD-BASE60</th>\n",
              "      <th>MLY-CLDD-BASE70</th>\n",
              "      <th>MLY-CLDD-BASE72</th>\n",
              "      <th>MLY-CLDD-NORMAL</th>\n",
              "      <th>MLY-DUTR-NORMAL</th>\n",
              "      <th>MLY-DUTR-STDDEV</th>\n",
              "      <th>MLY-GRDD-BASE40</th>\n",
              "      <th>MLY-GRDD-BASE45</th>\n",
              "      <th>MLY-GRDD-BASE50</th>\n",
              "      <th>MLY-GRDD-BASE55</th>\n",
              "      <th>MLY-GRDD-BASE57</th>\n",
              "      <th>MLY-GRDD-BASE60</th>\n",
              "      <th>MLY-GRDD-BASE65</th>\n",
              "      <th>MLY-GRDD-BASE70</th>\n",
              "      <th>MLY-GRDD-BASE72</th>\n",
              "      <th>MLY-GRDD-TB4886</th>\n",
              "      <th>MLY-GRDD-TB5086</th>\n",
              "      <th>MLY-HTDD-BASE40</th>\n",
              "      <th>MLY-HTDD-BASE45</th>\n",
              "      <th>MLY-HTDD-BASE50</th>\n",
              "      <th>MLY-HTDD-BASE55</th>\n",
              "      <th>MLY-HTDD-BASE57</th>\n",
              "      <th>MLY-HTDD-BASE60</th>\n",
              "      <th>MLY-HTDD-NORMAL</th>\n",
              "      <th>MLY-PRCP-25PCTL</th>\n",
              "      <th>MLY-PRCP-50PCTL</th>\n",
              "      <th>MLY-PRCP-75PCTL</th>\n",
              "      <th>MLY-PRCP-AVGNDS-GE001HI</th>\n",
              "      <th>MLY-PRCP-AVGNDS-GE010HI</th>\n",
              "      <th>MLY-PRCP-AVGNDS-GE050HI</th>\n",
              "      <th>MLY-PRCP-AVGNDS-GE100HI</th>\n",
              "      <th>MLY-PRCP-NORMAL</th>\n",
              "      <th>MLY-TAVG-NORMAL</th>\n",
              "      <th>MLY-TAVG-STDDEV</th>\n",
              "      <th>MLY-TMAX-AVGNDS-GRTH040</th>\n",
              "      <th>MLY-TMAX-AVGNDS-GRTH050</th>\n",
              "      <th>MLY-TMAX-AVGNDS-GRTH060</th>\n",
              "      <th>MLY-TMAX-AVGNDS-GRTH070</th>\n",
              "      <th>MLY-TMAX-AVGNDS-GRTH080</th>\n",
              "      <th>MLY-TMAX-AVGNDS-GRTH090</th>\n",
              "      <th>MLY-TMAX-AVGNDS-GRTH100</th>\n",
              "      <th>MLY-TMAX-AVGNDS-LSTH032</th>\n",
              "      <th>MLY-TMAX-NORMAL</th>\n",
              "      <th>MLY-TMAX-STDDEV</th>\n",
              "      <th>MLY-TMIN-AVGNDS-LSTH000</th>\n",
              "      <th>MLY-TMIN-AVGNDS-LSTH010</th>\n",
              "      <th>MLY-TMIN-AVGNDS-LSTH020</th>\n",
              "      <th>MLY-TMIN-AVGNDS-LSTH032</th>\n",
              "      <th>MLY-TMIN-AVGNDS-LSTH040</th>\n",
              "      <th>MLY-TMIN-AVGNDS-LSTH050</th>\n",
              "      <th>MLY-TMIN-AVGNDS-LSTH060</th>\n",
              "      <th>MLY-TMIN-AVGNDS-LSTH070</th>\n",
              "      <th>MLY-TMIN-NORMAL</th>\n",
              "      <th>MLY-TMIN-PRBOCC-LSTH016</th>\n",
              "      <th>MLY-TMIN-PRBOCC-LSTH020</th>\n",
              "      <th>MLY-TMIN-PRBOCC-LSTH024</th>\n",
              "      <th>MLY-TMIN-PRBOCC-LSTH028</th>\n",
              "      <th>MLY-TMIN-PRBOCC-LSTH032</th>\n",
              "      <th>MLY-TMIN-PRBOCC-LSTH036</th>\n",
              "      <th>MLY-TMIN-STDDEV</th>\n",
              "      <th>MONTH</th>\n",
              "      <th>NAME</th>\n",
              "      <th>STATION</th>\n",
              "    </tr>\n",
              "  </thead>\n",
              "  <tbody>\n",
              "    <tr>\n",
              "      <th>1</th>\n",
              "      <td>190</td>\n",
              "      <td>103</td>\n",
              "      <td>50</td>\n",
              "      <td>35</td>\n",
              "      <td>18</td>\n",
              "      <td>1</td>\n",
              "      <td>-7777</td>\n",
              "      <td>5</td>\n",
              "      <td>25.8</td>\n",
              "      <td>3.9</td>\n",
              "      <td>308</td>\n",
              "      <td>190</td>\n",
              "      <td>103</td>\n",
              "      <td>50</td>\n",
              "      <td>35</td>\n",
              "      <td>18</td>\n",
              "      <td>5</td>\n",
              "      <td>1</td>\n",
              "      <td>-7777</td>\n",
              "      <td>244</td>\n",
              "      <td>214</td>\n",
              "      <td>22</td>\n",
              "      <td>59</td>\n",
              "      <td>128</td>\n",
              "      <td>229</td>\n",
              "      <td>277</td>\n",
              "      <td>353</td>\n",
              "      <td>495</td>\n",
              "      <td>0.83</td>\n",
              "      <td>1.48</td>\n",
              "      <td>2.76</td>\n",
              "      <td>7.2</td>\n",
              "      <td>3.9</td>\n",
              "      <td>1.2</td>\n",
              "      <td>0.8</td>\n",
              "      <td>2.20</td>\n",
              "      <td>49.2</td>\n",
              "      <td>3.0</td>\n",
              "      <td>299</td>\n",
              "      <td>25.8</td>\n",
              "      <td>185</td>\n",
              "      <td>90</td>\n",
              "      <td>8</td>\n",
              "      <td>0.0</td>\n",
              "      <td>0.0</td>\n",
              "      <td>0.1</td>\n",
              "      <td>62.1</td>\n",
              "      <td>4.1</td>\n",
              "      <td>0.0</td>\n",
              "      <td>1</td>\n",
              "      <td>15</td>\n",
              "      <td>11.9</td>\n",
              "      <td>203</td>\n",
              "      <td>275</td>\n",
              "      <td>302</td>\n",
              "      <td>310</td>\n",
              "      <td>36.3</td>\n",
              "      <td>298</td>\n",
              "      <td>570</td>\n",
              "      <td>839</td>\n",
              "      <td>967</td>\n",
              "      <td>997</td>\n",
              "      <td>1000</td>\n",
              "      <td>2.9</td>\n",
              "      <td>Jan</td>\n",
              "      <td>AUSTIN BERGSTROM INTERNATIONAL AIRPORT, TX US</td>\n",
              "      <td>USW00013904</td>\n",
              "    </tr>\n",
              "    <tr>\n",
              "      <th>2</th>\n",
              "      <td>228</td>\n",
              "      <td>132</td>\n",
              "      <td>68</td>\n",
              "      <td>49</td>\n",
              "      <td>29</td>\n",
              "      <td>3</td>\n",
              "      <td>1</td>\n",
              "      <td>11</td>\n",
              "      <td>25.3</td>\n",
              "      <td>3.8</td>\n",
              "      <td>349</td>\n",
              "      <td>228</td>\n",
              "      <td>132</td>\n",
              "      <td>68</td>\n",
              "      <td>49</td>\n",
              "      <td>29</td>\n",
              "      <td>11</td>\n",
              "      <td>3</td>\n",
              "      <td>1</td>\n",
              "      <td>262</td>\n",
              "      <td>231</td>\n",
              "      <td>10</td>\n",
              "      <td>29</td>\n",
              "      <td>73</td>\n",
              "      <td>148</td>\n",
              "      <td>186</td>\n",
              "      <td>250</td>\n",
              "      <td>373</td>\n",
              "      <td>1.00</td>\n",
              "      <td>2.00</td>\n",
              "      <td>3.23</td>\n",
              "      <td>6.9</td>\n",
              "      <td>3.2</td>\n",
              "      <td>1.2</td>\n",
              "      <td>0.3</td>\n",
              "      <td>2.31</td>\n",
              "      <td>52.1</td>\n",
              "      <td>3.4</td>\n",
              "      <td>273</td>\n",
              "      <td>25.3</td>\n",
              "      <td>195</td>\n",
              "      <td>99</td>\n",
              "      <td>17</td>\n",
              "      <td>0.1</td>\n",
              "      <td>0.0</td>\n",
              "      <td>0.1</td>\n",
              "      <td>64.8</td>\n",
              "      <td>4.6</td>\n",
              "      <td>0.0</td>\n",
              "      <td>0</td>\n",
              "      <td>4</td>\n",
              "      <td>7.9</td>\n",
              "      <td>152</td>\n",
              "      <td>239</td>\n",
              "      <td>264</td>\n",
              "      <td>280</td>\n",
              "      <td>39.4</td>\n",
              "      <td>103</td>\n",
              "      <td>327</td>\n",
              "      <td>614</td>\n",
              "      <td>867</td>\n",
              "      <td>973</td>\n",
              "      <td>999</td>\n",
              "      <td>3.2</td>\n",
              "      <td>Feb</td>\n",
              "      <td>AUSTIN BERGSTROM INTERNATIONAL AIRPORT, TX US</td>\n",
              "      <td>USW00013904</td>\n",
              "    </tr>\n",
              "    <tr>\n",
              "      <th>3</th>\n",
              "      <td>446</td>\n",
              "      <td>306</td>\n",
              "      <td>185</td>\n",
              "      <td>146</td>\n",
              "      <td>98</td>\n",
              "      <td>13</td>\n",
              "      <td>6</td>\n",
              "      <td>42</td>\n",
              "      <td>25.2</td>\n",
              "      <td>2.7</td>\n",
              "      <td>596</td>\n",
              "      <td>446</td>\n",
              "      <td>306</td>\n",
              "      <td>185</td>\n",
              "      <td>146</td>\n",
              "      <td>98</td>\n",
              "      <td>42</td>\n",
              "      <td>13</td>\n",
              "      <td>6</td>\n",
              "      <td>428</td>\n",
              "      <td>385</td>\n",
              "      <td>1</td>\n",
              "      <td>6</td>\n",
              "      <td>21</td>\n",
              "      <td>55</td>\n",
              "      <td>77</td>\n",
              "      <td>123</td>\n",
              "      <td>222</td>\n",
              "      <td>1.68</td>\n",
              "      <td>2.61</td>\n",
              "      <td>3.82</td>\n",
              "      <td>9.7</td>\n",
              "      <td>4.5</td>\n",
              "      <td>1.9</td>\n",
              "      <td>0.9</td>\n",
              "      <td>2.78</td>\n",
              "      <td>59.2</td>\n",
              "      <td>3.1</td>\n",
              "      <td>310</td>\n",
              "      <td>30.5</td>\n",
              "      <td>275</td>\n",
              "      <td>194</td>\n",
              "      <td>56</td>\n",
              "      <td>0.2</td>\n",
              "      <td>0.0</td>\n",
              "      <td>0.0</td>\n",
              "      <td>71.8</td>\n",
              "      <td>3.1</td>\n",
              "      <td>0.0</td>\n",
              "      <td>0</td>\n",
              "      <td>1</td>\n",
              "      <td>2.2</td>\n",
              "      <td>96</td>\n",
              "      <td>198</td>\n",
              "      <td>270</td>\n",
              "      <td>308</td>\n",
              "      <td>46.6</td>\n",
              "      <td>10</td>\n",
              "      <td>73</td>\n",
              "      <td>242</td>\n",
              "      <td>494</td>\n",
              "      <td>761</td>\n",
              "      <td>928</td>\n",
              "      <td>3.6</td>\n",
              "      <td>Mar</td>\n",
              "      <td>AUSTIN BERGSTROM INTERNATIONAL AIRPORT, TX US</td>\n",
              "      <td>USW00013904</td>\n",
              "    </tr>\n",
              "    <tr>\n",
              "      <th>4</th>\n",
              "      <td>668</td>\n",
              "      <td>519</td>\n",
              "      <td>373</td>\n",
              "      <td>318</td>\n",
              "      <td>240</td>\n",
              "      <td>53</td>\n",
              "      <td>32</td>\n",
              "      <td>130</td>\n",
              "      <td>25.1</td>\n",
              "      <td>4.0</td>\n",
              "      <td>817</td>\n",
              "      <td>668</td>\n",
              "      <td>519</td>\n",
              "      <td>373</td>\n",
              "      <td>318</td>\n",
              "      <td>240</td>\n",
              "      <td>130</td>\n",
              "      <td>53</td>\n",
              "      <td>32</td>\n",
              "      <td>594</td>\n",
              "      <td>543</td>\n",
              "      <td>-7777</td>\n",
              "      <td>-7777</td>\n",
              "      <td>2</td>\n",
              "      <td>6</td>\n",
              "      <td>10</td>\n",
              "      <td>22</td>\n",
              "      <td>63</td>\n",
              "      <td>0.91</td>\n",
              "      <td>1.68</td>\n",
              "      <td>3.04</td>\n",
              "      <td>6.5</td>\n",
              "      <td>3.9</td>\n",
              "      <td>1.2</td>\n",
              "      <td>0.3</td>\n",
              "      <td>2.27</td>\n",
              "      <td>67.3</td>\n",
              "      <td>2.9</td>\n",
              "      <td>300</td>\n",
              "      <td>29.9</td>\n",
              "      <td>296</td>\n",
              "      <td>277</td>\n",
              "      <td>167</td>\n",
              "      <td>1.3</td>\n",
              "      <td>0.2</td>\n",
              "      <td>0.0</td>\n",
              "      <td>79.8</td>\n",
              "      <td>2.8</td>\n",
              "      <td>0.0</td>\n",
              "      <td>0</td>\n",
              "      <td>0</td>\n",
              "      <td>0.2</td>\n",
              "      <td>26</td>\n",
              "      <td>99</td>\n",
              "      <td>193</td>\n",
              "      <td>287</td>\n",
              "      <td>54.7</td>\n",
              "      <td>0</td>\n",
              "      <td>0</td>\n",
              "      <td>0</td>\n",
              "      <td>48</td>\n",
              "      <td>189</td>\n",
              "      <td>453</td>\n",
              "      <td>4.1</td>\n",
              "      <td>Apr</td>\n",
              "      <td>AUSTIN BERGSTROM INTERNATIONAL AIRPORT, TX US</td>\n",
              "      <td>USW00013904</td>\n",
              "    </tr>\n",
              "    <tr>\n",
              "      <th>5</th>\n",
              "      <td>936</td>\n",
              "      <td>781</td>\n",
              "      <td>626</td>\n",
              "      <td>564</td>\n",
              "      <td>471</td>\n",
              "      <td>181</td>\n",
              "      <td>134</td>\n",
              "      <td>319</td>\n",
              "      <td>23.0</td>\n",
              "      <td>2.3</td>\n",
              "      <td>1091</td>\n",
              "      <td>936</td>\n",
              "      <td>781</td>\n",
              "      <td>626</td>\n",
              "      <td>564</td>\n",
              "      <td>471</td>\n",
              "      <td>319</td>\n",
              "      <td>181</td>\n",
              "      <td>134</td>\n",
              "      <td>804</td>\n",
              "      <td>744</td>\n",
              "      <td>0</td>\n",
              "      <td>0</td>\n",
              "      <td>0</td>\n",
              "      <td>-7777</td>\n",
              "      <td>-7777</td>\n",
              "      <td>-7777</td>\n",
              "      <td>3</td>\n",
              "      <td>1.73</td>\n",
              "      <td>3.85</td>\n",
              "      <td>6.12</td>\n",
              "      <td>6.2</td>\n",
              "      <td>3.9</td>\n",
              "      <td>1.8</td>\n",
              "      <td>1.0</td>\n",
              "      <td>4.05</td>\n",
              "      <td>75.2</td>\n",
              "      <td>2.4</td>\n",
              "      <td>310</td>\n",
              "      <td>31.0</td>\n",
              "      <td>310</td>\n",
              "      <td>309</td>\n",
              "      <td>273</td>\n",
              "      <td>9.3</td>\n",
              "      <td>0.0</td>\n",
              "      <td>0.0</td>\n",
              "      <td>86.7</td>\n",
              "      <td>2.8</td>\n",
              "      <td>0.0</td>\n",
              "      <td>0</td>\n",
              "      <td>0</td>\n",
              "      <td>0.0</td>\n",
              "      <td>1</td>\n",
              "      <td>15</td>\n",
              "      <td>89</td>\n",
              "      <td>250</td>\n",
              "      <td>63.7</td>\n",
              "      <td>0</td>\n",
              "      <td>0</td>\n",
              "      <td>0</td>\n",
              "      <td>0</td>\n",
              "      <td>0</td>\n",
              "      <td>0</td>\n",
              "      <td>2.5</td>\n",
              "      <td>May</td>\n",
              "      <td>AUSTIN BERGSTROM INTERNATIONAL AIRPORT, TX US</td>\n",
              "      <td>USW00013904</td>\n",
              "    </tr>\n",
              "  </tbody>\n",
              "</table>\n",
              "</div>"
            ],
            "text/plain": [
              "   MLY-CLDD-BASE45  ...      STATION\n",
              "1              190  ...  USW00013904\n",
              "2              228  ...  USW00013904\n",
              "3              446  ...  USW00013904\n",
              "4              668  ...  USW00013904\n",
              "5              936  ...  USW00013904\n",
              "\n",
              "[5 rows x 67 columns]"
            ]
          },
          "metadata": {
            "tags": []
          },
          "execution_count": 4
        }
      ]
    },
    {
      "cell_type": "code",
      "metadata": {
        "id": "IiXTrRuUxtyf",
        "colab": {
          "base_uri": "https://localhost:8080/",
          "height": 266
        },
        "outputId": "048ad504-bfb6-4f39-ddc5-e6166824e605"
      },
      "source": [
        "fig,ax=plt.subplots()\n",
        "ax.plot(seattle_weather['MONTH'],seattle_weather['MLY-PRCP-NORMAL'])\n",
        "ax.plot(austin_weather['MONTH'],austin_weather['MLY-PRCP-NORMAL'])\n",
        "plt.show()"
      ],
      "execution_count": null,
      "outputs": [
        {
          "output_type": "display_data",
          "data": {
            "image/png": "[encoded data removed]",
            "text/plain": [
              "<Figure size 432x288 with 1 Axes>"
            ]
          },
          "metadata": {
            "tags": [],
            "needs_background": "light"
          }
        }
      ]
    },
    {
      "cell_type": "code",
      "metadata": {
        "id": "h2SH1c-OySha",
        "colab": {
          "base_uri": "https://localhost:8080/",
          "height": 266
        },
        "outputId": "97f50b96-4e08-4591-b53f-085f63564a26"
      },
      "source": [
        "fig,ax=plt.subplots()\n",
        "ax.plot(seattle_weather['MONTH'],seattle_weather['MLY-PRCP-NORMAL'],color='b',marker='o',linestyle='--')\n",
        "ax.plot(austin_weather['MONTH'],austin_weather['MLY-PRCP-NORMAL'],color='r',marker='v',linestyle='--')\n",
        "plt.show()"
      ],
      "execution_count": null,
      "outputs": [
        {
          "output_type": "display_data",
          "data": {
            "image/png": "[encoded data removed]",
            "text/plain": [
              "<Figure size 432x288 with 1 Axes>"
            ]
          },
          "metadata": {
            "tags": [],
            "needs_background": "light"
          }
        }
      ]
    },
    {
      "cell_type": "code",
      "metadata": {
        "id": "W-rRB-Qyy3cK",
        "colab": {
          "base_uri": "https://localhost:8080/",
          "height": 295
        },
        "outputId": "25363b20-0900-4243-eb0c-33dca1b60a2e"
      },
      "source": [
        "fig,ax=plt.subplots()\n",
        "ax.plot(seattle_weather['MONTH'],seattle_weather['MLY-PRCP-NORMAL'],color='b',marker='o',linestyle='--')\n",
        "ax.plot(austin_weather['MONTH'],austin_weather['MLY-PRCP-NORMAL'],color='r',marker='v',linestyle='--')\n",
        "ax.set_xlabel('Time')\n",
        "ax.set_ylabel('precepitation')\n",
        "ax.set_title('weather')\n",
        "plt.show()"
      ],
      "execution_count": null,
      "outputs": [
        {
          "output_type": "display_data",
          "data": {
            "image/png": "[encoded data removed]",
            "text/plain": [
              "<Figure size 432x288 with 1 Axes>"
            ]
          },
          "metadata": {
            "tags": [],
            "needs_background": "light"
          }
        }
      ]
    },
    {
      "cell_type": "code",
      "metadata": {
        "id": "gZFJs2NZzcwd",
        "colab": {
          "base_uri": "https://localhost:8080/",
          "height": 268
        },
        "outputId": "c5fa2fb9-4918-4ed9-a3c0-bc9373f2daa2"
      },
      "source": [
        "fig,ax=plt.subplots(2,2)\n",
        "ax[0,0].plot()\n",
        "ax[0,0].plot(seattle_weather[\"MONTH\"],seattle_weather[\"MLY-PRCP-NORMAL\"])\n",
        "ax[0,1].plot(seattle_weather[\"MONTH\"],seattle_weather[\"MLY-TAVG-NORMAL\"])\n",
        "ax[1,0].plot(austin_weather[\"MONTH\"],austin_weather[\"MLY-PRCP-NORMAL\"])\n",
        "ax[1,1].plot(austin_weather[\"MONTH\"],austin_weather[\"MLY-TAVG-NORMAL\"])\n",
        "plt.show()"
      ],
      "execution_count": null,
      "outputs": [
        {
          "output_type": "display_data",
          "data": {
            "image/png": "[encoded data removed]",
            "text/plain": [
              "<Figure size 432x288 with 4 Axes>"
            ]
          },
          "metadata": {
            "tags": [],
            "needs_background": "light"
          }
        }
      ]
    },
    {
      "cell_type": "code",
      "metadata": {
        "id": "jujBWxdYz0Kz",
        "colab": {
          "base_uri": "https://localhost:8080/",
          "height": 265
        },
        "outputId": "cae183b1-d8a0-4b8e-c446-900a4a71240a"
      },
      "source": [
        "fig,ax=plt.subplots(2,1)\n",
        "ax[0].plot(seattle_weather[\"MONTH\"],seattle_weather[\"MLY-PRCP-NORMAL\"],color=\"b\")\n",
        "ax[0].plot(seattle_weather[\"MONTH\"],seattle_weather[\"MLY-PRCP-25PCTL\"],color=\"b\",linestyle=\"--\")\n",
        "ax[0].plot(seattle_weather[\"MONTH\"],seattle_weather[\"MLY-PRCP-75PCTL\"],color=\"b\",linestyle=\"--\")\n",
        "\n",
        "ax[1].plot(austin_weather[\"MONTH\"],austin_weather[\"MLY-PRCP-NORMAL\"],color=\"r\")\n",
        "ax[1].plot(austin_weather[\"MONTH\"],austin_weather[\"MLY-PRCP-25PCTL\"],color=\"r\",linestyle=\"--\")\n",
        "ax[1].plot(austin_weather[\"MONTH\"],austin_weather[\"MLY-PRCP-75PCTL\"],color=\"r\",linestyle=\"--\")\n",
        "plt.show()"
      ],
      "execution_count": null,
      "outputs": [
        {
          "output_type": "display_data",
          "data": {
            "image/png": "[encoded data removed]",
            "text/plain": [
              "<Figure size 432x288 with 2 Axes>"
            ]
          },
          "metadata": {
            "tags": [],
            "needs_background": "light"
          }
        }
      ]
    },
    {
      "cell_type": "code",
      "metadata": {
        "id": "mrIpSGllz0iC"
      },
      "source": [
        "climate_change=pd.read_csv('climate_change.csv',parse_dates=['date'],index_col=0)"
      ],
      "execution_count": null,
      "outputs": []
    },
    {
      "cell_type": "code",
      "metadata": {
        "id": "wZk6lFGDz0x5",
        "colab": {
          "base_uri": "https://localhost:8080/",
          "height": 170
        },
        "outputId": "5509c288-f78f-43fb-8980-6e4993308679"
      },
      "source": [
        "climate_change.info()"
      ],
      "execution_count": null,
      "outputs": [
        {
          "output_type": "stream",
          "text": [
            "<class 'pandas.core.frame.DataFrame'>\n",
            "DatetimeIndex: 706 entries, 1958-03-06 to 2016-12-06\n",
            "Data columns (total 2 columns):\n",
            " #   Column         Non-Null Count  Dtype  \n",
            "---  ------         --------------  -----  \n",
            " 0   co2            699 non-null    float64\n",
            " 1   relative_temp  706 non-null    float64\n",
            "dtypes: float64(2)\n",
            "memory usage: 16.5 KB\n"
          ],
          "name": "stdout"
        }
      ]
    },
    {
      "cell_type": "code",
      "metadata": {
        "id": "KOK6JleUz1GX",
        "colab": {
          "base_uri": "https://localhost:8080/",
          "height": 279
        },
        "outputId": "d4d2c3f9-6250-4eca-ed6c-14f93ca58c62"
      },
      "source": [
        "fig,ax=plt.subplots()\n",
        "ax.plot(climate_change.index,climate_change['relative_temp'])\n",
        "ax.set_xlabel('Time')\n",
        "ax.set_ylabel('releative_temp')\n",
        "plt.show()"
      ],
      "execution_count": null,
      "outputs": [
        {
          "output_type": "display_data",
          "data": {
            "image/png": "[encoded data removed]",
            "text/plain": [
              "<Figure size 432x288 with 1 Axes>"
            ]
          },
          "metadata": {
            "tags": [],
            "needs_background": "light"
          }
        }
      ]
    },
    {
      "cell_type": "code",
      "metadata": {
        "id": "WN7tL04az1Ox"
      },
      "source": [
        "seventies=climate_change['1970-01-01':'1979-12-31']"
      ],
      "execution_count": null,
      "outputs": []
    },
    {
      "cell_type": "code",
      "metadata": {
        "id": "X4Enh0Q4z19i",
        "colab": {
          "base_uri": "https://localhost:8080/",
          "height": 269
        },
        "outputId": "5b39a9a5-4429-4b17-b6d0-98216120c5c8"
      },
      "source": [
        "fig,ax=plt.subplots()\n",
        "ax.plot(seventies.index,seventies['co2'])\n",
        "plt.show()"
      ],
      "execution_count": null,
      "outputs": [
        {
          "output_type": "display_data",
          "data": {
            "image/png": "[encoded data removed]",
            "text/plain": [
              "<Figure size 432x288 with 1 Axes>"
            ]
          },
          "metadata": {
            "tags": [],
            "needs_background": "light"
          }
        }
      ]
    },
    {
      "cell_type": "code",
      "metadata": {
        "id": "s9TYEfcrz17h",
        "colab": {
          "base_uri": "https://localhost:8080/",
          "height": 450
        },
        "outputId": "e70cf91d-6824-4c6a-d8a6-4b51d5c06f29"
      },
      "source": [
        "climate_change"
      ],
      "execution_count": null,
      "outputs": [
        {
          "output_type": "execute_result",
          "data": {
            "text/html": [
              "<div>\n",
              "<style scoped>\n",
              "    .dataframe tbody tr th:only-of-type {\n",
              "        vertical-align: middle;\n",
              "    }\n",
              "\n",
              "    .dataframe tbody tr th {\n",
              "        vertical-align: top;\n",
              "    }\n",
              "\n",
              "    .dataframe thead th {\n",
              "        text-align: right;\n",
              "    }\n",
              "</style>\n",
              "<table border=\"1\" class=\"dataframe\">\n",
              "  <thead>\n",
              "    <tr style=\"text-align: right;\">\n",
              "      <th></th>\n",
              "      <th>co2</th>\n",
              "      <th>relative_temp</th>\n",
              "    </tr>\n",
              "    <tr>\n",
              "      <th>date</th>\n",
              "      <th></th>\n",
              "      <th></th>\n",
              "    </tr>\n",
              "  </thead>\n",
              "  <tbody>\n",
              "    <tr>\n",
              "      <th>1958-03-06</th>\n",
              "      <td>315.71</td>\n",
              "      <td>0.10</td>\n",
              "    </tr>\n",
              "    <tr>\n",
              "      <th>1958-04-06</th>\n",
              "      <td>317.45</td>\n",
              "      <td>0.01</td>\n",
              "    </tr>\n",
              "    <tr>\n",
              "      <th>1958-05-06</th>\n",
              "      <td>317.50</td>\n",
              "      <td>0.08</td>\n",
              "    </tr>\n",
              "    <tr>\n",
              "      <th>1958-06-06</th>\n",
              "      <td>NaN</td>\n",
              "      <td>-0.05</td>\n",
              "    </tr>\n",
              "    <tr>\n",
              "      <th>1958-07-06</th>\n",
              "      <td>315.86</td>\n",
              "      <td>0.06</td>\n",
              "    </tr>\n",
              "    <tr>\n",
              "      <th>...</th>\n",
              "      <td>...</td>\n",
              "      <td>...</td>\n",
              "    </tr>\n",
              "    <tr>\n",
              "      <th>2016-08-06</th>\n",
              "      <td>402.27</td>\n",
              "      <td>0.98</td>\n",
              "    </tr>\n",
              "    <tr>\n",
              "      <th>2016-09-06</th>\n",
              "      <td>401.05</td>\n",
              "      <td>0.87</td>\n",
              "    </tr>\n",
              "    <tr>\n",
              "      <th>2016-10-06</th>\n",
              "      <td>401.59</td>\n",
              "      <td>0.89</td>\n",
              "    </tr>\n",
              "    <tr>\n",
              "      <th>2016-11-06</th>\n",
              "      <td>403.55</td>\n",
              "      <td>0.93</td>\n",
              "    </tr>\n",
              "    <tr>\n",
              "      <th>2016-12-06</th>\n",
              "      <td>404.45</td>\n",
              "      <td>0.81</td>\n",
              "    </tr>\n",
              "  </tbody>\n",
              "</table>\n",
              "<p>706 rows × 2 columns</p>\n",
              "</div>"
            ],
            "text/plain": [
              "               co2  relative_temp\n",
              "date                             \n",
              "1958-03-06  315.71           0.10\n",
              "1958-04-06  317.45           0.01\n",
              "1958-05-06  317.50           0.08\n",
              "1958-06-06     NaN          -0.05\n",
              "1958-07-06  315.86           0.06\n",
              "...            ...            ...\n",
              "2016-08-06  402.27           0.98\n",
              "2016-09-06  401.05           0.87\n",
              "2016-10-06  401.59           0.89\n",
              "2016-11-06  403.55           0.93\n",
              "2016-12-06  404.45           0.81\n",
              "\n",
              "[706 rows x 2 columns]"
            ]
          },
          "metadata": {
            "tags": []
          },
          "execution_count": 22
        }
      ]
    },
    {
      "cell_type": "code",
      "metadata": {
        "id": "4kgUVPhLz14m",
        "colab": {
          "base_uri": "https://localhost:8080/",
          "height": 265
        },
        "outputId": "2236fc7d-c098-46ad-8d07-5089f462faab"
      },
      "source": [
        "fig,ax=plt.subplots()\n",
        "ax.plot(climate_change.index,climate_change['co2'],color='blue')\n",
        "ax.set_ylabel('co2',color='blue')\n",
        "ax.tick_params('y',color='blue')\n",
        "ax2=ax.twinx()\n",
        "ax2.plot(climate_change.index,climate_change['relative_temp'],color='red')\n",
        "ax2.set_ylabel('temp',color='red')\n",
        "ax2.tick_params('y',color='red')\n",
        "plt.show()"
      ],
      "execution_count": null,
      "outputs": [
        {
          "output_type": "display_data",
          "data": {
            "image/png": "[encoded data removed]",
            "text/plain": [
              "<Figure size 432x288 with 2 Axes>"
            ]
          },
          "metadata": {
            "tags": [],
            "needs_background": "light"
          }
        }
      ]
    },
    {
      "cell_type": "code",
      "metadata": {
        "id": "o-FuGLVrz11e",
        "colab": {
          "base_uri": "https://localhost:8080/",
          "height": 479
        },
        "outputId": "06188071-bee2-4e67-bdc4-260b52d1eb73"
      },
      "source": [
        "import pandas as pd\n",
        "fig,ax=plt.subplots()\n",
        "ax.plot(climate_change.index,climate_change['relative_temp'])\n",
        "ax.annotate('>1 degree',xy=(pd.TimeStamp('2015-10-06'),1),xytext=(pd.TimeStamp('2008-10-06'),-0.15),arrowprops={})\n",
        "plt.show()"
      ],
      "execution_count": null,
      "outputs": [
        {
          "output_type": "error",
          "ename": "AttributeError",
          "evalue": "ignored",
          "traceback": [
            "\u001b[0;31m---------------------------------------------------------------------------\u001b[0m",
            "\u001b[0;31mAttributeError\u001b[0m                            Traceback (most recent call last)",
            "\u001b[0;32m<ipython-input-29-ed7c4aa7d01c>\u001b[0m in \u001b[0;36m<module>\u001b[0;34m()\u001b[0m\n\u001b[1;32m      2\u001b[0m \u001b[0mfig\u001b[0m\u001b[0;34m,\u001b[0m\u001b[0max\u001b[0m\u001b[0;34m=\u001b[0m\u001b[0mplt\u001b[0m\u001b[0;34m.\u001b[0m\u001b[0msubplots\u001b[0m\u001b[0;34m(\u001b[0m\u001b[0;34m)\u001b[0m\u001b[0;34m\u001b[0m\u001b[0;34m\u001b[0m\u001b[0m\n\u001b[1;32m      3\u001b[0m \u001b[0max\u001b[0m\u001b[0;34m.\u001b[0m\u001b[0mplot\u001b[0m\u001b[0;34m(\u001b[0m\u001b[0mclimate_change\u001b[0m\u001b[0;34m.\u001b[0m\u001b[0mindex\u001b[0m\u001b[0;34m,\u001b[0m\u001b[0mclimate_change\u001b[0m\u001b[0;34m[\u001b[0m\u001b[0;34m'relative_temp'\u001b[0m\u001b[0;34m]\u001b[0m\u001b[0;34m)\u001b[0m\u001b[0;34m\u001b[0m\u001b[0;34m\u001b[0m\u001b[0m\n\u001b[0;32m----> 4\u001b[0;31m \u001b[0max\u001b[0m\u001b[0;34m.\u001b[0m\u001b[0mannotate\u001b[0m\u001b[0;34m(\u001b[0m\u001b[0;34m'>1 degree'\u001b[0m\u001b[0;34m,\u001b[0m\u001b[0mxy\u001b[0m\u001b[0;34m=\u001b[0m\u001b[0;34m(\u001b[0m\u001b[0mpd\u001b[0m\u001b[0;34m.\u001b[0m\u001b[0mTimeStamp\u001b[0m\u001b[0;34m(\u001b[0m\u001b[0;34m'2015-10-06'\u001b[0m\u001b[0;34m)\u001b[0m\u001b[0;34m,\u001b[0m\u001b[0;36m1\u001b[0m\u001b[0;34m)\u001b[0m\u001b[0;34m,\u001b[0m\u001b[0mxytext\u001b[0m\u001b[0;34m=\u001b[0m\u001b[0;34m(\u001b[0m\u001b[0mpd\u001b[0m\u001b[0;34m.\u001b[0m\u001b[0mTimeStamp\u001b[0m\u001b[0;34m(\u001b[0m\u001b[0;34m'2008-10-06'\u001b[0m\u001b[0;34m)\u001b[0m\u001b[0;34m,\u001b[0m\u001b[0;34m-\u001b[0m\u001b[0;36m0.15\u001b[0m\u001b[0;34m)\u001b[0m\u001b[0;34m,\u001b[0m\u001b[0marrowprops\u001b[0m\u001b[0;34m=\u001b[0m\u001b[0;34m{\u001b[0m\u001b[0;34m}\u001b[0m\u001b[0;34m)\u001b[0m\u001b[0;34m\u001b[0m\u001b[0;34m\u001b[0m\u001b[0m\n\u001b[0m\u001b[1;32m      5\u001b[0m \u001b[0mplt\u001b[0m\u001b[0;34m.\u001b[0m\u001b[0mshow\u001b[0m\u001b[0;34m(\u001b[0m\u001b[0;34m)\u001b[0m\u001b[0;34m\u001b[0m\u001b[0;34m\u001b[0m\u001b[0m\n",
            "\u001b[0;31mAttributeError\u001b[0m: module 'pandas' has no attribute 'TimeStamp'"
          ]
        },
        {
          "output_type": "display_data",
          "data": {
            "image/png": "[encoded data removed]",
            "text/plain": [
              "<Figure size 432x288 with 1 Axes>"
            ]
          },
          "metadata": {
            "tags": [],
            "needs_background": "light"
          }
        }
      ]
    },
    {
      "cell_type": "code",
      "metadata": {
        "id": "BBjjvFupz1yU",
        "colab": {
          "base_uri": "https://localhost:8080/",
          "height": 479
        },
        "outputId": "5b10e333-2229-41f8-b579-d5204c3b691f"
      },
      "source": [
        "fig,ax=plt.subplots()\n",
        "ax.plot(climate_change.index,climate_change['relative_temp'])\n",
        "ax.annotate('>1 degree',xy=(pd.TimeStamp('2015-10-06'),1),xytext=(pd.TimeStamp('2008-10-06'),-0.15),arrowprops={'arrowstyle':'->','color':'gray'})\n",
        "plt.show()"
      ],
      "execution_count": null,
      "outputs": [
        {
          "output_type": "error",
          "ename": "AttributeError",
          "evalue": "ignored",
          "traceback": [
            "\u001b[0;31m---------------------------------------------------------------------------\u001b[0m",
            "\u001b[0;31mAttributeError\u001b[0m                            Traceback (most recent call last)",
            "\u001b[0;32m<ipython-input-31-39483da97279>\u001b[0m in \u001b[0;36m<module>\u001b[0;34m()\u001b[0m\n\u001b[1;32m      1\u001b[0m \u001b[0mfig\u001b[0m\u001b[0;34m,\u001b[0m\u001b[0max\u001b[0m\u001b[0;34m=\u001b[0m\u001b[0mplt\u001b[0m\u001b[0;34m.\u001b[0m\u001b[0msubplots\u001b[0m\u001b[0;34m(\u001b[0m\u001b[0;34m)\u001b[0m\u001b[0;34m\u001b[0m\u001b[0;34m\u001b[0m\u001b[0m\n\u001b[1;32m      2\u001b[0m \u001b[0max\u001b[0m\u001b[0;34m.\u001b[0m\u001b[0mplot\u001b[0m\u001b[0;34m(\u001b[0m\u001b[0mclimate_change\u001b[0m\u001b[0;34m.\u001b[0m\u001b[0mindex\u001b[0m\u001b[0;34m,\u001b[0m\u001b[0mclimate_change\u001b[0m\u001b[0;34m[\u001b[0m\u001b[0;34m'relative_temp'\u001b[0m\u001b[0;34m]\u001b[0m\u001b[0;34m)\u001b[0m\u001b[0;34m\u001b[0m\u001b[0;34m\u001b[0m\u001b[0m\n\u001b[0;32m----> 3\u001b[0;31m \u001b[0max\u001b[0m\u001b[0;34m.\u001b[0m\u001b[0mannotate\u001b[0m\u001b[0;34m(\u001b[0m\u001b[0;34m'>1 degree'\u001b[0m\u001b[0;34m,\u001b[0m\u001b[0mxy\u001b[0m\u001b[0;34m=\u001b[0m\u001b[0;34m(\u001b[0m\u001b[0mpd\u001b[0m\u001b[0;34m.\u001b[0m\u001b[0mTimeStamp\u001b[0m\u001b[0;34m(\u001b[0m\u001b[0;34m'2015-10-06'\u001b[0m\u001b[0;34m)\u001b[0m\u001b[0;34m,\u001b[0m\u001b[0;36m1\u001b[0m\u001b[0;34m)\u001b[0m\u001b[0;34m,\u001b[0m\u001b[0mxytext\u001b[0m\u001b[0;34m=\u001b[0m\u001b[0;34m(\u001b[0m\u001b[0mpd\u001b[0m\u001b[0;34m.\u001b[0m\u001b[0mTimeStamp\u001b[0m\u001b[0;34m(\u001b[0m\u001b[0;34m'2008-10-06'\u001b[0m\u001b[0;34m)\u001b[0m\u001b[0;34m,\u001b[0m\u001b[0;34m-\u001b[0m\u001b[0;36m0.15\u001b[0m\u001b[0;34m)\u001b[0m\u001b[0;34m,\u001b[0m\u001b[0marrowprops\u001b[0m\u001b[0;34m=\u001b[0m\u001b[0;34m{\u001b[0m\u001b[0;34m'arrowstyle'\u001b[0m\u001b[0;34m:\u001b[0m\u001b[0;34m'->'\u001b[0m\u001b[0;34m,\u001b[0m\u001b[0;34m'color'\u001b[0m\u001b[0;34m:\u001b[0m\u001b[0;34m'gray'\u001b[0m\u001b[0;34m}\u001b[0m\u001b[0;34m)\u001b[0m\u001b[0;34m\u001b[0m\u001b[0;34m\u001b[0m\u001b[0m\n\u001b[0m\u001b[1;32m      4\u001b[0m \u001b[0mplt\u001b[0m\u001b[0;34m.\u001b[0m\u001b[0mshow\u001b[0m\u001b[0;34m(\u001b[0m\u001b[0;34m)\u001b[0m\u001b[0;34m\u001b[0m\u001b[0;34m\u001b[0m\u001b[0m\n",
            "\u001b[0;31mAttributeError\u001b[0m: module 'pandas' has no attribute 'TimeStamp'"
          ]
        },
        {
          "output_type": "display_data",
          "data": {
            "image/png": "[encoded data removed]",
            "text/plain": [
              "<Figure size 432x288 with 1 Axes>"
            ]
          },
          "metadata": {
            "tags": [],
            "needs_background": "light"
          }
        }
      ]
    },
    {
      "cell_type": "code",
      "metadata": {
        "id": "p47svPP4z1v8"
      },
      "source": [
        "medals=pd.read_csv('medals_plots.csv',index_col=0)"
      ],
      "execution_count": null,
      "outputs": []
    },
    {
      "cell_type": "code",
      "metadata": {
        "id": "8yWiUl3Zz1ER",
        "colab": {
          "base_uri": "https://localhost:8080/",
          "height": 204
        },
        "outputId": "7551c5cd-9a52-4005-8851-2b8278e98603"
      },
      "source": [
        "medals.head()"
      ],
      "execution_count": null,
      "outputs": [
        {
          "output_type": "execute_result",
          "data": {
            "text/html": [
              "<div>\n",
              "<style scoped>\n",
              "    .dataframe tbody tr th:only-of-type {\n",
              "        vertical-align: middle;\n",
              "    }\n",
              "\n",
              "    .dataframe tbody tr th {\n",
              "        vertical-align: top;\n",
              "    }\n",
              "\n",
              "    .dataframe thead th {\n",
              "        text-align: right;\n",
              "    }\n",
              "</style>\n",
              "<table border=\"1\" class=\"dataframe\">\n",
              "  <thead>\n",
              "    <tr style=\"text-align: right;\">\n",
              "      <th></th>\n",
              "      <th>Bronze</th>\n",
              "      <th>Gold</th>\n",
              "      <th>Silver</th>\n",
              "    </tr>\n",
              "  </thead>\n",
              "  <tbody>\n",
              "    <tr>\n",
              "      <th>Australia</th>\n",
              "      <td>25</td>\n",
              "      <td>23</td>\n",
              "      <td>34</td>\n",
              "    </tr>\n",
              "    <tr>\n",
              "      <th>Canada</th>\n",
              "      <td>61</td>\n",
              "      <td>4</td>\n",
              "      <td>4</td>\n",
              "    </tr>\n",
              "    <tr>\n",
              "      <th>China</th>\n",
              "      <td>35</td>\n",
              "      <td>44</td>\n",
              "      <td>30</td>\n",
              "    </tr>\n",
              "    <tr>\n",
              "      <th>France</th>\n",
              "      <td>21</td>\n",
              "      <td>20</td>\n",
              "      <td>55</td>\n",
              "    </tr>\n",
              "    <tr>\n",
              "      <th>Germany</th>\n",
              "      <td>67</td>\n",
              "      <td>47</td>\n",
              "      <td>43</td>\n",
              "    </tr>\n",
              "  </tbody>\n",
              "</table>\n",
              "</div>"
            ],
            "text/plain": [
              "           Bronze  Gold  Silver\n",
              "Australia      25    23      34\n",
              "Canada         61     4       4\n",
              "China          35    44      30\n",
              "France         21    20      55\n",
              "Germany        67    47      43"
            ]
          },
          "metadata": {
            "tags": []
          },
          "execution_count": 34
        }
      ]
    },
    {
      "cell_type": "code",
      "metadata": {
        "id": "v1dklY8D48u8",
        "colab": {
          "base_uri": "https://localhost:8080/",
          "height": 323
        },
        "outputId": "7b3c8268-afae-4a69-ec5f-53d529647df3"
      },
      "source": [
        "fig,ax=plt.subplots()\n",
        "ax.plot(medals.index,medals['Gold'])\n",
        "ax.set_xticklabels(medals.index,rotation=90)\n",
        "ax.set_ylabel('Number of gold medals')\n",
        "plt.show()"
      ],
      "execution_count": null,
      "outputs": [
        {
          "output_type": "display_data",
          "data": {
            "image/png": "[encoded data removed]",
            "text/plain": [
              "<Figure size 432x288 with 1 Axes>"
            ]
          },
          "metadata": {
            "tags": [],
            "needs_background": "light"
          }
        }
      ]
    },
    {
      "cell_type": "code",
      "metadata": {
        "id": "ntgX6-GF49Cs",
        "colab": {
          "base_uri": "https://localhost:8080/",
          "height": 265
        },
        "outputId": "8ae387a8-a45d-4d4e-cffc-d0e013732c4d"
      },
      "source": [
        "fig,ax=plt.subplots()\n",
        "ax.bar(medals.index,medals['Gold'],label='Gold')\n",
        "ax.bar(medals.index,medals['Silver'],bottom=medals['Gold'],label='Silver')\n",
        "ax.bar(medals.index,medals['Bronze'],bottom=medals['Gold']+medals['Silver'],label='Bronze')\n",
        "ax.legend()\n",
        "plt.show()"
      ],
      "execution_count": null,
      "outputs": [
        {
          "output_type": "display_data",
          "data": {
            "image/png": "[encoded data removed]",
            "text/plain": [
              "<Figure size 432x288 with 1 Axes>"
            ]
          },
          "metadata": {
            "tags": [],
            "needs_background": "light"
          }
        }
      ]
    },
    {
      "cell_type": "code",
      "metadata": {
        "id": "2hIPK_dq49Px"
      },
      "source": [
        "mens_rowing=pd.read_csv('mens_rowing.csv',index_col=0)\n",
        "mens_gymnatics=pd.read_csv('mens_gymnastics.csv',index_col=0)"
      ],
      "execution_count": null,
      "outputs": []
    },
    {
      "cell_type": "code",
      "metadata": {
        "id": "4XMzR5Sd49Wc",
        "colab": {
          "base_uri": "https://localhost:8080/",
          "height": 547
        },
        "outputId": "5f6cee9d-70c5-48be-b28b-19a9625a1c44"
      },
      "source": [
        "mens_rowing.head()"
      ],
      "execution_count": null,
      "outputs": [
        {
          "output_type": "execute_result",
          "data": {
            "text/html": [
              "<div>\n",
              "<style scoped>\n",
              "    .dataframe tbody tr th:only-of-type {\n",
              "        vertical-align: middle;\n",
              "    }\n",
              "\n",
              "    .dataframe tbody tr th {\n",
              "        vertical-align: top;\n",
              "    }\n",
              "\n",
              "    .dataframe thead th {\n",
              "        text-align: right;\n",
              "    }\n",
              "</style>\n",
              "<table border=\"1\" class=\"dataframe\">\n",
              "  <thead>\n",
              "    <tr style=\"text-align: right;\">\n",
              "      <th></th>\n",
              "      <th>Age</th>\n",
              "      <th>City</th>\n",
              "      <th>Event</th>\n",
              "      <th>Games</th>\n",
              "      <th>Height</th>\n",
              "      <th>ID</th>\n",
              "      <th>Medal</th>\n",
              "      <th>NOC</th>\n",
              "      <th>Name</th>\n",
              "      <th>Season</th>\n",
              "      <th>Sex</th>\n",
              "      <th>Sport</th>\n",
              "      <th>Team</th>\n",
              "      <th>Unnamed: 0.1</th>\n",
              "      <th>Weight</th>\n",
              "      <th>Year</th>\n",
              "    </tr>\n",
              "  </thead>\n",
              "  <tbody>\n",
              "    <tr>\n",
              "      <th>8</th>\n",
              "      <td>21.0</td>\n",
              "      <td>Rio de Janeiro</td>\n",
              "      <td>Rowing Men's Coxless Pairs</td>\n",
              "      <td>2016 Summer</td>\n",
              "      <td>198.0</td>\n",
              "      <td>62</td>\n",
              "      <td>Bronze</td>\n",
              "      <td>ITA</td>\n",
              "      <td>Giovanni Abagnale</td>\n",
              "      <td>Summer</td>\n",
              "      <td>M</td>\n",
              "      <td>Rowing</td>\n",
              "      <td>Italy</td>\n",
              "      <td>158</td>\n",
              "      <td>90.0</td>\n",
              "      <td>2016</td>\n",
              "    </tr>\n",
              "    <tr>\n",
              "      <th>735</th>\n",
              "      <td>27.0</td>\n",
              "      <td>Rio de Janeiro</td>\n",
              "      <td>Rowing Men's Lightweight Double Sculls</td>\n",
              "      <td>2016 Summer</td>\n",
              "      <td>178.0</td>\n",
              "      <td>6346</td>\n",
              "      <td>Gold</td>\n",
              "      <td>FRA</td>\n",
              "      <td>Jrmie Azou</td>\n",
              "      <td>Summer</td>\n",
              "      <td>M</td>\n",
              "      <td>Rowing</td>\n",
              "      <td>France</td>\n",
              "      <td>11648</td>\n",
              "      <td>71.0</td>\n",
              "      <td>2016</td>\n",
              "    </tr>\n",
              "    <tr>\n",
              "      <th>885</th>\n",
              "      <td>28.0</td>\n",
              "      <td>Rio de Janeiro</td>\n",
              "      <td>Rowing Men's Lightweight Coxless Fours</td>\n",
              "      <td>2016 Summer</td>\n",
              "      <td>183.0</td>\n",
              "      <td>8025</td>\n",
              "      <td>Bronze</td>\n",
              "      <td>FRA</td>\n",
              "      <td>Thomas Gabriel Jrmie Baroukh</td>\n",
              "      <td>Summer</td>\n",
              "      <td>M</td>\n",
              "      <td>Rowing</td>\n",
              "      <td>France</td>\n",
              "      <td>14871</td>\n",
              "      <td>70.0</td>\n",
              "      <td>2016</td>\n",
              "    </tr>\n",
              "    <tr>\n",
              "      <th>912</th>\n",
              "      <td>27.0</td>\n",
              "      <td>Rio de Janeiro</td>\n",
              "      <td>Rowing Men's Lightweight Coxless Fours</td>\n",
              "      <td>2016 Summer</td>\n",
              "      <td>188.0</td>\n",
              "      <td>8214</td>\n",
              "      <td>Silver</td>\n",
              "      <td>DEN</td>\n",
              "      <td>Jacob Jepsen Barse</td>\n",
              "      <td>Summer</td>\n",
              "      <td>M</td>\n",
              "      <td>Rowing</td>\n",
              "      <td>Denmark</td>\n",
              "      <td>15215</td>\n",
              "      <td>73.0</td>\n",
              "      <td>2016</td>\n",
              "    </tr>\n",
              "    <tr>\n",
              "      <th>1059</th>\n",
              "      <td>26.0</td>\n",
              "      <td>Rio de Janeiro</td>\n",
              "      <td>Rowing Men's Quadruple Sculls</td>\n",
              "      <td>2016 Summer</td>\n",
              "      <td>187.0</td>\n",
              "      <td>9764</td>\n",
              "      <td>Silver</td>\n",
              "      <td>AUS</td>\n",
              "      <td>Alexander Belonogoff</td>\n",
              "      <td>Summer</td>\n",
              "      <td>M</td>\n",
              "      <td>Rowing</td>\n",
              "      <td>Australia</td>\n",
              "      <td>18441</td>\n",
              "      <td>90.0</td>\n",
              "      <td>2016</td>\n",
              "    </tr>\n",
              "  </tbody>\n",
              "</table>\n",
              "</div>"
            ],
            "text/plain": [
              "       Age            City  ... Weight  Year\n",
              "8     21.0  Rio de Janeiro  ...   90.0  2016\n",
              "735   27.0  Rio de Janeiro  ...   71.0  2016\n",
              "885   28.0  Rio de Janeiro  ...   70.0  2016\n",
              "912   27.0  Rio de Janeiro  ...   73.0  2016\n",
              "1059  26.0  Rio de Janeiro  ...   90.0  2016\n",
              "\n",
              "[5 rows x 16 columns]"
            ]
          },
          "metadata": {
            "tags": []
          },
          "execution_count": 42
        }
      ]
    },
    {
      "cell_type": "code",
      "metadata": {
        "id": "y_4c9vNk49U4",
        "colab": {
          "base_uri": "https://localhost:8080/",
          "height": 462
        },
        "outputId": "30a62937-c87e-4ccf-b7f8-add73e48b027"
      },
      "source": [
        "mens_gymnatics.head()"
      ],
      "execution_count": null,
      "outputs": [
        {
          "output_type": "execute_result",
          "data": {
            "text/html": [
              "<div>\n",
              "<style scoped>\n",
              "    .dataframe tbody tr th:only-of-type {\n",
              "        vertical-align: middle;\n",
              "    }\n",
              "\n",
              "    .dataframe tbody tr th {\n",
              "        vertical-align: top;\n",
              "    }\n",
              "\n",
              "    .dataframe thead th {\n",
              "        text-align: right;\n",
              "    }\n",
              "</style>\n",
              "<table border=\"1\" class=\"dataframe\">\n",
              "  <thead>\n",
              "    <tr style=\"text-align: right;\">\n",
              "      <th></th>\n",
              "      <th>Age</th>\n",
              "      <th>City</th>\n",
              "      <th>Event</th>\n",
              "      <th>Games</th>\n",
              "      <th>Height</th>\n",
              "      <th>ID</th>\n",
              "      <th>Medal</th>\n",
              "      <th>NOC</th>\n",
              "      <th>Name</th>\n",
              "      <th>Season</th>\n",
              "      <th>Sex</th>\n",
              "      <th>Sport</th>\n",
              "      <th>Team</th>\n",
              "      <th>Unnamed: 0.1</th>\n",
              "      <th>Weight</th>\n",
              "      <th>Year</th>\n",
              "    </tr>\n",
              "  </thead>\n",
              "  <tbody>\n",
              "    <tr>\n",
              "      <th>58</th>\n",
              "      <td>24.0</td>\n",
              "      <td>Rio de Janeiro</td>\n",
              "      <td>Gymnastics Men's Team All-Around</td>\n",
              "      <td>2016 Summer</td>\n",
              "      <td>161.0</td>\n",
              "      <td>455</td>\n",
              "      <td>Silver</td>\n",
              "      <td>RUS</td>\n",
              "      <td>Denis Mikhaylovich Ablyazin</td>\n",
              "      <td>Summer</td>\n",
              "      <td>M</td>\n",
              "      <td>Gymnastics</td>\n",
              "      <td>Russia</td>\n",
              "      <td>794</td>\n",
              "      <td>62.0</td>\n",
              "      <td>2016</td>\n",
              "    </tr>\n",
              "    <tr>\n",
              "      <th>60</th>\n",
              "      <td>24.0</td>\n",
              "      <td>Rio de Janeiro</td>\n",
              "      <td>Gymnastics Men's Horse Vault</td>\n",
              "      <td>2016 Summer</td>\n",
              "      <td>161.0</td>\n",
              "      <td>455</td>\n",
              "      <td>Silver</td>\n",
              "      <td>RUS</td>\n",
              "      <td>Denis Mikhaylovich Ablyazin</td>\n",
              "      <td>Summer</td>\n",
              "      <td>M</td>\n",
              "      <td>Gymnastics</td>\n",
              "      <td>Russia</td>\n",
              "      <td>796</td>\n",
              "      <td>62.0</td>\n",
              "      <td>2016</td>\n",
              "    </tr>\n",
              "    <tr>\n",
              "      <th>61</th>\n",
              "      <td>24.0</td>\n",
              "      <td>Rio de Janeiro</td>\n",
              "      <td>Gymnastics Men's Rings</td>\n",
              "      <td>2016 Summer</td>\n",
              "      <td>161.0</td>\n",
              "      <td>455</td>\n",
              "      <td>Bronze</td>\n",
              "      <td>RUS</td>\n",
              "      <td>Denis Mikhaylovich Ablyazin</td>\n",
              "      <td>Summer</td>\n",
              "      <td>M</td>\n",
              "      <td>Gymnastics</td>\n",
              "      <td>Russia</td>\n",
              "      <td>797</td>\n",
              "      <td>62.0</td>\n",
              "      <td>2016</td>\n",
              "    </tr>\n",
              "    <tr>\n",
              "      <th>1066</th>\n",
              "      <td>24.0</td>\n",
              "      <td>Rio de Janeiro</td>\n",
              "      <td>Gymnastics Men's Team All-Around</td>\n",
              "      <td>2016 Summer</td>\n",
              "      <td>165.0</td>\n",
              "      <td>9829</td>\n",
              "      <td>Silver</td>\n",
              "      <td>RUS</td>\n",
              "      <td>David Sagitovich Belyavsky</td>\n",
              "      <td>Summer</td>\n",
              "      <td>M</td>\n",
              "      <td>Gymnastics</td>\n",
              "      <td>Russia</td>\n",
              "      <td>18577</td>\n",
              "      <td>55.0</td>\n",
              "      <td>2016</td>\n",
              "    </tr>\n",
              "    <tr>\n",
              "      <th>1068</th>\n",
              "      <td>24.0</td>\n",
              "      <td>Rio de Janeiro</td>\n",
              "      <td>Gymnastics Men's Parallel Bars</td>\n",
              "      <td>2016 Summer</td>\n",
              "      <td>165.0</td>\n",
              "      <td>9829</td>\n",
              "      <td>Bronze</td>\n",
              "      <td>RUS</td>\n",
              "      <td>David Sagitovich Belyavsky</td>\n",
              "      <td>Summer</td>\n",
              "      <td>M</td>\n",
              "      <td>Gymnastics</td>\n",
              "      <td>Russia</td>\n",
              "      <td>18579</td>\n",
              "      <td>55.0</td>\n",
              "      <td>2016</td>\n",
              "    </tr>\n",
              "  </tbody>\n",
              "</table>\n",
              "</div>"
            ],
            "text/plain": [
              "       Age            City  ... Weight  Year\n",
              "58    24.0  Rio de Janeiro  ...   62.0  2016\n",
              "60    24.0  Rio de Janeiro  ...   62.0  2016\n",
              "61    24.0  Rio de Janeiro  ...   62.0  2016\n",
              "1066  24.0  Rio de Janeiro  ...   55.0  2016\n",
              "1068  24.0  Rio de Janeiro  ...   55.0  2016\n",
              "\n",
              "[5 rows x 16 columns]"
            ]
          },
          "metadata": {
            "tags": []
          },
          "execution_count": 43
        }
      ]
    },
    {
      "cell_type": "code",
      "metadata": {
        "id": "EroYv16u49No",
        "colab": {
          "base_uri": "https://localhost:8080/",
          "height": 265
        },
        "outputId": "815a0fb3-8724-463d-b7f2-5754d5a50913"
      },
      "source": [
        "fig,ax=plt.subplots()\n",
        "ax.hist(mens_rowing['Weight'],label='Rowing')\n",
        "ax.hist(mens_gymnatics['Weight'],label='Gymnatics')\n",
        "ax.legend()\n",
        "plt.show()"
      ],
      "execution_count": null,
      "outputs": [
        {
          "output_type": "display_data",
          "data": {
            "image/png": "[encoded data removed]",
            "text/plain": [
              "<Figure size 432x288 with 1 Axes>"
            ]
          },
          "metadata": {
            "tags": [],
            "needs_background": "light"
          }
        }
      ]
    },
    {
      "cell_type": "code",
      "metadata": {
        "id": "_PULXv4y49BL",
        "colab": {
          "base_uri": "https://localhost:8080/",
          "height": 265
        },
        "outputId": "dbb494d9-1f40-47eb-aba9-8d0de341a5a8"
      },
      "source": [
        "fig,ax=plt.subplots()\n",
        "ax.hist(mens_rowing['Weight'],label='Rowing',histtype='step',bins=5)\n",
        "ax.hist(mens_gymnatics['Weight'],label='Gymnatics',histtype='step',bins=5)\n",
        "ax.legend()\n",
        "plt.show()"
      ],
      "execution_count": null,
      "outputs": [
        {
          "output_type": "display_data",
          "data": {
            "image/png": "[encoded data removed]",
            "text/plain": [
              "<Figure size 432x288 with 1 Axes>"
            ]
          },
          "metadata": {
            "tags": [],
            "needs_background": "light"
          }
        }
      ]
    },
    {
      "cell_type": "code",
      "metadata": {
        "id": "2Wli20S_7R2p",
        "colab": {
          "base_uri": "https://localhost:8080/",
          "height": 265
        },
        "outputId": "2714455c-de68-49a1-972d-2806aceada21"
      },
      "source": [
        "fig,ax=plt.subplots()\n",
        "ax.scatter(climate_change['co2'],climate_change['relative_temp'],c=climate_change.index)\n",
        "plt.show()"
      ],
      "execution_count": null,
      "outputs": [
        {
          "output_type": "display_data",
          "data": {
            "image/png": "[encoded data removed]",
            "text/plain": [
              "<Figure size 432x288 with 1 Axes>"
            ]
          },
          "metadata": {
            "tags": [],
            "needs_background": "light"
          }
        }
      ]
    },
    {
      "cell_type": "code",
      "metadata": {
        "id": "PA6vNPvP7Rzn"
      },
      "source": [
        ""
      ],
      "execution_count": null,
      "outputs": []
    },
    {
      "cell_type": "code",
      "metadata": {
        "id": "4AL0vmm77RxO"
      },
      "source": [
        ""
      ],
      "execution_count": null,
      "outputs": []
    },
    {
      "cell_type": "code",
      "metadata": {
        "id": "iiKdcETA7Rsn"
      },
      "source": [
        ""
      ],
      "execution_count": null,
      "outputs": []
    }
  ]
}