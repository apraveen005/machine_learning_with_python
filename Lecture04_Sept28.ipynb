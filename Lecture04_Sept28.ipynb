{
  "nbformat": 4,
  "nbformat_minor": 0,
  "metadata": {
    "colab": {
      "name": "Lecture04-Sept28.ipynb",
      "provenance": [],
      "collapsed_sections": [],
      "authorship_tag": "ABX9TyOXraGmD6NstO/nLWOQknKt",
      "include_colab_link": true
    },
    "kernelspec": {
      "name": "python3",
      "display_name": "Python 3"
    }
  },
  "cells": [
    {
      "cell_type": "markdown",
      "metadata": {
        "id": "view-in-github",
        "colab_type": "text"
      },
      "source": [
        "<a href=\"https://colab.research.google.com/github/apraveen005/machine_learning_with_python/blob/master/Lecture04_Sept28.ipynb\" target=\"_parent\"><img src=\"https://colab.research.google.com/assets/colab-badge.svg\" alt=\"Open In Colab\"/></a>"
      ]
    },
    {
      "cell_type": "code",
      "metadata": {
        "id": "6zcXPQvWBvx7",
        "colab": {
          "base_uri": "https://localhost:8080/",
          "height": 295
        },
        "outputId": "0c997ba4-8b05-4c05-d014-a21443b2312f"
      },
      "source": [
        "#matplotlib customization\n",
        "import matplotlib.pyplot as plt\n",
        "matches=[1,2,3,4]\n",
        "runs=[30,23,78,89]\n",
        "plt.scatter(matches,runs)\n",
        "plt.xlabel('matches')\n",
        "plt.ylabel('runs')\n",
        "plt.title('IPL')\n",
        "plt.yticks([0,20,40,50,70,100])\n",
        "plt.xticks([1,2,3,4],['first','second','third','fourth'])\n",
        "plt.show()\n"
      ],
      "execution_count": null,
      "outputs": [
        {
          "output_type": "display_data",
          "data": {
            "image/png": "[encoded data removed]",
            "text/plain": [
              "<Figure size 432x288 with 1 Axes>"
            ]
          },
          "metadata": {
            "tags": [],
            "needs_background": "light"
          }
        }
      ]
    },
    {
      "cell_type": "code",
      "metadata": {
        "id": "zbyHIh9adtGT"
      },
      "source": [
        ""
      ],
      "execution_count": null,
      "outputs": []
    },
    {
      "cell_type": "code",
      "metadata": {
        "id": "OcuqBwrGIQPX",
        "colab": {
          "base_uri": "https://localhost:8080/",
          "height": 34
        },
        "outputId": "aa3caa19-f19a-4313-9814-f680a0097fca"
      },
      "source": [
        "#Dictionary\n",
        "marks={'raj':18,'rup':19,'rish':20}\n",
        "marks['rup'] #index is not avail in dict\n",
        "marks['rup']=17\n",
        "marks['vijay']=15\n",
        "marks"
      ],
      "execution_count": null,
      "outputs": [
        {
          "output_type": "execute_result",
          "data": {
            "text/plain": [
              "{'raj': 18, 'rish': 20, 'rup': 17, 'vijay': 15}"
            ]
          },
          "metadata": {
            "tags": []
          },
          "execution_count": 4
        }
      ]
    },
    {
      "cell_type": "code",
      "metadata": {
        "id": "xJvEW_42JOsz",
        "colab": {
          "base_uri": "https://localhost:8080/",
          "height": 34
        },
        "outputId": "8280a275-bb43-4f63-dced-33b143236681"
      },
      "source": [
        "del(marks['vijay'])\n",
        "marks"
      ],
      "execution_count": null,
      "outputs": [
        {
          "output_type": "execute_result",
          "data": {
            "text/plain": [
              "{'raj': 18, 'rish': 20, 'rup': 17}"
            ]
          },
          "metadata": {
            "tags": []
          },
          "execution_count": 5
        }
      ]
    },
    {
      "cell_type": "code",
      "metadata": {
        "id": "9YUIJFLLwFk0",
        "colab": {
          "base_uri": "https://localhost:8080/",
          "height": 35
        },
        "outputId": "0020c3f4-1fb4-4d58-b1ae-dde936876d01"
      },
      "source": [
        "list1=['apple','banana','carrot']\n",
        "list1[0]"
      ],
      "execution_count": null,
      "outputs": [
        {
          "output_type": "execute_result",
          "data": {
            "application/vnd.google.colaboratory.intrinsic+json": {
              "type": "string"
            },
            "text/plain": [
              "'apple'"
            ]
          },
          "metadata": {
            "tags": []
          },
          "execution_count": 6
        }
      ]
    },
    {
      "cell_type": "code",
      "metadata": {
        "id": "QOZX9Qok4PVf",
        "colab": {
          "base_uri": "https://localhost:8080/",
          "height": 34
        },
        "outputId": "f4a98901-5e28-4f2b-ee19-398cd3d980a8"
      },
      "source": [
        "sample={'apple':50,'banana':20}\n",
        "sample['apple']"
      ],
      "execution_count": null,
      "outputs": [
        {
          "output_type": "execute_result",
          "data": {
            "text/plain": [
              "50"
            ]
          },
          "metadata": {
            "tags": []
          },
          "execution_count": 8
        }
      ]
    },
    {
      "cell_type": "code",
      "metadata": {
        "id": "tlni0iY74xEM"
      },
      "source": [
        "#pandas\n",
        "cricket={'Name':['Rohit','virat'],'age':[22,32],\n",
        "         'role':['engg','doctor']}\n",
        "\n",
        "import pandas as pd\n",
        "df=pd.DataFrame(cricket)\n",
        "df.index['America','Australia']\n",
        "df"
      ],
      "execution_count": null,
      "outputs": []
    },
    {
      "cell_type": "code",
      "metadata": {
        "id": "ZI81Lwh5-ArY",
        "colab": {
          "base_uri": "https://localhost:8080/",
          "height": 1000
        },
        "outputId": "31da80c6-f73f-406e-d261-fe330837439f"
      },
      "source": [
        "import pandas as pd\n",
        "fil=pd.read_csv(\"/content/economics.csv\")\n",
        "fil"
      ],
      "execution_count": null,
      "outputs": [
        {
          "output_type": "execute_result",
          "data": {
            "text/html": [
              "<div>\n",
              "<style scoped>\n",
              "    .dataframe tbody tr th:only-of-type {\n",
              "        vertical-align: middle;\n",
              "    }\n",
              "\n",
              "    .dataframe tbody tr th {\n",
              "        vertical-align: top;\n",
              "    }\n",
              "\n",
              "    .dataframe thead th {\n",
              "        text-align: right;\n",
              "    }\n",
              "</style>\n",
              "<table border=\"1\" class=\"dataframe\">\n",
              "  <thead>\n",
              "    <tr style=\"text-align: right;\">\n",
              "      <th></th>\n",
              "      <th>Year</th>\n",
              "      <th>Institutional_sector_name</th>\n",
              "      <th>Institutional_sector_code</th>\n",
              "      <th>Descriptor</th>\n",
              "      <th>SNA08TRANS</th>\n",
              "      <th>Asset_liability_code</th>\n",
              "      <th>Status</th>\n",
              "      <th>Values</th>\n",
              "    </tr>\n",
              "  </thead>\n",
              "  <tbody>\n",
              "    <tr>\n",
              "      <th>0</th>\n",
              "      <td>2008.03</td>\n",
              "      <td>Corporate business enterprises</td>\n",
              "      <td>141</td>\n",
              "      <td>Capital Account Opening balances Produced non-...</td>\n",
              "      <td>LS00000</td>\n",
              "      <td>AN10000</td>\n",
              "      <td>REVISED</td>\n",
              "      <td>225544</td>\n",
              "    </tr>\n",
              "    <tr>\n",
              "      <th>1</th>\n",
              "      <td>2009.03</td>\n",
              "      <td>Corporate business enterprises</td>\n",
              "      <td>141</td>\n",
              "      <td>Capital Account Opening balances Produced non-...</td>\n",
              "      <td>LS00000</td>\n",
              "      <td>AN10000</td>\n",
              "      <td>REVISED</td>\n",
              "      <td>243315</td>\n",
              "    </tr>\n",
              "    <tr>\n",
              "      <th>2</th>\n",
              "      <td>2010.03</td>\n",
              "      <td>Corporate business enterprises</td>\n",
              "      <td>141</td>\n",
              "      <td>Capital Account Opening balances Produced non-...</td>\n",
              "      <td>LS00000</td>\n",
              "      <td>AN10000</td>\n",
              "      <td>REVISED</td>\n",
              "      <td>259381</td>\n",
              "    </tr>\n",
              "    <tr>\n",
              "      <th>3</th>\n",
              "      <td>2011.03</td>\n",
              "      <td>Corporate business enterprises</td>\n",
              "      <td>141</td>\n",
              "      <td>Capital Account Opening balances Produced non-...</td>\n",
              "      <td>LS00000</td>\n",
              "      <td>AN10000</td>\n",
              "      <td>REVISED</td>\n",
              "      <td>262596</td>\n",
              "    </tr>\n",
              "    <tr>\n",
              "      <th>4</th>\n",
              "      <td>2012.03</td>\n",
              "      <td>Corporate business enterprises</td>\n",
              "      <td>141</td>\n",
              "      <td>Capital Account Opening balances Produced non-...</td>\n",
              "      <td>LS00000</td>\n",
              "      <td>AN10000</td>\n",
              "      <td>REVISED</td>\n",
              "      <td>267100</td>\n",
              "    </tr>\n",
              "    <tr>\n",
              "      <th>...</th>\n",
              "      <td>...</td>\n",
              "      <td>...</td>\n",
              "      <td>...</td>\n",
              "      <td>...</td>\n",
              "      <td>...</td>\n",
              "      <td>...</td>\n",
              "      <td>...</td>\n",
              "      <td>...</td>\n",
              "    </tr>\n",
              "    <tr>\n",
              "      <th>18715</th>\n",
              "      <td>2013.03</td>\n",
              "      <td>Pension funds</td>\n",
              "      <td>261</td>\n",
              "      <td>Financial liabilities Closing balance Total fi...</td>\n",
              "      <td>LE00000</td>\n",
              "      <td>AFL0000</td>\n",
              "      <td>FINAL</td>\n",
              "      <td>53768</td>\n",
              "    </tr>\n",
              "    <tr>\n",
              "      <th>18716</th>\n",
              "      <td>2014.03</td>\n",
              "      <td>Pension funds</td>\n",
              "      <td>261</td>\n",
              "      <td>Financial liabilities Closing balance Total fi...</td>\n",
              "      <td>LE00000</td>\n",
              "      <td>AFL0000</td>\n",
              "      <td>REVISED</td>\n",
              "      <td>58559</td>\n",
              "    </tr>\n",
              "    <tr>\n",
              "      <th>18717</th>\n",
              "      <td>2015.03</td>\n",
              "      <td>Pension funds</td>\n",
              "      <td>261</td>\n",
              "      <td>Financial liabilities Closing balance Total fi...</td>\n",
              "      <td>LE00000</td>\n",
              "      <td>AFL0000</td>\n",
              "      <td>REVISED</td>\n",
              "      <td>70099</td>\n",
              "    </tr>\n",
              "    <tr>\n",
              "      <th>18718</th>\n",
              "      <td>2016.03</td>\n",
              "      <td>Pension funds</td>\n",
              "      <td>261</td>\n",
              "      <td>Financial liabilities Closing balance Total fi...</td>\n",
              "      <td>LE00000</td>\n",
              "      <td>AFL0000</td>\n",
              "      <td>REVISED</td>\n",
              "      <td>76021</td>\n",
              "    </tr>\n",
              "    <tr>\n",
              "      <th>18719</th>\n",
              "      <td>2017.03</td>\n",
              "      <td>Pension funds</td>\n",
              "      <td>261</td>\n",
              "      <td>Financial liabilities Closing balance Total fi...</td>\n",
              "      <td>LE00000</td>\n",
              "      <td>AFL0000</td>\n",
              "      <td>FINAL</td>\n",
              "      <td>85190</td>\n",
              "    </tr>\n",
              "  </tbody>\n",
              "</table>\n",
              "<p>18720 rows × 8 columns</p>\n",
              "</div>"
            ],
            "text/plain": [
              "          Year       Institutional_sector_name  ...   Status  Values\n",
              "0      2008.03  Corporate business enterprises  ...  REVISED  225544\n",
              "1      2009.03  Corporate business enterprises  ...  REVISED  243315\n",
              "2      2010.03  Corporate business enterprises  ...  REVISED  259381\n",
              "3      2011.03  Corporate business enterprises  ...  REVISED  262596\n",
              "4      2012.03  Corporate business enterprises  ...  REVISED  267100\n",
              "...        ...                             ...  ...      ...     ...\n",
              "18715  2013.03                   Pension funds  ...    FINAL   53768\n",
              "18716  2014.03                   Pension funds  ...  REVISED   58559\n",
              "18717  2015.03                   Pension funds  ...  REVISED   70099\n",
              "18718  2016.03                   Pension funds  ...  REVISED   76021\n",
              "18719  2017.03                   Pension funds  ...    FINAL   85190\n",
              "\n",
              "[18720 rows x 8 columns]"
            ]
          },
          "metadata": {
            "tags": []
          },
          "execution_count": 34
        }
      ]
    },
    {
      "cell_type": "code",
      "metadata": {
        "id": "lkrYP2bLe5e8",
        "colab": {
          "base_uri": "https://localhost:8080/",
          "height": 142
        },
        "outputId": "e6794bc4-bc6c-406d-c1e6-e8a08af6280a"
      },
      "source": [
        "\n",
        "import pandas as pd\n",
        "df=pd.read_csv(\"sample.csv\")\n",
        "df"
      ],
      "execution_count": null,
      "outputs": [
        {
          "output_type": "execute_result",
          "data": {
            "text/html": [
              "<div>\n",
              "<style scoped>\n",
              "    .dataframe tbody tr th:only-of-type {\n",
              "        vertical-align: middle;\n",
              "    }\n",
              "\n",
              "    .dataframe tbody tr th {\n",
              "        vertical-align: top;\n",
              "    }\n",
              "\n",
              "    .dataframe thead th {\n",
              "        text-align: right;\n",
              "    }\n",
              "</style>\n",
              "<table border=\"1\" class=\"dataframe\">\n",
              "  <thead>\n",
              "    <tr style=\"text-align: right;\">\n",
              "      <th></th>\n",
              "      <th>name</th>\n",
              "      <th>age</th>\n",
              "      <th>runs</th>\n",
              "    </tr>\n",
              "  </thead>\n",
              "  <tbody>\n",
              "    <tr>\n",
              "      <th>0</th>\n",
              "      <td>rohit</td>\n",
              "      <td>22</td>\n",
              "      <td>55</td>\n",
              "    </tr>\n",
              "    <tr>\n",
              "      <th>1</th>\n",
              "      <td>kohli</td>\n",
              "      <td>44</td>\n",
              "      <td>77</td>\n",
              "    </tr>\n",
              "    <tr>\n",
              "      <th>2</th>\n",
              "      <td>rup</td>\n",
              "      <td>33</td>\n",
              "      <td>66</td>\n",
              "    </tr>\n",
              "  </tbody>\n",
              "</table>\n",
              "</div>"
            ],
            "text/plain": [
              "    name  age  runs\n",
              "0  rohit   22    55\n",
              "1  kohli   44    77\n",
              "2    rup   33    66"
            ]
          },
          "metadata": {
            "tags": []
          },
          "execution_count": 2
        }
      ]
    },
    {
      "cell_type": "code",
      "metadata": {
        "id": "zQoGaCV4hdH7",
        "colab": {
          "base_uri": "https://localhost:8080/",
          "height": 34
        },
        "outputId": "7f461325-0a68-40a6-99ca-edcbb209a695"
      },
      "source": [
        "type(df)"
      ],
      "execution_count": null,
      "outputs": [
        {
          "output_type": "execute_result",
          "data": {
            "text/plain": [
              "pandas.core.frame.DataFrame"
            ]
          },
          "metadata": {
            "tags": []
          },
          "execution_count": 3
        }
      ]
    },
    {
      "cell_type": "code",
      "metadata": {
        "id": "ZLxxraB0hgfj",
        "colab": {
          "base_uri": "https://localhost:8080/",
          "height": 102
        },
        "outputId": "1eb54869-c1d1-4fa6-9351-0bb418cf5f85"
      },
      "source": [
        "print(df['age'])\n",
        "\n",
        "type(df['age'])"
      ],
      "execution_count": null,
      "outputs": [
        {
          "output_type": "stream",
          "text": [
            "0    22\n",
            "1    44\n",
            "2    33\n",
            "Name: age, dtype: int64\n"
          ],
          "name": "stdout"
        },
        {
          "output_type": "execute_result",
          "data": {
            "text/plain": [
              "pandas.core.series.Series"
            ]
          },
          "metadata": {
            "tags": []
          },
          "execution_count": 7
        }
      ]
    },
    {
      "cell_type": "code",
      "metadata": {
        "id": "8w203BrkiQ1E",
        "colab": {
          "base_uri": "https://localhost:8080/",
          "height": 102
        },
        "outputId": "1f7f2af4-7f7a-4a44-df2a-ada4919437d6"
      },
      "source": [
        "print(df[['runs']])\n",
        "type(df[['runs']])\n"
      ],
      "execution_count": null,
      "outputs": [
        {
          "output_type": "stream",
          "text": [
            "   runs\n",
            "0    55\n",
            "1    77\n",
            "2    66\n"
          ],
          "name": "stdout"
        },
        {
          "output_type": "execute_result",
          "data": {
            "text/plain": [
              "pandas.core.frame.DataFrame"
            ]
          },
          "metadata": {
            "tags": []
          },
          "execution_count": 10
        }
      ]
    },
    {
      "cell_type": "code",
      "metadata": {
        "id": "42AfKlvKirvM",
        "colab": {
          "base_uri": "https://localhost:8080/",
          "height": 142
        },
        "outputId": "782c7f26-f6dc-4a41-ef55-c9eb301964c3"
      },
      "source": [
        "df[['age','runs']]"
      ],
      "execution_count": null,
      "outputs": [
        {
          "output_type": "execute_result",
          "data": {
            "text/html": [
              "<div>\n",
              "<style scoped>\n",
              "    .dataframe tbody tr th:only-of-type {\n",
              "        vertical-align: middle;\n",
              "    }\n",
              "\n",
              "    .dataframe tbody tr th {\n",
              "        vertical-align: top;\n",
              "    }\n",
              "\n",
              "    .dataframe thead th {\n",
              "        text-align: right;\n",
              "    }\n",
              "</style>\n",
              "<table border=\"1\" class=\"dataframe\">\n",
              "  <thead>\n",
              "    <tr style=\"text-align: right;\">\n",
              "      <th></th>\n",
              "      <th>age</th>\n",
              "      <th>runs</th>\n",
              "    </tr>\n",
              "  </thead>\n",
              "  <tbody>\n",
              "    <tr>\n",
              "      <th>0</th>\n",
              "      <td>22</td>\n",
              "      <td>55</td>\n",
              "    </tr>\n",
              "    <tr>\n",
              "      <th>1</th>\n",
              "      <td>44</td>\n",
              "      <td>77</td>\n",
              "    </tr>\n",
              "    <tr>\n",
              "      <th>2</th>\n",
              "      <td>33</td>\n",
              "      <td>66</td>\n",
              "    </tr>\n",
              "  </tbody>\n",
              "</table>\n",
              "</div>"
            ],
            "text/plain": [
              "   age  runs\n",
              "0   22    55\n",
              "1   44    77\n",
              "2   33    66"
            ]
          },
          "metadata": {
            "tags": []
          },
          "execution_count": 12
        }
      ]
    },
    {
      "cell_type": "code",
      "metadata": {
        "id": "w_3Z7sadi4jw",
        "colab": {
          "base_uri": "https://localhost:8080/",
          "height": 111
        },
        "outputId": "4d8775ab-1ed3-4ba2-ab43-2ba29fdbe42a"
      },
      "source": [
        "df[1:3]"
      ],
      "execution_count": null,
      "outputs": [
        {
          "output_type": "execute_result",
          "data": {
            "text/html": [
              "<div>\n",
              "<style scoped>\n",
              "    .dataframe tbody tr th:only-of-type {\n",
              "        vertical-align: middle;\n",
              "    }\n",
              "\n",
              "    .dataframe tbody tr th {\n",
              "        vertical-align: top;\n",
              "    }\n",
              "\n",
              "    .dataframe thead th {\n",
              "        text-align: right;\n",
              "    }\n",
              "</style>\n",
              "<table border=\"1\" class=\"dataframe\">\n",
              "  <thead>\n",
              "    <tr style=\"text-align: right;\">\n",
              "      <th></th>\n",
              "      <th>name</th>\n",
              "      <th>age</th>\n",
              "      <th>runs</th>\n",
              "    </tr>\n",
              "  </thead>\n",
              "  <tbody>\n",
              "    <tr>\n",
              "      <th>1</th>\n",
              "      <td>kohli</td>\n",
              "      <td>44</td>\n",
              "      <td>77</td>\n",
              "    </tr>\n",
              "    <tr>\n",
              "      <th>2</th>\n",
              "      <td>rup</td>\n",
              "      <td>33</td>\n",
              "      <td>66</td>\n",
              "    </tr>\n",
              "  </tbody>\n",
              "</table>\n",
              "</div>"
            ],
            "text/plain": [
              "    name  age  runs\n",
              "1  kohli   44    77\n",
              "2    rup   33    66"
            ]
          },
          "metadata": {
            "tags": []
          },
          "execution_count": 13
        }
      ]
    },
    {
      "cell_type": "code",
      "metadata": {
        "id": "cdkH_LxmkLvK",
        "colab": {
          "base_uri": "https://localhost:8080/",
          "height": 1000
        },
        "outputId": "5fb15ab6-76c1-4960-f5c5-be0976d72b82"
      },
      "source": [
        "import pandas as pd\n",
        "fil=pd.read_csv(\"economics.csv\")\n",
        "fil\n"
      ],
      "execution_count": null,
      "outputs": [
        {
          "output_type": "execute_result",
          "data": {
            "text/html": [
              "<div>\n",
              "<style scoped>\n",
              "    .dataframe tbody tr th:only-of-type {\n",
              "        vertical-align: middle;\n",
              "    }\n",
              "\n",
              "    .dataframe tbody tr th {\n",
              "        vertical-align: top;\n",
              "    }\n",
              "\n",
              "    .dataframe thead th {\n",
              "        text-align: right;\n",
              "    }\n",
              "</style>\n",
              "<table border=\"1\" class=\"dataframe\">\n",
              "  <thead>\n",
              "    <tr style=\"text-align: right;\">\n",
              "      <th></th>\n",
              "      <th>Year</th>\n",
              "      <th>Institutional_sector_name</th>\n",
              "      <th>Institutional_sector_code</th>\n",
              "      <th>Descriptor</th>\n",
              "      <th>SNA08TRANS</th>\n",
              "      <th>Asset_liability_code</th>\n",
              "      <th>Status</th>\n",
              "      <th>Values</th>\n",
              "    </tr>\n",
              "  </thead>\n",
              "  <tbody>\n",
              "    <tr>\n",
              "      <th>0</th>\n",
              "      <td>2008.03</td>\n",
              "      <td>Corporate business enterprises</td>\n",
              "      <td>141</td>\n",
              "      <td>Capital Account Opening balances Produced non-...</td>\n",
              "      <td>LS00000</td>\n",
              "      <td>AN10000</td>\n",
              "      <td>REVISED</td>\n",
              "      <td>225544</td>\n",
              "    </tr>\n",
              "    <tr>\n",
              "      <th>1</th>\n",
              "      <td>2009.03</td>\n",
              "      <td>Corporate business enterprises</td>\n",
              "      <td>141</td>\n",
              "      <td>Capital Account Opening balances Produced non-...</td>\n",
              "      <td>LS00000</td>\n",
              "      <td>AN10000</td>\n",
              "      <td>REVISED</td>\n",
              "      <td>243315</td>\n",
              "    </tr>\n",
              "    <tr>\n",
              "      <th>2</th>\n",
              "      <td>2010.03</td>\n",
              "      <td>Corporate business enterprises</td>\n",
              "      <td>141</td>\n",
              "      <td>Capital Account Opening balances Produced non-...</td>\n",
              "      <td>LS00000</td>\n",
              "      <td>AN10000</td>\n",
              "      <td>REVISED</td>\n",
              "      <td>259381</td>\n",
              "    </tr>\n",
              "    <tr>\n",
              "      <th>3</th>\n",
              "      <td>2011.03</td>\n",
              "      <td>Corporate business enterprises</td>\n",
              "      <td>141</td>\n",
              "      <td>Capital Account Opening balances Produced non-...</td>\n",
              "      <td>LS00000</td>\n",
              "      <td>AN10000</td>\n",
              "      <td>REVISED</td>\n",
              "      <td>262596</td>\n",
              "    </tr>\n",
              "    <tr>\n",
              "      <th>4</th>\n",
              "      <td>2012.03</td>\n",
              "      <td>Corporate business enterprises</td>\n",
              "      <td>141</td>\n",
              "      <td>Capital Account Opening balances Produced non-...</td>\n",
              "      <td>LS00000</td>\n",
              "      <td>AN10000</td>\n",
              "      <td>REVISED</td>\n",
              "      <td>267100</td>\n",
              "    </tr>\n",
              "    <tr>\n",
              "      <th>...</th>\n",
              "      <td>...</td>\n",
              "      <td>...</td>\n",
              "      <td>...</td>\n",
              "      <td>...</td>\n",
              "      <td>...</td>\n",
              "      <td>...</td>\n",
              "      <td>...</td>\n",
              "      <td>...</td>\n",
              "    </tr>\n",
              "    <tr>\n",
              "      <th>15133</th>\n",
              "      <td>2011.03</td>\n",
              "      <td>Investment funds</td>\n",
              "      <td>231</td>\n",
              "      <td>Other Changes in the Volume of Assets and Liab...</td>\n",
              "      <td>K050000</td>\n",
              "      <td>AN00000</td>\n",
              "      <td>FINAL</td>\n",
              "      <td>0</td>\n",
              "    </tr>\n",
              "    <tr>\n",
              "      <th>15134</th>\n",
              "      <td>2012.03</td>\n",
              "      <td>Investment funds</td>\n",
              "      <td>231</td>\n",
              "      <td>Other Changes in the Volume of Assets and Liab...</td>\n",
              "      <td>K050000</td>\n",
              "      <td>AN00000</td>\n",
              "      <td>FINAL</td>\n",
              "      <td>0</td>\n",
              "    </tr>\n",
              "    <tr>\n",
              "      <th>15135</th>\n",
              "      <td>2013.03</td>\n",
              "      <td>Investment funds</td>\n",
              "      <td>231</td>\n",
              "      <td>Other Changes in the Volume of Assets and Liab...</td>\n",
              "      <td>K050000</td>\n",
              "      <td>AN00000</td>\n",
              "      <td>FINAL</td>\n",
              "      <td>0</td>\n",
              "    </tr>\n",
              "    <tr>\n",
              "      <th>15136</th>\n",
              "      <td>2014.03</td>\n",
              "      <td>Investment funds</td>\n",
              "      <td>231</td>\n",
              "      <td>Other Changes in the Volume of Assets and Liab...</td>\n",
              "      <td>K050000</td>\n",
              "      <td>AN00000</td>\n",
              "      <td>FINAL</td>\n",
              "      <td>0</td>\n",
              "    </tr>\n",
              "    <tr>\n",
              "      <th>15137</th>\n",
              "      <td>2015.03</td>\n",
              "      <td>Investment funds</td>\n",
              "      <td>231</td>\n",
              "      <td>Other Changes in the Volume of Assets an</td>\n",
              "      <td>NaN</td>\n",
              "      <td>NaN</td>\n",
              "      <td>NaN</td>\n",
              "      <td>NaN</td>\n",
              "    </tr>\n",
              "  </tbody>\n",
              "</table>\n",
              "<p>15138 rows × 8 columns</p>\n",
              "</div>"
            ],
            "text/plain": [
              "          Year       Institutional_sector_name  ...   Status  Values\n",
              "0      2008.03  Corporate business enterprises  ...  REVISED  225544\n",
              "1      2009.03  Corporate business enterprises  ...  REVISED  243315\n",
              "2      2010.03  Corporate business enterprises  ...  REVISED  259381\n",
              "3      2011.03  Corporate business enterprises  ...  REVISED  262596\n",
              "4      2012.03  Corporate business enterprises  ...  REVISED  267100\n",
              "...        ...                             ...  ...      ...     ...\n",
              "15133  2011.03                Investment funds  ...    FINAL       0\n",
              "15134  2012.03                Investment funds  ...    FINAL       0\n",
              "15135  2013.03                Investment funds  ...    FINAL       0\n",
              "15136  2014.03                Investment funds  ...    FINAL       0\n",
              "15137  2015.03                Investment funds  ...      NaN     NaN\n",
              "\n",
              "[15138 rows x 8 columns]"
            ]
          },
          "metadata": {
            "tags": []
          },
          "execution_count": 15
        }
      ]
    },
    {
      "cell_type": "code",
      "metadata": {
        "id": "huj3Iu15lB-H",
        "colab": {
          "base_uri": "https://localhost:8080/",
          "height": 419
        },
        "outputId": "d7149243-5dff-47d5-bb96-6fd0a6c8606e"
      },
      "source": [
        "fil[['Year','Descriptor']]"
      ],
      "execution_count": null,
      "outputs": [
        {
          "output_type": "execute_result",
          "data": {
            "text/html": [
              "<div>\n",
              "<style scoped>\n",
              "    .dataframe tbody tr th:only-of-type {\n",
              "        vertical-align: middle;\n",
              "    }\n",
              "\n",
              "    .dataframe tbody tr th {\n",
              "        vertical-align: top;\n",
              "    }\n",
              "\n",
              "    .dataframe thead th {\n",
              "        text-align: right;\n",
              "    }\n",
              "</style>\n",
              "<table border=\"1\" class=\"dataframe\">\n",
              "  <thead>\n",
              "    <tr style=\"text-align: right;\">\n",
              "      <th></th>\n",
              "      <th>Year</th>\n",
              "      <th>Descriptor</th>\n",
              "    </tr>\n",
              "  </thead>\n",
              "  <tbody>\n",
              "    <tr>\n",
              "      <th>0</th>\n",
              "      <td>2008.03</td>\n",
              "      <td>Capital Account Opening balances Produced non-...</td>\n",
              "    </tr>\n",
              "    <tr>\n",
              "      <th>1</th>\n",
              "      <td>2009.03</td>\n",
              "      <td>Capital Account Opening balances Produced non-...</td>\n",
              "    </tr>\n",
              "    <tr>\n",
              "      <th>2</th>\n",
              "      <td>2010.03</td>\n",
              "      <td>Capital Account Opening balances Produced non-...</td>\n",
              "    </tr>\n",
              "    <tr>\n",
              "      <th>3</th>\n",
              "      <td>2011.03</td>\n",
              "      <td>Capital Account Opening balances Produced non-...</td>\n",
              "    </tr>\n",
              "    <tr>\n",
              "      <th>4</th>\n",
              "      <td>2012.03</td>\n",
              "      <td>Capital Account Opening balances Produced non-...</td>\n",
              "    </tr>\n",
              "    <tr>\n",
              "      <th>...</th>\n",
              "      <td>...</td>\n",
              "      <td>...</td>\n",
              "    </tr>\n",
              "    <tr>\n",
              "      <th>15133</th>\n",
              "      <td>2011.03</td>\n",
              "      <td>Other Changes in the Volume of Assets and Liab...</td>\n",
              "    </tr>\n",
              "    <tr>\n",
              "      <th>15134</th>\n",
              "      <td>2012.03</td>\n",
              "      <td>Other Changes in the Volume of Assets and Liab...</td>\n",
              "    </tr>\n",
              "    <tr>\n",
              "      <th>15135</th>\n",
              "      <td>2013.03</td>\n",
              "      <td>Other Changes in the Volume of Assets and Liab...</td>\n",
              "    </tr>\n",
              "    <tr>\n",
              "      <th>15136</th>\n",
              "      <td>2014.03</td>\n",
              "      <td>Other Changes in the Volume of Assets and Liab...</td>\n",
              "    </tr>\n",
              "    <tr>\n",
              "      <th>15137</th>\n",
              "      <td>2015.03</td>\n",
              "      <td>Other Changes in the Volume of Assets an</td>\n",
              "    </tr>\n",
              "  </tbody>\n",
              "</table>\n",
              "<p>15138 rows × 2 columns</p>\n",
              "</div>"
            ],
            "text/plain": [
              "          Year                                         Descriptor\n",
              "0      2008.03  Capital Account Opening balances Produced non-...\n",
              "1      2009.03  Capital Account Opening balances Produced non-...\n",
              "2      2010.03  Capital Account Opening balances Produced non-...\n",
              "3      2011.03  Capital Account Opening balances Produced non-...\n",
              "4      2012.03  Capital Account Opening balances Produced non-...\n",
              "...        ...                                                ...\n",
              "15133  2011.03  Other Changes in the Volume of Assets and Liab...\n",
              "15134  2012.03  Other Changes in the Volume of Assets and Liab...\n",
              "15135  2013.03  Other Changes in the Volume of Assets and Liab...\n",
              "15136  2014.03  Other Changes in the Volume of Assets and Liab...\n",
              "15137  2015.03           Other Changes in the Volume of Assets an\n",
              "\n",
              "[15138 rows x 2 columns]"
            ]
          },
          "metadata": {
            "tags": []
          },
          "execution_count": 18
        }
      ]
    },
    {
      "cell_type": "code",
      "metadata": {
        "id": "so130zTnlPXV",
        "colab": {
          "base_uri": "https://localhost:8080/",
          "height": 185
        },
        "outputId": "8580e5cd-0558-480f-f9c2-9af0b20e8ecb"
      },
      "source": [
        "fil[3:4]"
      ],
      "execution_count": null,
      "outputs": [
        {
          "output_type": "execute_result",
          "data": {
            "text/html": [
              "<div>\n",
              "<style scoped>\n",
              "    .dataframe tbody tr th:only-of-type {\n",
              "        vertical-align: middle;\n",
              "    }\n",
              "\n",
              "    .dataframe tbody tr th {\n",
              "        vertical-align: top;\n",
              "    }\n",
              "\n",
              "    .dataframe thead th {\n",
              "        text-align: right;\n",
              "    }\n",
              "</style>\n",
              "<table border=\"1\" class=\"dataframe\">\n",
              "  <thead>\n",
              "    <tr style=\"text-align: right;\">\n",
              "      <th></th>\n",
              "      <th>Year</th>\n",
              "      <th>Institutional_sector_name</th>\n",
              "      <th>Institutional_sector_code</th>\n",
              "      <th>Descriptor</th>\n",
              "      <th>SNA08TRANS</th>\n",
              "      <th>Asset_liability_code</th>\n",
              "      <th>Status</th>\n",
              "      <th>Values</th>\n",
              "    </tr>\n",
              "  </thead>\n",
              "  <tbody>\n",
              "    <tr>\n",
              "      <th>3</th>\n",
              "      <td>2011.03</td>\n",
              "      <td>Corporate business enterprises</td>\n",
              "      <td>141</td>\n",
              "      <td>Capital Account Opening balances Produced non-...</td>\n",
              "      <td>LS00000</td>\n",
              "      <td>AN10000</td>\n",
              "      <td>REVISED</td>\n",
              "      <td>262596</td>\n",
              "    </tr>\n",
              "  </tbody>\n",
              "</table>\n",
              "</div>"
            ],
            "text/plain": [
              "      Year       Institutional_sector_name  ...   Status  Values\n",
              "3  2011.03  Corporate business enterprises  ...  REVISED  262596\n",
              "\n",
              "[1 rows x 8 columns]"
            ]
          },
          "metadata": {
            "tags": []
          },
          "execution_count": 19
        }
      ]
    },
    {
      "cell_type": "code",
      "metadata": {
        "id": "eqhurt5qlc59",
        "colab": {
          "base_uri": "https://localhost:8080/",
          "height": 142
        },
        "outputId": "80d7f4b3-85a7-4c70-c01b-5884602f76ae"
      },
      "source": [
        "df\n"
      ],
      "execution_count": null,
      "outputs": [
        {
          "output_type": "execute_result",
          "data": {
            "text/html": [
              "<div>\n",
              "<style scoped>\n",
              "    .dataframe tbody tr th:only-of-type {\n",
              "        vertical-align: middle;\n",
              "    }\n",
              "\n",
              "    .dataframe tbody tr th {\n",
              "        vertical-align: top;\n",
              "    }\n",
              "\n",
              "    .dataframe thead th {\n",
              "        text-align: right;\n",
              "    }\n",
              "</style>\n",
              "<table border=\"1\" class=\"dataframe\">\n",
              "  <thead>\n",
              "    <tr style=\"text-align: right;\">\n",
              "      <th></th>\n",
              "      <th>name</th>\n",
              "      <th>age</th>\n",
              "      <th>runs</th>\n",
              "    </tr>\n",
              "  </thead>\n",
              "  <tbody>\n",
              "    <tr>\n",
              "      <th>0</th>\n",
              "      <td>rohit</td>\n",
              "      <td>22</td>\n",
              "      <td>55</td>\n",
              "    </tr>\n",
              "    <tr>\n",
              "      <th>1</th>\n",
              "      <td>kohli</td>\n",
              "      <td>44</td>\n",
              "      <td>77</td>\n",
              "    </tr>\n",
              "    <tr>\n",
              "      <th>2</th>\n",
              "      <td>rup</td>\n",
              "      <td>33</td>\n",
              "      <td>66</td>\n",
              "    </tr>\n",
              "  </tbody>\n",
              "</table>\n",
              "</div>"
            ],
            "text/plain": [
              "    name  age  runs\n",
              "0  rohit   22    55\n",
              "1  kohli   44    77\n",
              "2    rup   33    66"
            ]
          },
          "metadata": {
            "tags": []
          },
          "execution_count": 20
        }
      ]
    },
    {
      "cell_type": "code",
      "metadata": {
        "id": "JD3srD8Um-9_",
        "colab": {
          "base_uri": "https://localhost:8080/",
          "height": 180
        },
        "outputId": "35d4a391-af18-480e-d7ea-495e54e385f1"
      },
      "source": [
        "import pandas as pd\n",
        "df.loc[[0,1],'age']"
      ],
      "execution_count": null,
      "outputs": [
        {
          "output_type": "error",
          "ename": "NameError",
          "evalue": "ignored",
          "traceback": [
            "\u001b[0;31m---------------------------------------------------------------------------\u001b[0m",
            "\u001b[0;31mNameError\u001b[0m                                 Traceback (most recent call last)",
            "\u001b[0;32m<ipython-input-5-391b62d42c62>\u001b[0m in \u001b[0;36m<module>\u001b[0;34m()\u001b[0m\n\u001b[1;32m      1\u001b[0m \u001b[0;32mimport\u001b[0m \u001b[0mpandas\u001b[0m \u001b[0;32mas\u001b[0m \u001b[0mpd\u001b[0m\u001b[0;34m\u001b[0m\u001b[0;34m\u001b[0m\u001b[0m\n\u001b[0;32m----> 2\u001b[0;31m \u001b[0mdf\u001b[0m\u001b[0;34m.\u001b[0m\u001b[0mloc\u001b[0m\u001b[0;34m[\u001b[0m\u001b[0;34m[\u001b[0m\u001b[0;36m0\u001b[0m\u001b[0;34m,\u001b[0m\u001b[0;36m1\u001b[0m\u001b[0;34m]\u001b[0m\u001b[0;34m,\u001b[0m\u001b[0;34m'age'\u001b[0m\u001b[0;34m]\u001b[0m\u001b[0;34m\u001b[0m\u001b[0;34m\u001b[0m\u001b[0m\n\u001b[0m",
            "\u001b[0;31mNameError\u001b[0m: name 'df' is not defined"
          ]
        }
      ]
    },
    {
      "cell_type": "code",
      "metadata": {
        "id": "EfmHIHixnhCb"
      },
      "source": [
        "df.loc[::]"
      ],
      "execution_count": null,
      "outputs": []
    },
    {
      "cell_type": "code",
      "metadata": {
        "id": "46VW1Y8cdwH_"
      },
      "source": [
        "import numpy as np"
      ],
      "execution_count": null,
      "outputs": []
    },
    {
      "cell_type": "code",
      "metadata": {
        "id": "NVEqb0K_d9Zq",
        "colab": {
          "base_uri": "https://localhost:8080/",
          "height": 34
        },
        "outputId": "285d5193-67f1-477f-fb8c-50bea40ee167"
      },
      "source": [
        "poonam=np.array([15,14,10,18,19])\n",
        "dileep=np.array([13,12,11,15,17])\n",
        "poonam>=dileep"
      ],
      "execution_count": null,
      "outputs": [
        {
          "output_type": "execute_result",
          "data": {
            "text/plain": [
              "array([ True,  True, False,  True,  True])"
            ]
          },
          "metadata": {
            "tags": []
          },
          "execution_count": 4
        }
      ]
    },
    {
      "cell_type": "code",
      "metadata": {
        "id": "kskBGqRneoC9",
        "colab": {
          "base_uri": "https://localhost:8080/",
          "height": 34
        },
        "outputId": "68f9f60d-2106-48b4-caad-eb977fe85c6c"
      },
      "source": [
        "'python'=='Python'"
      ],
      "execution_count": null,
      "outputs": [
        {
          "output_type": "execute_result",
          "data": {
            "text/plain": [
              "False"
            ]
          },
          "metadata": {
            "tags": []
          },
          "execution_count": 6
        }
      ]
    },
    {
      "cell_type": "code",
      "metadata": {
        "id": "ygy647jwePm6",
        "colab": {
          "base_uri": "https://localhost:8080/",
          "height": 34
        },
        "outputId": "0ecd1cc4-5182-4c60-98c0-556e375100aa"
      },
      "source": [
        "dileep=np.array([13,12,11,15,17])\n",
        "dileep>15"
      ],
      "execution_count": null,
      "outputs": [
        {
          "output_type": "execute_result",
          "data": {
            "text/plain": [
              "array([False, False, False, False,  True])"
            ]
          },
          "metadata": {
            "tags": []
          },
          "execution_count": 7
        }
      ]
    },
    {
      "cell_type": "code",
      "metadata": {
        "id": "fXfGSjH8fBoy",
        "colab": {
          "base_uri": "https://localhost:8080/",
          "height": 34
        },
        "outputId": "e4431dd0-0862-4c17-e395-d3e84d0dce62"
      },
      "source": [
        "my_marks=15\n",
        "your_marks=5\n",
        "my_marks>10 and your_marks<10"
      ],
      "execution_count": null,
      "outputs": [
        {
          "output_type": "execute_result",
          "data": {
            "text/plain": [
              "True"
            ]
          },
          "metadata": {
            "tags": []
          },
          "execution_count": 8
        }
      ]
    },
    {
      "cell_type": "code",
      "metadata": {
        "id": "WNd3M5zhgodh",
        "colab": {
          "base_uri": "https://localhost:8080/",
          "height": 34
        },
        "outputId": "4dee9cc3-16f5-4970-ea90-7208af81f8b5"
      },
      "source": [
        "my_marks>10 or your_marks<10"
      ],
      "execution_count": null,
      "outputs": [
        {
          "output_type": "execute_result",
          "data": {
            "text/plain": [
              "True"
            ]
          },
          "metadata": {
            "tags": []
          },
          "execution_count": 10
        }
      ]
    },
    {
      "cell_type": "code",
      "metadata": {
        "id": "-PEwqOyPgvpG",
        "colab": {
          "base_uri": "https://localhost:8080/",
          "height": 34
        },
        "outputId": "5292a208-2aad-4d2f-839c-65cc3114a551"
      },
      "source": [
        "my_marks*2>15"
      ],
      "execution_count": null,
      "outputs": [
        {
          "output_type": "execute_result",
          "data": {
            "text/plain": [
              "True"
            ]
          },
          "metadata": {
            "tags": []
          },
          "execution_count": 11
        }
      ]
    },
    {
      "cell_type": "code",
      "metadata": {
        "id": "k240y1nQhBMS",
        "colab": {
          "base_uri": "https://localhost:8080/",
          "height": 34
        },
        "outputId": "16b17c15-8e5e-4a17-aa2b-b9c7e1db485b"
      },
      "source": [
        "poonam"
      ],
      "execution_count": null,
      "outputs": [
        {
          "output_type": "execute_result",
          "data": {
            "text/plain": [
              "array([15, 14, 10, 18, 19])"
            ]
          },
          "metadata": {
            "tags": []
          },
          "execution_count": 12
        }
      ]
    },
    {
      "cell_type": "code",
      "metadata": {
        "id": "puXLwijihUJ0",
        "colab": {
          "base_uri": "https://localhost:8080/",
          "height": 34
        },
        "outputId": "9aa26dba-3469-4155-ec16-d8b7c13df91f"
      },
      "source": [
        "poonam>15"
      ],
      "execution_count": null,
      "outputs": [
        {
          "output_type": "execute_result",
          "data": {
            "text/plain": [
              "array([False, False, False,  True,  True])"
            ]
          },
          "metadata": {
            "tags": []
          },
          "execution_count": 13
        }
      ]
    },
    {
      "cell_type": "code",
      "metadata": {
        "id": "OcM6DZCWhakp",
        "colab": {
          "base_uri": "https://localhost:8080/",
          "height": 34
        },
        "outputId": "47e53f87-aa0d-4bfd-b346-3f4473549a19"
      },
      "source": [
        "np.logical_or(poonam>15,poonam<15)"
      ],
      "execution_count": null,
      "outputs": [
        {
          "output_type": "execute_result",
          "data": {
            "text/plain": [
              "array([False,  True,  True,  True,  True])"
            ]
          },
          "metadata": {
            "tags": []
          },
          "execution_count": 17
        }
      ]
    }
  ]
}